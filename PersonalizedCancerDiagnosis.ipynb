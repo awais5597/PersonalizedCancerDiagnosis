{
  "nbformat": 4,
  "nbformat_minor": 0,
  "metadata": {
    "colab": {
      "provenance": []
    },
    "language_info": {
      "codemirror_mode": {
        "name": "ipython",
        "version": 3
      },
      "file_extension": ".py",
      "mimetype": "text/x-python",
      "name": "python",
      "nbconvert_exporter": "python",
      "pygments_lexer": "ipython3",
      "version": "3.6.5"
    },
    "kernelspec": {
      "display_name": "Python 3",
      "name": "python3"
    }
  },
  "cells": [
    {
      "cell_type": "markdown",
      "metadata": {
        "id": "xCjRvTxKOQuR"
      },
      "source": [
        "# Personalized cancer diagnosis"
      ]
    },
    {
      "cell_type": "markdown",
      "metadata": {
        "id": "kJilLeTgOQuf"
      },
      "source": [
        "## Data"
      ]
    },
    {
      "cell_type": "markdown",
      "metadata": {
        "id": "GAkBG-9JOQuf"
      },
      "source": [
        "### Data Overview"
      ]
    },
    {
      "cell_type": "markdown",
      "metadata": {
        "id": "_xgJzFEHOQuh"
      },
      "source": [
        "- Source: https://www.kaggle.com/c/msk-redefining-cancer-treatment/data\n",
        "\n",
        "- <p>\n",
        "    Data file's information:\n",
        "    <ul>\n",
        "        <li>\n",
        "        training_variants (ID , Gene, Variations, Class) - This file conatins the information about the genetic mutations and the other contains the clinical evidence (text) that  human experts use to classify the genetic mutations.\n",
        "        </li>\n",
        "        <li>\n",
        "        training_text (ID, Text)\n",
        "        </li>\n",
        "    </ul>\n",
        "</p>\n",
        "- Both these data files are have a common column called ID"
      ]
    },
    {
      "cell_type": "markdown",
      "metadata": {
        "id": "lUV7vz1iOQui"
      },
      "source": [
        "Example Data Point"
      ]
    },
    {
      "cell_type": "markdown",
      "metadata": {
        "id": "t4UYmjTIOQuj"
      },
      "source": [
        "<h6>training_variants</h6>\n",
        "<hr>\n",
        "ID,Gene,Variation,Class<br>\n",
        "<br>10,CBL,P395A,4</br>\n",
        "<br>11,CBL,K382E,4</br>\n",
        "<br>12,CBL,R420Q,4</br>\n",
        "<br>13,CBL,C381A,4</br>\n",
        "<br>14,CBL,P428L,5</br>\n",
        "...\n",
        "\n",
        "<h6> training_text</h6>\n",
        "<hr>\n",
        "ID,Text <br>\n",
        "1|| Abstract Background  Non-small cell lung cancer (NSCLC) is a heterogeneous group of disorders with a number of genetic and proteomic alterations. c-CBL is an E3 ubiquitin ligase and adaptor molecule important in normal homeostasis and cancer. We determined the genetic variations of c-CBL, relationship to receptor tyrosine kinases (EGFR and MET), and functionality in NSCLC.  Methods and Findings  Using archival formalin-fixed paraffin embedded (FFPE) extracted genomic DNA, we show that c-CBL mutations occur in somatic fashion for lung cancers. c-CBL mutations were not mutually exclusive of MET or EGFR mutations; however they were independent of p53 and KRAS mutations. In normal/tumor pairwise analysis, there was significant loss of heterozygosity (LOH) for the c-CBL locus (22%, n = 8/37) and none of these samples revealed any mutation in the remaining copy of c-CBL. The c-CBL LOH also positively correlated with EGFR and MET mutations observed in the same samples. Using select c-CBL somatic mutations such as S80N/H94Y, Q249E and W802* (obtained from Caucasian, Taiwanese and African-American samples, respectively) transfected in NSCLC cell lines, there was increased cell viability and cell motility.  Conclusions  Taking the overall mutation rate of c-CBL to be a combination as somatic missense mutation and LOH, it is clear that c-CBL is highly mutated in lung cancers and may play an essential role in lung tumorigenesis and metastasis.  Go to: Introduction In the US alone, each year approximately 219,400 people are diagnosed with lung cancers, out of which more than 145,000 of them succumb to the disease [1]. This number is roughly equivalent to the combined mortality rates of cancers of the breast, prostate, colon, liver, kidney and melanoma [1]. In addition the prognosis is usually poor and the five-year survival rate is less than 15%. There are also significant ethnic differences for lung cancer, and the outcome is worse for blacks compared to whites. Gender differences are also striking with women having significantly better prognosis as compared to men. There are a number of genetic alterations that can occur in lung cancer. As an example, in NSCLC, mutations in KRAS, p53, EGFR and MET have been identified. Many of these pathways, especially Receptor Tyrosine Kinases (RTKs) are controlled by c-CBL.  CBL (Casitas B-lineage lymphoma) is a mammalian gene located on human chromosome 11q23 ..."
      ]
    },
    {
      "cell_type": "markdown",
      "metadata": {
        "id": "TZqA3ItzOQun"
      },
      "source": [
        "There are nine different classes a genetic mutation can be classified into => Multi class classification problem         \n"
      ]
    },
    {
      "cell_type": "markdown",
      "metadata": {
        "id": "9uokTUjYOQuo"
      },
      "source": [
        "<h3>Performance Metric</h3>"
      ]
    },
    {
      "cell_type": "markdown",
      "metadata": {
        "id": "kg0MC7b6OQup"
      },
      "source": [
        "\n",
        "Metric(s):\n",
        "* Multi class log-loss\n",
        "* Confusion matrix\n"
      ]
    },
    {
      "cell_type": "markdown",
      "metadata": {
        "id": "2rqQ1-rkOQuq"
      },
      "source": [
        "<h3>Objective</h3>"
      ]
    },
    {
      "cell_type": "markdown",
      "metadata": {
        "id": "Kn3tUsrjOQur"
      },
      "source": [
        "<p>Predict the probability of each data-point belonging to each of the nine classes.\n",
        "</p>\n"
      ]
    },
    {
      "cell_type": "markdown",
      "metadata": {
        "id": "j0VVGc0_OQuu"
      },
      "source": [
        "<h1>Exploratory Data Analysis</h1>"
      ]
    },
    {
      "cell_type": "code",
      "metadata": {
        "id": "6_tz3SlAOQuv"
      },
      "source": [
        "import pandas as pd\n",
        "import matplotlib.pyplot as plt\n",
        "import re\n",
        "import time\n",
        "import warnings\n",
        "import numpy as np\n",
        "from nltk.corpus import stopwords\n",
        "from sklearn.decomposition import TruncatedSVD\n",
        "from sklearn.preprocessing import normalize\n",
        "from sklearn.feature_extraction.text import CountVectorizer\n",
        "from sklearn.manifold import TSNE\n",
        "import seaborn as sns\n",
        "from sklearn.neighbors import KNeighborsClassifier\n",
        "from sklearn.metrics import confusion_matrix\n",
        "from sklearn.metrics import accuracy_score, log_loss\n",
        "from sklearn.feature_extraction.text import TfidfVectorizer\n",
        "from sklearn.linear_model import SGDClassifier\n",
        "from imblearn.over_sampling import SMOTE\n",
        "from collections import Counter\n",
        "from scipy.sparse import hstack\n",
        "from sklearn.multiclass import OneVsRestClassifier\n",
        "from sklearn.svm import SVC\n",
        "from sklearn.model_selection import StratifiedKFold\n",
        "from collections import Counter, defaultdict\n",
        "from sklearn.calibration import CalibratedClassifierCV\n",
        "from sklearn.naive_bayes import MultinomialNB\n",
        "from sklearn.naive_bayes import GaussianNB\n",
        "from sklearn.model_selection import train_test_split\n",
        "from sklearn.model_selection import GridSearchCV\n",
        "import math\n",
        "from sklearn.metrics import normalized_mutual_info_score\n",
        "from sklearn.ensemble import RandomForestClassifier\n",
        "warnings.filterwarnings(\"ignore\")\n",
        "import six\n",
        "import sys\n",
        "sys.modules['sklearn.externals.six'] = six\n",
        "from mlxtend.classifier import StackingClassifier\n",
        "from sklearn import model_selection\n",
        "from sklearn.linear_model import LogisticRegression"
      ],
      "execution_count": 1,
      "outputs": []
    },
    {
      "cell_type": "markdown",
      "metadata": {
        "id": "M7AMKFKcOQu1"
      },
      "source": [
        "<h2>Reading Data</h2>"
      ]
    },
    {
      "cell_type": "markdown",
      "metadata": {
        "id": "aBdBb2H3OQu2"
      },
      "source": [
        "<h3>Reading Gene and Variation Data</h3>"
      ]
    },
    {
      "cell_type": "code",
      "source": [
        "from google.colab import drive\n",
        "\n",
        "drive.mount('/content/drive')"
      ],
      "metadata": {
        "colab": {
          "base_uri": "https://localhost:8080/"
        },
        "id": "AeQui1gAScCE",
        "outputId": "f2292e32-530f-45d2-8440-8d2ee8815758"
      },
      "execution_count": 2,
      "outputs": [
        {
          "output_type": "stream",
          "name": "stdout",
          "text": [
            "Mounted at /content/drive\n"
          ]
        }
      ]
    },
    {
      "cell_type": "code",
      "source": [
        "!mkdir ~/.kaggle\n",
        "\n",
        "# Read the uploaded kaggle.json file\n",
        "\n",
        "!cp /content/drive/MyDrive/kaggle.json ~/.kaggle/\n",
        "\n",
        "!!kaggle competitions download -c msk-redefining-cancer-treatment"
      ],
      "metadata": {
        "id": "FTiUUd2YRvIB",
        "colab": {
          "base_uri": "https://localhost:8080/"
        },
        "outputId": "0f3eef89-9078-4830-dbc5-ea919135e7da"
      },
      "execution_count": 3,
      "outputs": [
        {
          "output_type": "execute_result",
          "data": {
            "text/plain": [
              "['Downloading msk-redefining-cancer-treatment.zip to /content',\n",
              " '',\n",
              " '  0% 0.00/169M [00:00<?, ?B/s]',\n",
              " '  1% 1.00M/169M [00:00<01:25, 2.05MB/s]',\n",
              " '  2% 3.00M/169M [00:00<00:30, 5.63MB/s]',\n",
              " '  4% 7.00M/169M [00:00<00:12, 13.4MB/s]',\n",
              " '  7% 11.0M/169M [00:00<00:08, 19.7MB/s]',\n",
              " '  9% 15.0M/169M [00:00<00:06, 25.0MB/s]',\n",
              " ' 11% 19.0M/169M [00:01<00:05, 28.4MB/s]',\n",
              " ' 14% 23.0M/169M [00:01<00:05, 26.7MB/s]',\n",
              " ' 15% 26.0M/169M [00:01<00:07, 19.8MB/s]',\n",
              " ' 17% 29.0M/169M [00:01<00:07, 20.4MB/s]',\n",
              " ' 20% 33.0M/169M [00:01<00:05, 23.9MB/s]',\n",
              " ' 23% 39.0M/169M [00:01<00:04, 30.5MB/s]',\n",
              " ' 26% 44.0M/169M [00:02<00:03, 33.0MB/s]',\n",
              " ' 29% 49.0M/169M [00:02<00:03, 36.4MB/s]',\n",
              " ' 31% 53.0M/169M [00:02<00:03, 35.4MB/s]',\n",
              " ' 34% 58.0M/169M [00:02<00:03, 30.1MB/s]',\n",
              " ' 38% 64.0M/169M [00:02<00:03, 36.2MB/s]',\n",
              " ' 40% 68.0M/169M [00:02<00:03, 34.8MB/s]',\n",
              " ' 43% 73.0M/169M [00:02<00:02, 38.5MB/s]',\n",
              " ' 46% 77.0M/169M [00:03<00:02, 37.1MB/s]',\n",
              " ' 48% 81.0M/169M [00:03<00:02, 34.8MB/s]',\n",
              " ' 52% 87.0M/169M [00:03<00:02, 40.4MB/s]',\n",
              " ' 55% 92.0M/169M [00:03<00:02, 34.7MB/s]',\n",
              " ' 58% 98.0M/169M [00:03<00:03, 22.2MB/s]',\n",
              " ' 62% 104M/169M [00:04<00:02, 27.9MB/s] ',\n",
              " ' 64% 108M/169M [00:04<00:02, 30.0MB/s]',\n",
              " ' 67% 113M/169M [00:04<00:01, 31.3MB/s]',\n",
              " ' 71% 119M/169M [00:04<00:01, 37.2MB/s]',\n",
              " ' 74% 124M/169M [00:04<00:01, 35.5MB/s]',\n",
              " ' 77% 129M/169M [00:04<00:01, 36.9MB/s]',\n",
              " ' 80% 135M/169M [00:04<00:00, 40.1MB/s]',\n",
              " ' 83% 140M/169M [00:04<00:00, 37.2MB/s]',\n",
              " ' 86% 145M/169M [00:05<00:00, 37.9MB/s]',\n",
              " ' 89% 150M/169M [00:05<00:00, 40.6MB/s]',\n",
              " ' 92% 155M/169M [00:05<00:00, 36.4MB/s]',\n",
              " ' 95% 160M/169M [00:05<00:00, 39.2MB/s]',\n",
              " ' 97% 164M/169M [00:05<00:00, 37.3MB/s]',\n",
              " '',\n",
              " '100% 169M/169M [00:05<00:00, 30.8MB/s]']"
            ]
          },
          "metadata": {},
          "execution_count": 3
        }
      ]
    },
    {
      "cell_type": "code",
      "source": [
        "!unzip /content/msk-redefining-cancer-treatment.zip"
      ],
      "metadata": {
        "id": "kBLPPs-vUNeQ",
        "colab": {
          "base_uri": "https://localhost:8080/"
        },
        "outputId": "0581ef11-1c52-465a-beb2-e55f8971e577"
      },
      "execution_count": 4,
      "outputs": [
        {
          "output_type": "stream",
          "name": "stdout",
          "text": [
            "Archive:  /content/msk-redefining-cancer-treatment.zip\n",
            "  inflating: stage1_solution_filtered.csv.7z  \n",
            "  inflating: stage2_sample_submission.csv.7z  \n",
            "  inflating: stage2_test_text.csv.7z  \n",
            "  inflating: stage2_test_variants.csv.7z  \n",
            "  inflating: stage_2_private_solution.csv.7z  \n",
            "  inflating: test_text.zip           \n",
            "  inflating: test_variants.zip       \n",
            "  inflating: training_text.zip       \n",
            "  inflating: training_variants.zip   \n"
          ]
        }
      ]
    },
    {
      "cell_type": "code",
      "source": [
        "!unzip /content/test_text.zip\n",
        "!unzip /content/test_variants.zip\n",
        "!unzip /content/training_text.zip\n",
        "!unzip /content/training_variants.zip"
      ],
      "metadata": {
        "id": "aAo_C5GIUT-v",
        "colab": {
          "base_uri": "https://localhost:8080/"
        },
        "outputId": "5256eea1-08de-4698-8061-63437d858c5d"
      },
      "execution_count": 5,
      "outputs": [
        {
          "output_type": "stream",
          "name": "stdout",
          "text": [
            "Archive:  /content/test_text.zip\n",
            "  inflating: test_text               \n",
            "Archive:  /content/test_variants.zip\n",
            "  inflating: test_variants           \n",
            "Archive:  /content/training_text.zip\n",
            "  inflating: training_text           \n",
            "Archive:  /content/training_variants.zip\n",
            "  inflating: training_variants       \n"
          ]
        }
      ]
    },
    {
      "cell_type": "code",
      "metadata": {
        "id": "0Os-owW1OQu2",
        "colab": {
          "base_uri": "https://localhost:8080/",
          "height": 260
        },
        "outputId": "e2902931-11d2-49c2-a720-4f752c795444"
      },
      "source": [
        "data = pd.read_csv('/content/training_variants')\n",
        "print('Number of data points : ', data.shape[0])\n",
        "print('Number of features : ', data.shape[1])\n",
        "print('Features : ', data.columns.values)\n",
        "data.head()"
      ],
      "execution_count": 6,
      "outputs": [
        {
          "output_type": "stream",
          "name": "stdout",
          "text": [
            "Number of data points :  3321\n",
            "Number of features :  4\n",
            "Features :  ['ID' 'Gene' 'Variation' 'Class']\n"
          ]
        },
        {
          "output_type": "execute_result",
          "data": {
            "text/plain": [
              "   ID    Gene             Variation  Class\n",
              "0   0  FAM58A  Truncating Mutations      1\n",
              "1   1     CBL                 W802*      2\n",
              "2   2     CBL                 Q249E      2\n",
              "3   3     CBL                 N454D      3\n",
              "4   4     CBL                 L399V      4"
            ],
            "text/html": [
              "\n",
              "  <div id=\"df-3e0fdb6b-c76d-4812-a175-eac2ead57886\" class=\"colab-df-container\">\n",
              "    <div>\n",
              "<style scoped>\n",
              "    .dataframe tbody tr th:only-of-type {\n",
              "        vertical-align: middle;\n",
              "    }\n",
              "\n",
              "    .dataframe tbody tr th {\n",
              "        vertical-align: top;\n",
              "    }\n",
              "\n",
              "    .dataframe thead th {\n",
              "        text-align: right;\n",
              "    }\n",
              "</style>\n",
              "<table border=\"1\" class=\"dataframe\">\n",
              "  <thead>\n",
              "    <tr style=\"text-align: right;\">\n",
              "      <th></th>\n",
              "      <th>ID</th>\n",
              "      <th>Gene</th>\n",
              "      <th>Variation</th>\n",
              "      <th>Class</th>\n",
              "    </tr>\n",
              "  </thead>\n",
              "  <tbody>\n",
              "    <tr>\n",
              "      <th>0</th>\n",
              "      <td>0</td>\n",
              "      <td>FAM58A</td>\n",
              "      <td>Truncating Mutations</td>\n",
              "      <td>1</td>\n",
              "    </tr>\n",
              "    <tr>\n",
              "      <th>1</th>\n",
              "      <td>1</td>\n",
              "      <td>CBL</td>\n",
              "      <td>W802*</td>\n",
              "      <td>2</td>\n",
              "    </tr>\n",
              "    <tr>\n",
              "      <th>2</th>\n",
              "      <td>2</td>\n",
              "      <td>CBL</td>\n",
              "      <td>Q249E</td>\n",
              "      <td>2</td>\n",
              "    </tr>\n",
              "    <tr>\n",
              "      <th>3</th>\n",
              "      <td>3</td>\n",
              "      <td>CBL</td>\n",
              "      <td>N454D</td>\n",
              "      <td>3</td>\n",
              "    </tr>\n",
              "    <tr>\n",
              "      <th>4</th>\n",
              "      <td>4</td>\n",
              "      <td>CBL</td>\n",
              "      <td>L399V</td>\n",
              "      <td>4</td>\n",
              "    </tr>\n",
              "  </tbody>\n",
              "</table>\n",
              "</div>\n",
              "    <div class=\"colab-df-buttons\">\n",
              "\n",
              "  <div class=\"colab-df-container\">\n",
              "    <button class=\"colab-df-convert\" onclick=\"convertToInteractive('df-3e0fdb6b-c76d-4812-a175-eac2ead57886')\"\n",
              "            title=\"Convert this dataframe to an interactive table.\"\n",
              "            style=\"display:none;\">\n",
              "\n",
              "  <svg xmlns=\"http://www.w3.org/2000/svg\" height=\"24px\" viewBox=\"0 -960 960 960\">\n",
              "    <path d=\"M120-120v-720h720v720H120Zm60-500h600v-160H180v160Zm220 220h160v-160H400v160Zm0 220h160v-160H400v160ZM180-400h160v-160H180v160Zm440 0h160v-160H620v160ZM180-180h160v-160H180v160Zm440 0h160v-160H620v160Z\"/>\n",
              "  </svg>\n",
              "    </button>\n",
              "\n",
              "  <style>\n",
              "    .colab-df-container {\n",
              "      display:flex;\n",
              "      gap: 12px;\n",
              "    }\n",
              "\n",
              "    .colab-df-convert {\n",
              "      background-color: #E8F0FE;\n",
              "      border: none;\n",
              "      border-radius: 50%;\n",
              "      cursor: pointer;\n",
              "      display: none;\n",
              "      fill: #1967D2;\n",
              "      height: 32px;\n",
              "      padding: 0 0 0 0;\n",
              "      width: 32px;\n",
              "    }\n",
              "\n",
              "    .colab-df-convert:hover {\n",
              "      background-color: #E2EBFA;\n",
              "      box-shadow: 0px 1px 2px rgba(60, 64, 67, 0.3), 0px 1px 3px 1px rgba(60, 64, 67, 0.15);\n",
              "      fill: #174EA6;\n",
              "    }\n",
              "\n",
              "    .colab-df-buttons div {\n",
              "      margin-bottom: 4px;\n",
              "    }\n",
              "\n",
              "    [theme=dark] .colab-df-convert {\n",
              "      background-color: #3B4455;\n",
              "      fill: #D2E3FC;\n",
              "    }\n",
              "\n",
              "    [theme=dark] .colab-df-convert:hover {\n",
              "      background-color: #434B5C;\n",
              "      box-shadow: 0px 1px 3px 1px rgba(0, 0, 0, 0.15);\n",
              "      filter: drop-shadow(0px 1px 2px rgba(0, 0, 0, 0.3));\n",
              "      fill: #FFFFFF;\n",
              "    }\n",
              "  </style>\n",
              "\n",
              "    <script>\n",
              "      const buttonEl =\n",
              "        document.querySelector('#df-3e0fdb6b-c76d-4812-a175-eac2ead57886 button.colab-df-convert');\n",
              "      buttonEl.style.display =\n",
              "        google.colab.kernel.accessAllowed ? 'block' : 'none';\n",
              "\n",
              "      async function convertToInteractive(key) {\n",
              "        const element = document.querySelector('#df-3e0fdb6b-c76d-4812-a175-eac2ead57886');\n",
              "        const dataTable =\n",
              "          await google.colab.kernel.invokeFunction('convertToInteractive',\n",
              "                                                    [key], {});\n",
              "        if (!dataTable) return;\n",
              "\n",
              "        const docLinkHtml = 'Like what you see? Visit the ' +\n",
              "          '<a target=\"_blank\" href=https://colab.research.google.com/notebooks/data_table.ipynb>data table notebook</a>'\n",
              "          + ' to learn more about interactive tables.';\n",
              "        element.innerHTML = '';\n",
              "        dataTable['output_type'] = 'display_data';\n",
              "        await google.colab.output.renderOutput(dataTable, element);\n",
              "        const docLink = document.createElement('div');\n",
              "        docLink.innerHTML = docLinkHtml;\n",
              "        element.appendChild(docLink);\n",
              "      }\n",
              "    </script>\n",
              "  </div>\n",
              "\n",
              "\n",
              "<div id=\"df-39623ad2-7d16-4b81-9535-13ee7b355a43\">\n",
              "  <button class=\"colab-df-quickchart\" onclick=\"quickchart('df-39623ad2-7d16-4b81-9535-13ee7b355a43')\"\n",
              "            title=\"Suggest charts\"\n",
              "            style=\"display:none;\">\n",
              "\n",
              "<svg xmlns=\"http://www.w3.org/2000/svg\" height=\"24px\"viewBox=\"0 0 24 24\"\n",
              "     width=\"24px\">\n",
              "    <g>\n",
              "        <path d=\"M19 3H5c-1.1 0-2 .9-2 2v14c0 1.1.9 2 2 2h14c1.1 0 2-.9 2-2V5c0-1.1-.9-2-2-2zM9 17H7v-7h2v7zm4 0h-2V7h2v10zm4 0h-2v-4h2v4z\"/>\n",
              "    </g>\n",
              "</svg>\n",
              "  </button>\n",
              "\n",
              "<style>\n",
              "  .colab-df-quickchart {\n",
              "      --bg-color: #E8F0FE;\n",
              "      --fill-color: #1967D2;\n",
              "      --hover-bg-color: #E2EBFA;\n",
              "      --hover-fill-color: #174EA6;\n",
              "      --disabled-fill-color: #AAA;\n",
              "      --disabled-bg-color: #DDD;\n",
              "  }\n",
              "\n",
              "  [theme=dark] .colab-df-quickchart {\n",
              "      --bg-color: #3B4455;\n",
              "      --fill-color: #D2E3FC;\n",
              "      --hover-bg-color: #434B5C;\n",
              "      --hover-fill-color: #FFFFFF;\n",
              "      --disabled-bg-color: #3B4455;\n",
              "      --disabled-fill-color: #666;\n",
              "  }\n",
              "\n",
              "  .colab-df-quickchart {\n",
              "    background-color: var(--bg-color);\n",
              "    border: none;\n",
              "    border-radius: 50%;\n",
              "    cursor: pointer;\n",
              "    display: none;\n",
              "    fill: var(--fill-color);\n",
              "    height: 32px;\n",
              "    padding: 0;\n",
              "    width: 32px;\n",
              "  }\n",
              "\n",
              "  .colab-df-quickchart:hover {\n",
              "    background-color: var(--hover-bg-color);\n",
              "    box-shadow: 0 1px 2px rgba(60, 64, 67, 0.3), 0 1px 3px 1px rgba(60, 64, 67, 0.15);\n",
              "    fill: var(--button-hover-fill-color);\n",
              "  }\n",
              "\n",
              "  .colab-df-quickchart-complete:disabled,\n",
              "  .colab-df-quickchart-complete:disabled:hover {\n",
              "    background-color: var(--disabled-bg-color);\n",
              "    fill: var(--disabled-fill-color);\n",
              "    box-shadow: none;\n",
              "  }\n",
              "\n",
              "  .colab-df-spinner {\n",
              "    border: 2px solid var(--fill-color);\n",
              "    border-color: transparent;\n",
              "    border-bottom-color: var(--fill-color);\n",
              "    animation:\n",
              "      spin 1s steps(1) infinite;\n",
              "  }\n",
              "\n",
              "  @keyframes spin {\n",
              "    0% {\n",
              "      border-color: transparent;\n",
              "      border-bottom-color: var(--fill-color);\n",
              "      border-left-color: var(--fill-color);\n",
              "    }\n",
              "    20% {\n",
              "      border-color: transparent;\n",
              "      border-left-color: var(--fill-color);\n",
              "      border-top-color: var(--fill-color);\n",
              "    }\n",
              "    30% {\n",
              "      border-color: transparent;\n",
              "      border-left-color: var(--fill-color);\n",
              "      border-top-color: var(--fill-color);\n",
              "      border-right-color: var(--fill-color);\n",
              "    }\n",
              "    40% {\n",
              "      border-color: transparent;\n",
              "      border-right-color: var(--fill-color);\n",
              "      border-top-color: var(--fill-color);\n",
              "    }\n",
              "    60% {\n",
              "      border-color: transparent;\n",
              "      border-right-color: var(--fill-color);\n",
              "    }\n",
              "    80% {\n",
              "      border-color: transparent;\n",
              "      border-right-color: var(--fill-color);\n",
              "      border-bottom-color: var(--fill-color);\n",
              "    }\n",
              "    90% {\n",
              "      border-color: transparent;\n",
              "      border-bottom-color: var(--fill-color);\n",
              "    }\n",
              "  }\n",
              "</style>\n",
              "\n",
              "  <script>\n",
              "    async function quickchart(key) {\n",
              "      const quickchartButtonEl =\n",
              "        document.querySelector('#' + key + ' button');\n",
              "      quickchartButtonEl.disabled = true;  // To prevent multiple clicks.\n",
              "      quickchartButtonEl.classList.add('colab-df-spinner');\n",
              "      try {\n",
              "        const charts = await google.colab.kernel.invokeFunction(\n",
              "            'suggestCharts', [key], {});\n",
              "      } catch (error) {\n",
              "        console.error('Error during call to suggestCharts:', error);\n",
              "      }\n",
              "      quickchartButtonEl.classList.remove('colab-df-spinner');\n",
              "      quickchartButtonEl.classList.add('colab-df-quickchart-complete');\n",
              "    }\n",
              "    (() => {\n",
              "      let quickchartButtonEl =\n",
              "        document.querySelector('#df-39623ad2-7d16-4b81-9535-13ee7b355a43 button');\n",
              "      quickchartButtonEl.style.display =\n",
              "        google.colab.kernel.accessAllowed ? 'block' : 'none';\n",
              "    })();\n",
              "  </script>\n",
              "</div>\n",
              "\n",
              "    </div>\n",
              "  </div>\n"
            ],
            "application/vnd.google.colaboratory.intrinsic+json": {
              "type": "dataframe",
              "variable_name": "data",
              "summary": "{\n  \"name\": \"data\",\n  \"rows\": 3321,\n  \"fields\": [\n    {\n      \"column\": \"ID\",\n      \"properties\": {\n        \"dtype\": \"number\",\n        \"std\": 958,\n        \"min\": 0,\n        \"max\": 3320,\n        \"num_unique_values\": 3321,\n        \"samples\": [\n          1057,\n          812,\n          2658\n        ],\n        \"semantic_type\": \"\",\n        \"description\": \"\"\n      }\n    },\n    {\n      \"column\": \"Gene\",\n      \"properties\": {\n        \"dtype\": \"category\",\n        \"num_unique_values\": 264,\n        \"samples\": [\n          \"PDGFRA\",\n          \"KEAP1\",\n          \"ARID1A\"\n        ],\n        \"semantic_type\": \"\",\n        \"description\": \"\"\n      }\n    },\n    {\n      \"column\": \"Variation\",\n      \"properties\": {\n        \"dtype\": \"string\",\n        \"num_unique_values\": 2996,\n        \"samples\": [\n          \"E1384K\",\n          \"H597Y\",\n          \"V851A\"\n        ],\n        \"semantic_type\": \"\",\n        \"description\": \"\"\n      }\n    },\n    {\n      \"column\": \"Class\",\n      \"properties\": {\n        \"dtype\": \"number\",\n        \"std\": 2,\n        \"min\": 1,\n        \"max\": 9,\n        \"num_unique_values\": 9,\n        \"samples\": [\n          8,\n          2,\n          6\n        ],\n        \"semantic_type\": \"\",\n        \"description\": \"\"\n      }\n    }\n  ]\n}"
            }
          },
          "metadata": {},
          "execution_count": 6
        }
      ]
    },
    {
      "cell_type": "markdown",
      "metadata": {
        "id": "6VYO0fvbOQu8"
      },
      "source": [
        "<p>\n",
        "    training/training_variants is a comma separated file containing the description of the genetic mutations used for training. <br>\n",
        "    Fields are\n",
        "    <ul>\n",
        "        <li><b>ID : </b>the id of the row used to link the mutation to the clinical evidence</li>\n",
        "        <li><b>Gene : </b>the gene where this genetic mutation is located </li>\n",
        "        <li><b>Variation : </b>the aminoacid change for this mutations </li>\n",
        "        <li><b>Class :</b> 1-9 the class this genetic mutation has been classified on</li>\n",
        "    </ul>"
      ]
    },
    {
      "cell_type": "markdown",
      "metadata": {
        "id": "RPubFke6OQu9"
      },
      "source": [
        "<h3>Reading Text Data</h3>"
      ]
    },
    {
      "cell_type": "code",
      "metadata": {
        "id": "1i30WJEyOQu9",
        "colab": {
          "base_uri": "https://localhost:8080/",
          "height": 260
        },
        "outputId": "2f18aea0-d841-4592-f5f3-3f91cb0ea8d2"
      },
      "source": [
        "data_text =pd.read_csv(\"/content/training_text\",sep=\"\\|\\|\",engine=\"python\",names=[\"ID\",\"TEXT\"],skiprows=1)\n",
        "print('Number of data points : ', data_text.shape[0])\n",
        "print('Number of features : ', data_text.shape[1])\n",
        "print('Features : ', data_text.columns.values)\n",
        "data_text.head()"
      ],
      "execution_count": 7,
      "outputs": [
        {
          "output_type": "stream",
          "name": "stdout",
          "text": [
            "Number of data points :  3321\n",
            "Number of features :  2\n",
            "Features :  ['ID' 'TEXT']\n"
          ]
        },
        {
          "output_type": "execute_result",
          "data": {
            "text/plain": [
              "   ID                                               TEXT\n",
              "0   0  Cyclin-dependent kinases (CDKs) regulate a var...\n",
              "1   1   Abstract Background  Non-small cell lung canc...\n",
              "2   2   Abstract Background  Non-small cell lung canc...\n",
              "3   3  Recent evidence has demonstrated that acquired...\n",
              "4   4  Oncogenic mutations in the monomeric Casitas B..."
            ],
            "text/html": [
              "\n",
              "  <div id=\"df-7e7c5b3c-05c3-4834-b3b2-9e586d5a8dd2\" class=\"colab-df-container\">\n",
              "    <div>\n",
              "<style scoped>\n",
              "    .dataframe tbody tr th:only-of-type {\n",
              "        vertical-align: middle;\n",
              "    }\n",
              "\n",
              "    .dataframe tbody tr th {\n",
              "        vertical-align: top;\n",
              "    }\n",
              "\n",
              "    .dataframe thead th {\n",
              "        text-align: right;\n",
              "    }\n",
              "</style>\n",
              "<table border=\"1\" class=\"dataframe\">\n",
              "  <thead>\n",
              "    <tr style=\"text-align: right;\">\n",
              "      <th></th>\n",
              "      <th>ID</th>\n",
              "      <th>TEXT</th>\n",
              "    </tr>\n",
              "  </thead>\n",
              "  <tbody>\n",
              "    <tr>\n",
              "      <th>0</th>\n",
              "      <td>0</td>\n",
              "      <td>Cyclin-dependent kinases (CDKs) regulate a var...</td>\n",
              "    </tr>\n",
              "    <tr>\n",
              "      <th>1</th>\n",
              "      <td>1</td>\n",
              "      <td>Abstract Background  Non-small cell lung canc...</td>\n",
              "    </tr>\n",
              "    <tr>\n",
              "      <th>2</th>\n",
              "      <td>2</td>\n",
              "      <td>Abstract Background  Non-small cell lung canc...</td>\n",
              "    </tr>\n",
              "    <tr>\n",
              "      <th>3</th>\n",
              "      <td>3</td>\n",
              "      <td>Recent evidence has demonstrated that acquired...</td>\n",
              "    </tr>\n",
              "    <tr>\n",
              "      <th>4</th>\n",
              "      <td>4</td>\n",
              "      <td>Oncogenic mutations in the monomeric Casitas B...</td>\n",
              "    </tr>\n",
              "  </tbody>\n",
              "</table>\n",
              "</div>\n",
              "    <div class=\"colab-df-buttons\">\n",
              "\n",
              "  <div class=\"colab-df-container\">\n",
              "    <button class=\"colab-df-convert\" onclick=\"convertToInteractive('df-7e7c5b3c-05c3-4834-b3b2-9e586d5a8dd2')\"\n",
              "            title=\"Convert this dataframe to an interactive table.\"\n",
              "            style=\"display:none;\">\n",
              "\n",
              "  <svg xmlns=\"http://www.w3.org/2000/svg\" height=\"24px\" viewBox=\"0 -960 960 960\">\n",
              "    <path d=\"M120-120v-720h720v720H120Zm60-500h600v-160H180v160Zm220 220h160v-160H400v160Zm0 220h160v-160H400v160ZM180-400h160v-160H180v160Zm440 0h160v-160H620v160ZM180-180h160v-160H180v160Zm440 0h160v-160H620v160Z\"/>\n",
              "  </svg>\n",
              "    </button>\n",
              "\n",
              "  <style>\n",
              "    .colab-df-container {\n",
              "      display:flex;\n",
              "      gap: 12px;\n",
              "    }\n",
              "\n",
              "    .colab-df-convert {\n",
              "      background-color: #E8F0FE;\n",
              "      border: none;\n",
              "      border-radius: 50%;\n",
              "      cursor: pointer;\n",
              "      display: none;\n",
              "      fill: #1967D2;\n",
              "      height: 32px;\n",
              "      padding: 0 0 0 0;\n",
              "      width: 32px;\n",
              "    }\n",
              "\n",
              "    .colab-df-convert:hover {\n",
              "      background-color: #E2EBFA;\n",
              "      box-shadow: 0px 1px 2px rgba(60, 64, 67, 0.3), 0px 1px 3px 1px rgba(60, 64, 67, 0.15);\n",
              "      fill: #174EA6;\n",
              "    }\n",
              "\n",
              "    .colab-df-buttons div {\n",
              "      margin-bottom: 4px;\n",
              "    }\n",
              "\n",
              "    [theme=dark] .colab-df-convert {\n",
              "      background-color: #3B4455;\n",
              "      fill: #D2E3FC;\n",
              "    }\n",
              "\n",
              "    [theme=dark] .colab-df-convert:hover {\n",
              "      background-color: #434B5C;\n",
              "      box-shadow: 0px 1px 3px 1px rgba(0, 0, 0, 0.15);\n",
              "      filter: drop-shadow(0px 1px 2px rgba(0, 0, 0, 0.3));\n",
              "      fill: #FFFFFF;\n",
              "    }\n",
              "  </style>\n",
              "\n",
              "    <script>\n",
              "      const buttonEl =\n",
              "        document.querySelector('#df-7e7c5b3c-05c3-4834-b3b2-9e586d5a8dd2 button.colab-df-convert');\n",
              "      buttonEl.style.display =\n",
              "        google.colab.kernel.accessAllowed ? 'block' : 'none';\n",
              "\n",
              "      async function convertToInteractive(key) {\n",
              "        const element = document.querySelector('#df-7e7c5b3c-05c3-4834-b3b2-9e586d5a8dd2');\n",
              "        const dataTable =\n",
              "          await google.colab.kernel.invokeFunction('convertToInteractive',\n",
              "                                                    [key], {});\n",
              "        if (!dataTable) return;\n",
              "\n",
              "        const docLinkHtml = 'Like what you see? Visit the ' +\n",
              "          '<a target=\"_blank\" href=https://colab.research.google.com/notebooks/data_table.ipynb>data table notebook</a>'\n",
              "          + ' to learn more about interactive tables.';\n",
              "        element.innerHTML = '';\n",
              "        dataTable['output_type'] = 'display_data';\n",
              "        await google.colab.output.renderOutput(dataTable, element);\n",
              "        const docLink = document.createElement('div');\n",
              "        docLink.innerHTML = docLinkHtml;\n",
              "        element.appendChild(docLink);\n",
              "      }\n",
              "    </script>\n",
              "  </div>\n",
              "\n",
              "\n",
              "<div id=\"df-6222c44f-898f-4a7a-8e12-5cf1644038fd\">\n",
              "  <button class=\"colab-df-quickchart\" onclick=\"quickchart('df-6222c44f-898f-4a7a-8e12-5cf1644038fd')\"\n",
              "            title=\"Suggest charts\"\n",
              "            style=\"display:none;\">\n",
              "\n",
              "<svg xmlns=\"http://www.w3.org/2000/svg\" height=\"24px\"viewBox=\"0 0 24 24\"\n",
              "     width=\"24px\">\n",
              "    <g>\n",
              "        <path d=\"M19 3H5c-1.1 0-2 .9-2 2v14c0 1.1.9 2 2 2h14c1.1 0 2-.9 2-2V5c0-1.1-.9-2-2-2zM9 17H7v-7h2v7zm4 0h-2V7h2v10zm4 0h-2v-4h2v4z\"/>\n",
              "    </g>\n",
              "</svg>\n",
              "  </button>\n",
              "\n",
              "<style>\n",
              "  .colab-df-quickchart {\n",
              "      --bg-color: #E8F0FE;\n",
              "      --fill-color: #1967D2;\n",
              "      --hover-bg-color: #E2EBFA;\n",
              "      --hover-fill-color: #174EA6;\n",
              "      --disabled-fill-color: #AAA;\n",
              "      --disabled-bg-color: #DDD;\n",
              "  }\n",
              "\n",
              "  [theme=dark] .colab-df-quickchart {\n",
              "      --bg-color: #3B4455;\n",
              "      --fill-color: #D2E3FC;\n",
              "      --hover-bg-color: #434B5C;\n",
              "      --hover-fill-color: #FFFFFF;\n",
              "      --disabled-bg-color: #3B4455;\n",
              "      --disabled-fill-color: #666;\n",
              "  }\n",
              "\n",
              "  .colab-df-quickchart {\n",
              "    background-color: var(--bg-color);\n",
              "    border: none;\n",
              "    border-radius: 50%;\n",
              "    cursor: pointer;\n",
              "    display: none;\n",
              "    fill: var(--fill-color);\n",
              "    height: 32px;\n",
              "    padding: 0;\n",
              "    width: 32px;\n",
              "  }\n",
              "\n",
              "  .colab-df-quickchart:hover {\n",
              "    background-color: var(--hover-bg-color);\n",
              "    box-shadow: 0 1px 2px rgba(60, 64, 67, 0.3), 0 1px 3px 1px rgba(60, 64, 67, 0.15);\n",
              "    fill: var(--button-hover-fill-color);\n",
              "  }\n",
              "\n",
              "  .colab-df-quickchart-complete:disabled,\n",
              "  .colab-df-quickchart-complete:disabled:hover {\n",
              "    background-color: var(--disabled-bg-color);\n",
              "    fill: var(--disabled-fill-color);\n",
              "    box-shadow: none;\n",
              "  }\n",
              "\n",
              "  .colab-df-spinner {\n",
              "    border: 2px solid var(--fill-color);\n",
              "    border-color: transparent;\n",
              "    border-bottom-color: var(--fill-color);\n",
              "    animation:\n",
              "      spin 1s steps(1) infinite;\n",
              "  }\n",
              "\n",
              "  @keyframes spin {\n",
              "    0% {\n",
              "      border-color: transparent;\n",
              "      border-bottom-color: var(--fill-color);\n",
              "      border-left-color: var(--fill-color);\n",
              "    }\n",
              "    20% {\n",
              "      border-color: transparent;\n",
              "      border-left-color: var(--fill-color);\n",
              "      border-top-color: var(--fill-color);\n",
              "    }\n",
              "    30% {\n",
              "      border-color: transparent;\n",
              "      border-left-color: var(--fill-color);\n",
              "      border-top-color: var(--fill-color);\n",
              "      border-right-color: var(--fill-color);\n",
              "    }\n",
              "    40% {\n",
              "      border-color: transparent;\n",
              "      border-right-color: var(--fill-color);\n",
              "      border-top-color: var(--fill-color);\n",
              "    }\n",
              "    60% {\n",
              "      border-color: transparent;\n",
              "      border-right-color: var(--fill-color);\n",
              "    }\n",
              "    80% {\n",
              "      border-color: transparent;\n",
              "      border-right-color: var(--fill-color);\n",
              "      border-bottom-color: var(--fill-color);\n",
              "    }\n",
              "    90% {\n",
              "      border-color: transparent;\n",
              "      border-bottom-color: var(--fill-color);\n",
              "    }\n",
              "  }\n",
              "</style>\n",
              "\n",
              "  <script>\n",
              "    async function quickchart(key) {\n",
              "      const quickchartButtonEl =\n",
              "        document.querySelector('#' + key + ' button');\n",
              "      quickchartButtonEl.disabled = true;  // To prevent multiple clicks.\n",
              "      quickchartButtonEl.classList.add('colab-df-spinner');\n",
              "      try {\n",
              "        const charts = await google.colab.kernel.invokeFunction(\n",
              "            'suggestCharts', [key], {});\n",
              "      } catch (error) {\n",
              "        console.error('Error during call to suggestCharts:', error);\n",
              "      }\n",
              "      quickchartButtonEl.classList.remove('colab-df-spinner');\n",
              "      quickchartButtonEl.classList.add('colab-df-quickchart-complete');\n",
              "    }\n",
              "    (() => {\n",
              "      let quickchartButtonEl =\n",
              "        document.querySelector('#df-6222c44f-898f-4a7a-8e12-5cf1644038fd button');\n",
              "      quickchartButtonEl.style.display =\n",
              "        google.colab.kernel.accessAllowed ? 'block' : 'none';\n",
              "    })();\n",
              "  </script>\n",
              "</div>\n",
              "\n",
              "    </div>\n",
              "  </div>\n"
            ],
            "application/vnd.google.colaboratory.intrinsic+json": {
              "type": "dataframe",
              "variable_name": "data_text",
              "summary": "{\n  \"name\": \"data_text\",\n  \"rows\": 3321,\n  \"fields\": [\n    {\n      \"column\": \"ID\",\n      \"properties\": {\n        \"dtype\": \"number\",\n        \"std\": 958,\n        \"min\": 0,\n        \"max\": 3320,\n        \"num_unique_values\": 3321,\n        \"samples\": [\n          1057,\n          812,\n          2658\n        ],\n        \"semantic_type\": \"\",\n        \"description\": \"\"\n      }\n    },\n    {\n      \"column\": \"TEXT\",\n      \"properties\": {\n        \"dtype\": \"string\",\n        \"num_unique_values\": 1920,\n        \"samples\": [\n          \"The FLT3 receptor tyrosine kinase is constitutively activated by internal tandem duplication (ITD) in its juxtamembrane domain or tyrosine kinase domain in 30% of acute myeloid leukemia (AML) cases.1-3 Alternatively, FLT3 can also be activated by mutations in the kinase domain (such as the D835Y mutation, which are observed in 7% of AML cases.1,2 Both in vitro and in vivo data have demonstrated that FLT3-ITD and FLT3-D835Y encode constitutively activated kinases that drive the proliferation and survival of hematopoietic cells. Furthermore, FLT3-ITD mutations confer a bad prognosis in AML,1,4,5 and FLT3 inhibitors are expected to improve the outcome of AML patients in this subgroup. These data provide the rationale for the use of FLT3 kinase inhibitors for the treatment of AML.2  While pre-clinical experiments with cell-based assays and mouse models documented a potent effect of various FLT3 kinase inhibitors, first clinical trials showed only moderate efficacy.2 One complicating factor for the treatment of AML is the heterogeneity of the disease, with FLT3 mutations being only one of the many mutations present in human AML samples. Molecular data also suggest that FLT3 mutations tend to occur late in the multi-step development of AML, limiting the effect of FLT3 inhibitors to the subset of AML cells within the leukemia that harbor FLT3 mutations.  In an ongoing multinational phase II trial of the FLT3 inhibitor AC220 as monotherapy, a complete remission rate of 45% was reported at an interim report at the EHA meeting in 2011.6,7 Despite these promising results, patients treated with AC220 develop resistance to this inhibitor and Smith et al. have demonstrated that this is due to the acquisition of FLT3 kinase mutations.8 In that study, mutations at 3 different positions in the kinase domain of FLT3 were identified that confer resistance to AC220: F691, D835 and Y842.8 These mutations were identified by an in vitro resistance screen, and in AML samples obtained from patients who developed resistance to AC220 treatment. Although these mutations conferred resistance to AC220, defined by a clear shift in the IC50 values compared to FLT3-ITD and by their identification as acquired mutations in relapsed patients during AC220 treatment, they could still be inhibited by higher concentrations of the drug.  Eight years ago, we predicted resistance mutations in the FLT3 kinase domain using an in vitro mutagenesis technology in FLT3-ITD transformed Ba/F3 cells.9 In this way, we identified 3 positions in FLT3 (N676, F691 and G697) that upon mutation conferred high level resistance to PKC412. One of these mutations (N676D) was later also identified as a resistance mutation in an AML patient treated with PKC412, indicating the validity of the in vitro predictions.10 The F691L mutation in FLT3 was recently identified as a resistance mutation in AML patients treated with AC220.8  Here we show that also the G697R and N676D mutations confer resistance to AC220. Ba/F3 cells dependent on the expression of FLT3-ITD or FLT3-ITD with additional N676D, F691I, F691L or G697R mutation were treated with increasing concentrations of AC220. We measured the proliferation of these cells over a period of 24 h and we determined the level of autophosphorylation of FLT3 as a measurement of its activity after 90 min of inhibitor treatment. All mutations conferred resistance to AC220, with G697R and F691L/I mutations being the most resistant, and N676D conferring a lower level of resistance (Figure 1). In addition, we also used the Ba/F3 cells expressing FLT3-D835Y, and we observed that also these cells were highly resistant to AC220 (Figure 1).  Figure 1. Figure 1. Sensitivity of FLT3-ITD mutants to the AC220 inhibitor. Ba/F3 cells expressing FLT3-ITD (W51 mutation as described by Kelly et al.11), FLT3-D835Y and different FLT3-ITD mutants were treated with increasing concentrations of AC220 and their proliferation ... Our data show that there are additional mutations that confer resistance to AC220; in particular, the G697R mutation that confers resistance similar to the recently described F691L mutation. All these mutations can be easily acquired by a single nucleotide change in the FLT3 gene sequence. Notably, the F691L, G697R and N676D mutations that confer resistance to AC220 remain sensitive to ponatinib or sorafenib, other known FLT3 inhibitors currently being tested in clinical trials. These results point out that combinations of AC220 and ponatinib or sorafenib may be useful to overcome resistance to single agents.12,13\",\n          \"Bruton\\u2019s tyrosine kinase (BTK), a member of the TEC family of kinases, plays a crucial role in B-cell maturation and mast cell activation. Although the structures of the unphosphorylated mouse BTK kinase domain and the unphosphorylated and phosphorylated kinase domains of human ITK are known, understanding the kinase selectivity profiles of BTK inhibitors has been hampered by the lack of availability of a high resolution, ligand-bound BTK structure. Here, we report the crystal structures of the human BTK kinase domain bound to either Dasatinib (BMS-354825) at 1.9 A\\u02da resolution or to 4-amino-5-(4-phenoxyphenyl)-7H-pyrrolospyrimidin- 7-yl-cyclopentane at 1.6 A\\u02da resolution. This data provides information relevant to the development of small molecule inhibitors targeting BTK and the TEC family of nonreceptor tyrosine kinases. Analysis of the structural differences between the TEC and Src families of kinases near the Trp-Glu-Ile motif in the N-terminal region of the kinase domain suggests a mechanism of regulation of the TEC family members. Keywords: Bruton\\u2019s tyrosine kinase; BTK; Dasatinib; Celera compound; TEC-family; crystal structure Introduction Bruton\\u2019s tyrosine kinase (BTK) is a member of the TEC kinase family, nonreceptor tyrosine kinases that play important roles in T-cell receptor-, B-cell receptor-, and Fcc-receptor-mediated signaling. BTK participates in signal transduction from B-cell antigen receptors resulting in phospholipase C-c2-mediated calcium mobilization1 which, in turn, affects pre-B-cell functional maturation and expansion. Since BTK is required for B-cell function, it is an important target for the potential treatment of inflammatory diseases that involve B-cell activation. Mutations in the human BTK gene are responsible for Abbreviations: BTK, Bruton\\u2019s tyrosine kinase; BTK-KD, BTK kinase domain; ITK, interleukin-2 inducible T-cell kinase; PH, pleckstrin homology; SH, Src homology; TEC, tyrosine kinase expressed in hepatocellular carcinoma; XLA, X-linked agammaglobulinemia. Disclosure: All authors (with the exception of M. J. Romanowski) are employees of Biogen Idec and own company stock. Michael J. Romanowski\\u2019s current address is Novartis Institutes for Biomedical Research, Cambridge, MA 02139. *Correspondence to: Laura F. Silvian, Biogen Idec, Inc., 12 Cambridge Center, Cambridge, MA 02142. E-mail: laura.silvian@biogenidec.com Published by Wiley-Blackwell. VC 2010 The Protein Society PROTEIN SCIENCE 2010 VOL 19:429\\u2014439 429 X-linked agammaglobulinemia (XLA), a male immunodeficiency that results in a deficit of mature B cells and serum immunoglobulin.2,3 Several compounds that inhibit BTK kinase activity in biochemical assays have been described in the literature and differ in their kinase selectivity profiles. One weak compound, LFM-A13 (a-cyano-bhydroxy-b-methyl-N-(2,5-dibromophenyl)-propenamide) is a BTK inhibitor with an IC50 of 2.5 lM in a biochemical assay, but also inhibits PLK3 and JAK2.4\\u20136 However, it was found to be somewhat specific for BTK, exhibiting 100-fold higher IC50 values for related tyrosine kinases such as JAK1, HCK, EGFR, and insulin-receptor kinase (IRK).7 Another compound, Dasatinib ([N-(2-chloro-6-methylphenyl)- 2-(6-(4-(2-hydroxyethyl)piperazin-1-yl)-2-methylpyrimidin-4-ylamino)thiazole-5-carboxamide] or BMS- 354825) [Fig. 1(A)], originally used to target BCRAbl, has been shown to bind to BTK with an IC50 of 5 nM8 but also binds to other kinases such as SRC family members (HCK, SRC, and CSK), and ephrin receptors, FGR, PDGFRa, and YES.9 BTK was identified as a target of Dasatinib through pull-down experiments in the CML cell line K562.8 The reversible Celera compound, 3-cyclopentyl-1-(4-phenoxyphenyl)-1H-pyrazolo pyrimidin-7-amine,10 was recently described by Pan et al. 11 as a potent inhibitor of unphosphorylated BTK (8.2 nM IC50 in a biochemical assay). However, it also inhibits Lck and Src with IC50 values of 2 and 70 nM, respectively.10 It is chemically similar to the commercially available 4-amino-5-(4- phenoxyphenyl)-7H-pyrrolo[2,3-d]pyrimidin-7-yl-cyclopentane [B43; Fig. 2(A)] described as a potent inhibitor of Lck.12 Finally, an irreversible inhibitor from Pharmacyclics11 is currently in Phase I for B-cell lymphomas. It is expected to bind irreversibly to Cys481 in the BTK kinase domain active site (0.72 nM IC50 in a biochemical assay) and its selectivity profile is better than the reversible binder because it exhibits greater selectivity against Lck, which lacks this cysteine (>1000-fold selectivity in a biochemical assay). Future design of potent, specific BTK inhibitors would be facilitated by the structures of these compounds bound to BTK, to discern whether there are regions surrounding the ligand that are unique to this kinase. BTK is composed of several domains: an N-terminal pleckstrin homology (PH) domain, a prolinerich TEC homology domain, two SRC homology domains (SH3 followed by SH2), and a C-terminal kinase domain (BTK-KD). Mutations in all domains of human BTK have been found to lead to XLA and missense mutations have been found in all domains except for the SH3 domain.13 Structures have been Figure 1. BTK-KD Y551E/Dasatinib crystal structure. A: Chemical structure of Dasatinib. B: Electron density (2Fo-Fc map at 1 sigma) for Dasatinib within a surface representation of the BTK protein in the human BTK-KD-Y551E/Dasatinib complex. C: Overall view of the BTK kinase domain bound to Dasatinib. Inhibitor (magenta), amino-terminal lobe (green), carboxy-terminal lobe (gray), C-helix (red), hinge (blue), and activation loop (yellow). D: Close-up of the active site and residues within 5 A\\u02da of the bound Dasatinib. The surface is colored according to the convention of base (blue) and acid (red). 430 PROTEINSCIENCE.ORG Crystal Structures of Human BTK Kinase Domain solved for the kinase domains of apo-murine BTK7 and human ITK,14 but a high-resolution structure of a full-length protein with regulatory domains is not available. Low-resolution structures of BTK solved by small angle X-ray scattering have revealed an extended, linear arrangement of the SH3, SH2, and kinase domains, which contrasts with structures of autoinhibited full-length Src and Abl kinases in which a more compact arrangement of the SH2 and SH3 domains allows for the SH2 domain to bind near the C-terminal tail of the kinase domain.15 Structural studies of the Src family of tyrosine kinases have revealed that these proteins can adapt two conformations: an autoinhibitory state of the protein, referred to as an \\u2018\\u2018assembled regulatory domain\\u2019\\u2019 conformation, and an active, more open, structure, where the SH2 domain does not interact with the unphosphorylated C-terminal tail.16 Here, we describe the 1.94 A\\u02da resolution crystal structure of the human BTK-KD Y551E mutant bound to Dasatinib and a 1.6 A\\u02da resolution crystal structure of the unphosphorylated human BTK-KD bound to B43. We observe that the two structures differ in the orientation of the C-helix, similar to conformational changes observed in Src kinase family members that are locked into active or inactive states. Both BTK-KD structures reveal ordered density for the WEX motif at the N-terminus of the kinase domain, where X is a hydrophobic residue. The location of the tryptophan side chain at the base of the C-helix provides an explanation for how the WEX motif acts as an important regulatory element for the TEC family of kinases, similar to its role in regulation of the Src family of kinases, and suggests that the two families have a similar mechanism of regulation. Results Protein purification and characterization BTK-KD and BTK-KD Y551E were purified to  95% purity using a simple, three-step process utilizing two successive glutathione-Sepharose chromatography steps followed by size exclusion chromatography. Mass spectrometry indicated that the majority of the wild-type BTK-KD and BTK-KD Y551E was intact and unphosphorylated (wild-type calculated mass \\u00bc 32,641.6 Da, measured mass \\u00bc 32,643 Da; mutant calculated mass \\u00bc 32,607.5 Da, measured mass \\u00bc 32,609 Da), although 2 and 8%, respectively, were missing the first 4 N-terminal residues (wildtype calculated mass \\u00bc 32,317.2 Da, measured mass Figure 2. BTK-KD/B43 crystal structure. A: Chemical structure of B43. B: Electron density (2Fo-Fc map at 1 sigma) for B43 within a surface representation of the BTK protein in the human BTK-KD-B43 complex. C: Overall view of the BTK kinase domain bound to B43. Inhibitor (green), amino-terminal lobe (green), carboxy-terminal lobe (gray), C-helix (red), hinge (blue), and activation loop (yellow). D: Close-up of the active site and residues within 5 A\\u02da of the bound B43. The surface is colored according to the convention of base (blue) and acid (red). The active site cysteine is shown with a yellow surface. Marcotte et al. PROTEIN SCIENCE VOL 19:429\\u2014439 431 \\u00bc 32,319 Da and mutant calculated mass \\u00bc 32,283.2 Da, measured mass \\u00bc 32,285 Da). Crystal structures The crystal structures of BTK-KD Y551E/Dasatinib and BTK-KD/B43 complexes were determined using 1.94 A\\u02da diffraction data (Rfree \\u00bc 25.8%) and 1.6 A\\u02da diffraction data (Rfree \\u00bc 23.1%), respectively (Table I). The electron density maps clearly revealed the positions of the ligands. Figure 1(B) depicts the electron density for Dasatinib and Figure 2(B) reveals the electron density for B43. The human BTK-KD-Y551E/Dasatinib complex structure exhibits a \\u2018\\u2018C-helix in,\\u2019\\u2019 active conformation in which the catalytic lysine forms H-bonds to Glu445 of the C-helix [Fig. 1(C,D)]. The bilobal fold of the BTK KD is similar to that reported for other tyrosine kinase structures: the N-terminal lobe (residues 392\\u2013473) consists of five antiparallel b-sheets and two a-helices and contains the glycine-rich loop that covers the active site. The C-terminal lobe (residues 482\\u2013659) consists of nine a-helices and two b-strands and the activation loop. Finally, the hinge region (residues 474\\u2013481) connects the two lobes of the kinase and contains the active site cysteine (Cys481). The ordered region of the Dasatinib cocrystal structure encompasses residues 392\\u2013658 but electron density for parts of the activation loop (residues 542\\u2013558) and residues 435\\u2013441 is not visible. However, the DFG-portion of the activation loop is visible and is in the so-called \\u2018\\u2018DFG-in\\u2019\\u2019 conformation. The unphosphorylated BTK-KD/B43 cocrystal structure, in contrast, displays a \\u2018\\u2018C-helix-out\\u2019\\u2019 inactive conformation [Figs. 2(C) and 3(B)]. Most of the kinase is ordered except the tip of the glycine rich loop (residues 410\\u2013414). The activation loop displays a \\u2018\\u2018DFG-in\\u2019\\u2019 conformation and is completely ordered. It is composed of two alpha helices, in which Arg544 within the first helix of the activation loop forms a salt bridge to Glu445 of the C-helix. Dasatinib interactions Dasatinib makes several hydrogen bonds to the hinge and occupies a hydrophobic pocket behind the Thr474 gatekeeper residue [Fig. 1(B,D)]; similar to the previously reported structures of Dasatinibbound Abl (PDB ID: 2GQG),17 Lyn (PDB ID: 2ZVA),18 and cSrc (PDB ID: 3G5D).19 Its H-bond interactions to the hinge are described in Figure 1(D), including interactions with the backbone carbonyl and amide of 477, water-mediated interactions with the Tyr476 side chain, and an interaction between the Thr474 side chain and the compound amide nitrogen. The glycine-rich loop of BTK-KD curls toward Dasatinib to form a hydrophobic interaction with Phe413 [Fig. 1(D)]. The ortho-chloro, methyl phenyl substituent of Dasatinib is twisted to enter a hydrophobic pocket, composed of both hydrophobic and hydrophilic residues Met449, Val458, Leu460, Ile472, Lys430, Glu445, and Ser538. Finally, Glu445 of the C-helix forms a salt bridge with the catalytic Lys430; the epsilon amino group of this lysine is poised to make a pi-cation interaction with the Dasatinib ortho-chloro, methyl phenyl ring [Fig. 1(D)]. B43 interactions The B43 compound makes several hydrogen bonds to the hinge and occupies a hydrophobic pocket behind the Thr474 gatekeeper residue [Fig. 2(D)]. The 4-amino pyrrolopyrimidine of B43 occupies the position of the adenine ring of ATP and the cyclopentyl ring occupies the space generally occupied by the ATP ribose in typical protein kinase structures. The 4-amino pyrrolopyrimidine makes many interactions with the hinge; the exocyclic amine directly interacts Table I. Data Collection and Refinement Statistics BTK-KD/B43 complex BTK-KD Y551E/Dasatinib complex Data collection Space group P21212 P21212 Cell dimensions a (A\\u02da ) 72.5 73.4 b (A\\u02da ) 104.3 104.6 c (A\\u02da ) 38.0 38.1 Wavelength (A\\u02da ) 1.54 0.98 Resolution (A\\u02da ) 50\\u20131.6 50\\u20131.94 Rsym (%)a 8.0 (36.3)a 8.3 (61.9) I/r(I) a 18.5 (4.6)a 32.1 (3.3) Multiplicity 3.8 (4.1)a 6.8 (6.6) Total no. reflections/no. unique reflections 405,732/39,020 490,862/22,496 Completeness (%)a 98.1 (98.5)a 99.2 (99.2) Refinement Resolution (A\\u02da ) 24.5\\u20131.6 28.4\\u20131.94 No. reflections 36,293 21,141 Rwork (Rfree) b (%) 19.2 (23.1) 19.9 (25.8) No. molecules per asymmetric unit 1 1 No. atoms Protein 2161 2016 Ligand 28 33 Water 495 164 Average B-factors (A\\u02da c ) Protein atoms 25.8 23.4 Ligand 30.5 41.7 Water 53.5 35.7 R.m.s.d Bond lengths (A\\u02da ) 0.007 0.024 Bond angles () 1.14 2.05 Ramachandron plot % Allowed 98.5 98.2 % Generously allowed 1.5 1.4 % Not allowed 0 0.4 Rsym \\u00bc R|Ihkl  <Ihkl>|/RIhkl. a The value in parentheses is for the highest resolution bin (approximate interval, 0.1 A\\u02da ). b Rwork \\u00bc RIhkl| |Fo  |Fc| |/RIhkl|Fo| for all data except 5%, which is used for the Rfree calculation. 432 PROTEINSCIENCE.ORG Crystal Structures of Human BTK Kinase Domain with the gatekeeper Thr474 hydroxyl and the backbone carbonyl of 475, the N-3 of the pyrimidine accepts a hydrogen bond from the backbone amine of Met477, and the N-1 of the pyrimidine forms a water-mediated hydrogen bond network to the hydroxyl of Tyr476 and the backbone carbonyl of Ala 478 (Fig. 2). The distal phenyl group of the phenoxyphenyl is twisted 38 out of plane of the phenylether, such that it enters a hydrophobic pocket composed of only hydrophobic residues, Phe442, Met449, Leu460, Ile472, Phe540, and Leu542, and is in proximity to Asp539 of the \\u2018\\u2018DFG\\u2019\\u2019 motif. Phe540 of this motif forms a face-to-edge pi-stacking interaction with the phenoxyphenyl group of B43. Asp539 of the DFG-motif forms a salt bridge with the catalytic Lys430 but does not form direct hydrogen bond interactions with the compound. Discussion Relevance of structures for drug discovery The structures of the human BTK-KD Y551E/Dasatinib and BTK-KD/B43 complexes we report here differ from the publicly available structure of apo-murine BTK-KD (PDB ID: 1K2P) and are arguably more relevant for drug discovery for diseases in which inhibition of BTK may be desired. When the apo-mouse BTK structure is superimposed on the human BTK-KD/B43 structure (RMSD of 1.19 A\\u02da over 230 aligned a-carbons), the biggest differences are observed in the activation loop and in the glycine-rich loop. The activation loop of the mouse apoBTK-KD structure adapts an extended configuration with Tyr551 pointed toward solvent. In the mouse apo-BTK structure, the glycine loop also caves into the active site and occludes the ATP binding pocket. Because the mouse and human BTK-KD\\u2019s are 98.3% identical, and only four amino acids are replaced in the mouse sequence (Q379K, K433R, K625R, and T653S), it is likely that the kinase domain flexibility observed in the apo-murine BTK-KD structure is due to a lack of occupancy of a compound in the active site, rather than due to an intrinsic structural difference between the mouse and human species. Selectivity of compound inhibition For both Dasatinib and the reversible Celera compound, the size and hydrogen bonding nature of the gatekeeper residue of a given kinase generally correlates with its degree of biochemical inhibition9 (Table II). Most of the kinases that are inhibited by 10 lM Dasatinib with a Kd < 1 nM, or that are inhibited by 10 lM Celera compound with less than 5% residual activity, have a threonine gatekeeper. A valine residue in this gatekeeper position is tolerated for the Celera compound binding, but is not as well tolerated for Dasatinib binding to the Ret and KDR kinases (Table II). Because the threonine gatekeeper forms H-bond interactions with both compounds, it is possible that the H-bonding binding energy plays a greater role in binding Dasatinib compared to the Celera compound. An alternative explanation for the poor binding of Dasatinib to valine gatekeeper containing kinases KDR and Ret is that there are differences in side chains within 5 A\\u02da of the compound (Table III). In particular, one residue in the back pocket that forms close hydrophobic interactions with Dasatinib in BTK is Met449, which is replaced by a leucine in KDR and Ret. Because the back pocket in the Dasatinib cocrystal structure Figure 3. Differences between the \\u2018\\u2018inactive\\u2019\\u2019 B43 and \\u2018\\u2018active\\u2019\\u2019 Dasatinib-bound conformation of BTK. A: Overlay of BTK-KD bound to B43 (green), ITK bound to staurosporin (magenta, PDB ID: 1SNU) and P38a (yellow, PDB ID: 1P38). This indicates that the larger phenylalanine gatekeeper of ITK compared to the Thr474 gatekeeper of BTK prevents B43 from binding. It also indicates that the shorter hinge of P38a blocks the B43 binding site. B: Overlay of B43 structure (green) and Dasatinib structure (magenta) indicates that they superimpose well near the hinge but differ near the C-helix, resulting in a shift of >10 A\\u02da in the conformation of the Glu445 side chain and the residues that surround the hydrophobic back pocket. Marcotte et al. PROTEIN SCIENCE VOL 19:429\\u2014439 433 is composed of mixed hydrophobic and hydrophilic residues, Dasatinib may have a greater reliance on Met449 compared to B43, whose back pocket is completely surrounded by hydrophobic residues. Either explanation (i.e., different energy considerations for H-bonding to a threonine gatekeeper for different compounds or differences in the makeup of side chains that line Dasatinib\\u2019s unique hydrophobic pocket), could explain why Dasatinib does not bind as well to Ret and KDR. The exception to the rule of requiring a small gatekeeper for compound binding is p38a, EGFR, and NIMA (never in mitosis gene A)-related kinase 11 (NEK11) kinases, which have threonine gatekeepers, but are only moderately inhibited by both small molecules. P38a kinase has a shorter hinge, and thus its reduced affinity can be ascribed to a smaller binding site [Fig. 3(A)]. Similarly, there are differences in the other residues within 5 A\\u02da of the two small molecules (Table III), which could account for the differences in affinity for NEK11 and EGFR. Both differ in the residues that make up the hydrophobic pocket behind the threonine gatekeeper, with EGFR substituting a cysteine for Val458 and NEK11 substituting a larger phenylalanine for Leu460 and a leucine for Met449. Furthermore, NEK11 contains a glycine substitution for Ser538, a residue which is likely to enhance the flexibility of the DFG motif which follows (Table III). In contrast, Abl, Lyn, and Src, kinases which are inhibited well by both small molecules, show no significant variation in the residues that make up the hydrophobic pocket. In these kinases Ser538 is replaced with alanine, a residue with similar conformational flexibility, and is not likely to effect the flexibility of the activation loop (Tables II and III). As the size of the gatekeeper residue increases from threonine to phenylalanine [as in ITK, Fig. 3(A)], methionine (as in Igf1R, JAK1, JNK3, and SYK) (Table II), or leucine (as in Aurora A) (Table II) neither inhibitor reduces kinase activity to the full extent because both binding modes require insertion of the compound past the bulky gatekeeper into the hydrophobic back pocket. Table II. Gatekeeper Residue in Various Kinases, % Activity for Celera Compound and Kd Values for Dasatinib Kinase Gatekeeper % Activity in the presence of 10 lM Celeraa Dasatinib Kd (nM) b Ack1 Ser 3 6 Abl Thr 3 0.5 Bmx Thr 1 0.0 BTK Thr 1 1.0 CSK Thr 0 0.2 EGFR Thr 20 100 FGR Thr 3 0.5 FYN Thr 3 0.7 Hck Thr 5 0.3 Kit Thr 4 0.6 Lck Thr 13 0.2 Lyn Thr 4 0.6 P38a Thr 57 30 Src Thr 1 0.2 Yes Thr 1 0.3 SIK Thr 17 ND RIPK2 Thr 4 30 cRAF Thr 11 600 EphB1 Thr 65 0.4 NEK11 Thr 64 7000 RET Val 0 200 KDR/VEGFR2 Val 6 3000 RSK1 Leu 80 ND RSK2 Leu 83 ND AurA Leu 101 2000 IGF1R Met 87 ND JAK2 Met 88 ND JNK3 Met 76 ND Syk Met 50 3000 Itk Phe 18 ND ND, not determined. a Upstate kinase profiler. b Taken from Ref. 9. Table III. Residues Within 5 A\\u02da of Compounds in the BTK-KD/B43 and BTK-KD Y551E/Dasatinib Structures NTD GRL UPH LWH HYP AVL 428b 430c 408b 409d 413d 416b 472d 474a,c 475b 476b 477b 479d 480b 481c 458c 460b 449b 538b 539b 540b 542b BTK A K L G F V I T E Y M N G C V L M S D F L NEK11 Ve K L G F V I T E YCe Ge Re De V Fe Le Ge DFVe EGRF A K L G F V Le T Qe Le M Fe G CCe LMTe DFL ABL A K L G Ye V I T E FMYe G Ne V L MAe DFL LYN A K L G F V I T E Y M Ke G Se V L MAe DFL SRC A K L G F V I T E Y M Ke G Se V L MAe DFL RET A K L G F V Le Ve E YAe Ye G Se I e L Le SDFL KDR A K L G F V Ve Ve E Fe Ce Fe G Ne VLLe SDFL NTD, N-terminal domain; GRL, glycine rich loop; UPH, upper hinge; LWH, lower hinge; HYP, hydrophobic pocket; AVL, activation loop. a Gatekeeper residue. b Residue interacts with both B43 and Dasatinib in BTK. c Residue only interacts with Dasatinib in BTK. d Residue only interacts with B43 compound in BTK. e Differences in sequence from BTK sequence. 434 PROTEINSCIENCE.ORG Crystal Structures of Human BTK Kinase Domain Overall conformational changes In the BTK-KD Y551E/Dasatinib complex structure, the Gly-rich loop of BTK partially shields Dasatinib from solvent, as found in the Abl kinase structure (data not shown). Because of the curled-in glycinerich loop in the BTK structure, a hydrophobic interaction is formed between Phe413 and the exocyclic methyl of the Dasatinib pyridine ring [Fig. 1(D)], and between Gln412 and Asp539 of the \\u2018\\u2018DFG\\u2019\\u2019 motif. In every other respect, however, the overall conformation of the BTK-KD/Dasatinib structure is similar to the known Dasatinib-bound conformations of Lyn,18 cSrc,19 and Abl,17 including the compound\\u2019s H-bond interactions with the hinge and the position of its C-helix. The nonvisible residues differ between the two BTK structures, which can be correlated with the different interactions made with different compounds or by the mutation in the activation loop. The tip of the glycine-rich loop is disordered in the B43 structure but is ordered in the Dasatinib structure, while the activation loop is disordered in the Dasatinib structure but is well ordered in the B43 structure. The curled glycine-rich loop forms van der Waals contacts with Dasatinib, between a methyl substituent and the Phe413 side chain, whereas no similar interactions take place between B43 and the BTK-KD protein residues and the glycine-rich loop is disordered. One might expect that the Y551E mutation in the activation loop of the BTK-KD Y551E/Dasatinib structure is responsible for the activation loop disorder; the mutated residue is electrostatically incompatible with the conformation of the activation loop seen in the BTK-KD/B43 structure. In the BTK-KD/B43 structure, the Y551 residue is in close proximity to an Asp521 side chain; this is likely to be electrostatically repelled by mutation of the tyrosine to a glutamate. While it is often hard to pinpoint why flexible regions of crystal structures are disordered, it appears that formation of critical molecular interactions produces ordered electron density for the more flexible regions of BTK. Comparison of the structures of the human BTK-KD-Y551E/Dasatinib complex and the BTKKD/B43 complex reveals a change of conformation from catalytically \\u2018\\u2018active\\u2019\\u2019 to \\u2018\\u2018inactive.\\u2019\\u2019 The Dasatinib complex is more similar to the ATP-bound conformation of most kinases, in which a conserved glutamate from the C-helix forms a salt bridge to the catalytic lysine. In fact, no crystals could be formed with the unphosphorylated, wild-type BTK kinase construct, prompting us to make the Y551E mutant as a mimic of the phosphorylated wild-type protein. In contrast, the BTK-KD/B43 complex shows an outward shift of the C-helix [Fig. 3(B)] relative to its position in the Dasatinib structure, the conserved salt bridge from the glutamate to the catalytic lysine breaks, and a large hydrophobic pocket opens behind the gatekeeper residue. The ability of different kinases to adapt a C-helix out conformation might enable the design of specific inhibitors that targets this larger hydrophobic pocket. Furthermore, Cys481 in the active site of BTK-KD could also be exploited to gain kinase selectivity in which a small molecule may be irreversibly bound to this cysteine via a covalent bond.11 To determine the overall similarity of the BTKKD/B43 structure to other kinases, the B43 complex structure was submitted to the Dali-lite server for structure alignment and scoring20 (http://ekhidna. biocenter.helsinki.fi/dali_server/). The top hits, inactive Hck (PDB ID: 1QCF), inactive SRC (PDB ID: 2SRC), inactive ABL (PDB ID: 2G1T), ITK (PDB ID: 1SM2), and mouse BTK (PDB ID: 1K2P), could be aligned with the human BTK over more than 260 a-carbons and with an rmsd of 2.0 A\\u02da or better. The highest scoring hits, excluding the TEC family of kinases, were all inactive conformations of tyrosine kinases from the Src and Abl families, consistent with their overall sequence similarities to human BTK. The conformation of the activation loop and C-helix in the human BTK-KD/B43 structure is very similar to the inactive Src structure (PDB ID: 2SRC) with an rmsd 1.64 A\\u02da over 257 a-carbons; in Src the activation loop forms two alpha helices and occludes access of the substrate peptide. The overall conformation of the BTK-KD Y551E/Dasatinib structure is similar to the active c-Src (CSK) structure (PDB ID: 1Y57) where the activation loop is swung out and the C-helix moves toward the active site (Fig. 4). Comparison of Src and TEC family kinases The phosphorylation-triggered regulation of BTK and Src differ. Unlike the Src family, the TEC family of nonreceptor tyrosine kinases lacks a conserved tyrosine in the C-terminus that could be phosphorylated to then bind to the SH2 domain.16 BTK is regulated by the phosphorylation of two tyrosine residues, Tyr223 in the SH3 domain and Tyr551 in the activation loop of the kinase domain, both of which participate in kinase activation.21 In a recent study of BTK autophosphorylation, the Y551F mutant was shown to have a 5 to 10-fold lower enzymatic activity than the wild-type protein, indicating that this tyrosine plays an important role in BTK activation.22 Furthermore, mutation of a conserved tryptophan in the N-terminal W-E-X motif, in which X is a hydrophobic residue, also appears to effect the activities of the two kinase families differently. In Src, mutation of the Trp to Ala increases kinase activity while in BTK, mutation of the Trp to Ala reduces kinase activity.23 The human BTK structures described here include ordered density for the WEI motif (residues 392\\u2013395), an area which was disordered in the Marcotte et al. PROTEIN SCIENCE VOL 19:429\\u2014439 435 available murine BTK structure (PDB ID: 1K2P) and the human ITK structure (PDB ID: 1SM2). This enables a structural comparison of the TEC family and the Src family kinases in this conserved region. The Trp side chain shifts from being solvent exposed in the \\u2018\\u2018inactive\\u2019\\u2019 BTK-KD/B43 complex structure to being wedged into a pocket behind the inward C-helix in the \\u2018\\u2018active\\u2019\\u2019 BTK-KD Y551E/Dasatinib complex structure [Fig. 4(A,B)]. A structural superposition of the two BTK structures with the inactive SRC (PDB ID: 2SRC) 24 and an active CSK structure (PDB ID: 1Y57) 16 show that the side chain of Trp395 superimposes in the active structures of both kinase families. In the \\u2018\\u2018inactive\\u2019\\u2019 conformations, a lysine or methionine side chain from the rotated C-helix sterically occludes the tryptophan side chain, and the Trp side chains are not superimposable [Fig. 4(B)]. The similar structural shift observed suggests that the Src and Tec families utilize a similar means of activating the conformation of the kinase domain. However, the inactive conformations of the Trp side chain differ and the differential energy required in switching from inactive to active conformations may differ; this could explain why mutation of this residue to alanine produces different regulatory effects on the two proteins. This study reports the structures of human BTKKD with Dasatinib or 4-amino-5-(4-phenoxyphenyl)- 7H-pyrrolo[2,3-d]pyrimidin-7-yl-cyclopentane bound at the active site. Analysis of the binding modes reveals that the size and H-bonding potential of the gatekeeper residue in different kinases and the nature of the residues that make up the hydrophobic pocket behind the gatekeeper residue are critical in dictating if either compound binds. We propose that the presence of a distinct hydrophobic pocket in the B43 structure suggests that one could design compounds with limited selectivity for kinases that can adapt the \\u2018\\u2018C-helix-out\\u2019\\u2019 conformation. Movements in the C-helix, presumably induced by phosphorylation of the activation loop residue Tyr551, can shift BTK into an active conformation and could generate a second metal binding site containing Glu445 that Lin et al. have shown is important for optimal catalytic activity of the Tyr551-phosphorylated BTK.25 Finally, we show that, like the Src-family of kinases, BTK can adapt a similar conformational rotamer of Trp395 in its \\u2018\\u2018active\\u2019\\u2019 conformation, which is correlated with a similar movement of the C-helix. With a growing recognition that BTK plays a key role in many B cell lymphomas and autoimmune diseases, these structures will assist with selective drug design.  Bruton\\u2019s tyrosine kinase (Btk) is required for B cell development and B cell antigen receptor (BCR) function. Cross-linking of BCR induces phosphorylation of Btk at Tyr551 and Tyr223. However, the functional requirement of these phosphorylation for BCR signaling remains unclear. We demonstrate here that mutation of Tyr551, not Tyr223, abrogates the BCR-induced calcium mobilization. Not only Lyn, but also Syk was required for tyrosine phosphorylation of Btk in BCR signaling. These results suggest that transphosphorylation of Btk on Tyr551 is essential for BCR function and that this phosphorylation is mediated through the concerted actions of Lyn and Syk.  The B cell antigen receptor (BCR)1 is composed of surface immunoglobulin noncovalently associated with a pair of Ig\\u03b1/Ig\\u03b2 disulfide-linked heterodimers, which are essential for signal transduction. Stimulation of the BCR induces the enzymatic activation and tyrosine phosphorylation of three distinct families of nonreceptor cytoplasmic protein tyrosine kinases (PTKs), the Src family, Syk, and Btk. The Src family kinases are rapidly activated after BCR engagement, and their activation correlates with the initial tyrosine phosphorylation of the immunoreceptor tyrosine-based activation motif on the BCR Ig\\u03b1 and Ig\\u03b2 subunits (reviewed in Refs.1-4).  Temporally, activation of Src family kinases is followed by Btk and Syk (5). This sequential activation potentially places Btk and Syk downstream of Src family kinases. Utilizing co-overexpression system in fibroblasts and COS cells, it has been demonstrated that Lyn transphosphorylates Btk on Tyr551 in the catalytic domain, a site homologous to the Src family kinase consensus autophosphorylation site (6, 7). This results in a 5\\u201310-fold increase in Btk enzymatic activity (7). The increase in activity also leads to increased autophosphorylation at Tyr223 in the SH3 domain of Btk (8). The identical phosphopeptides were generated after cross-linking of the BCR, indicating that these sites are also tyrosine phosphorylated in B cells (7). Although the importance of phosphorylation of Tyr551 and Tyr223 for fibroblast transformation has been examined (8, 9), functional significance of phosphorylation of Tyr551 and Tyr223 of Btk in BCR signaling remains elusive.  To genetically define the functional relationship among Lyn, Syk, and Btk in BCR signaling, we established each PTK-deficient DT40 B cells (10, 11). Our previous results have shown that the BCR-induced calcium mobilization is abrogated in Btk-deficient DT40 cells and that the loss of Btk does not significantly affect the activation of Lyn and Syk in BCR signaling (11). Here we show that BCR-induced tyrosine phosphorylation of Btk is abolished in Lyn/Syk double-deficient DT40 cells, suggesting that Btk acts downstream of Lyn and/or Syk in BCR signaling. Moreover, this phosphorylation is partially inhibited in Lyn- or Syk-deficient cells, indicating contribution of both Lyn and Syk to Btk phosphorylation. The Btk Y223F mutant was able to restore the BCR-induced calcium mobilization, whereas the Y551F mutant could not. Thus, these results suggest that phosphorylation of Tyr551 of Btk through Lyn and Syk is essential for BCR signaling.  Previous Section Next Section EXPERIMENTAL PROCEDURES  Cells, Antisera, and DNA Transfection DT40 cells were cultured in RPMI 1640 supplemented with 10% fetal calf serum, penicillin, streptomycin, and glutamine. Anti-chicken IgM mAb M4 and anti-phospholipase C (PLC)-\\u03b32 Ab were described previously (10). The anti-phosphotyrosine mAb (4G10) and anti-T7 mAb were obtained from Upstate Biotechnology, Inc. and Novagen, respectively. T7-tagged and mutant Btk cDNAs were created by polymerase chain reaction, and the resulting constructs were confirmed by DNA sequencing. These cDNAs were cloned into pApuro expression vector (10). For DNA transfection into DT40 cells, DNA was linearized, electroporated, and selected in the presence of puromycin (0.5 \\u03bcg/ml). The expression of Btk was analyzed by Western blotting.  Immunoprecipitation and Immunoblot Analysis DT40 cells were stimulated by mAb M4 for indicated time. Cells were solubilized in Nonidet P-40 lysis buffer (1% Nonidet P-40, 150 mM NaCl, 20 mM Tris, pH 7.5, 1 mM EDTA) containing 50 mM NaF, 10 \\u03bcM molybdate, and 0.2 mM sodium vanadate supplemented with protease inhibitors described previously (10). Cell lysates were sequentially incubated (1 h at 4\\u2009\\u00b0C for each incubation with Ab and protein A-Sepharose). For immunoblotting, samples were separated on SDS-PAGE and transferred to nitrocellulose membrane (Amersham Corp.). Filters were incubated with mAb 4G10 or anti-T7 mAb. After washing, filters were developed using a sheep anti-mouse IgG Ab conjugated to horseradish peroxidase and enhanced chemiluminescence (ECL).  For in vitro kinase assay, the immunoprecipitates were washed with 20 mM Hepes, pH 8, and 150 mM NaCl after washing with lysis buffer. Added to each sample was 50 \\u03bcl of kinase buffer (20 mM Hepes, pH 8, 10 mMmagnesium acetate, 10 mM MnCl2) in the absence or presence of ATP (1 \\u03bcM). Recombinant glutathioneS-transferase fusion protein containing a cytoplasmic domain of mouse Ig\\u03b1 (glutathione S-transferase/Ig\\u03b1) was made and used as an exogenous substrate (6). The reactions were allowed at 30\\u2009\\u00b0C for 10 min and terminated by the addition of sample buffer.  Calcium and Phosphoinositide Analysis For calcium analysis, cells (5 \\u00d7 106) were resuspended in phosphate-buffered saline containing 20 mM Hepes, pH 7.2, 5 mM glucose, 0.025% bovine serum albumin, and 1 mM CaCl2 and loaded with 3 \\u03bcMFura-2/AM at 37\\u2009\\u00b0C for 45 min. Cells were washed twice and adjusted to 106 cells/ml with continuous monitoring of fluorescence spectrophotometer (model F-2000; Hitachi) at an excitation wavelength of 340 nm and an emission wavelength of 510 nm. Calibration and calculation of calcium level were done as described (12).  For phosphoinositide analysis, cells (106/ml) were labeled with myo-[3H]inositol (10 \\u03bcCi/ml, 105 Ci/mmol) for 4\\u20135 h in inositol-free RPMI 1640 supplemented with 10% dialyzed fetal calf serum, then stimulated in the presence of 10 mM LiCl with mAb M4. The soluble inositol phosphates were extracted with trichloroacetic acid at indicated time points, and applied to AG1-X8 (formate form) ion exchange columns (Bio-Rad) preequilibrated with 0.1 M formic acid. The columns were washed with 10 ml of H2O and 10 ml of 60 mMammonium formate, 5 mM sodium tetraborate. Elution was performed with increasing concentrations of ammonium formate (0.1\\u20130.7M).  Previous Section Next Section RESULTS  We have used a genetic approach to determine the requirements for Btk tyrosine phosphorylation following BCR engagement. We utilized three mutants of the chicken B cell line DT40, generated by inactivation of either lyn, syk, or both genes by homologous recombination (10, 11). Since the Ab raised against chicken Btk does not immunoprecipitate efficiently, we expressed an epitope-tagged version of Btk (designated T7-Btk) into wild type and these mutant DT40 cells. Clones expressing similar levels of T7-Btk in these deficient DT40 cells were selected. These clones were lysed prior to and following BCR ligation, and T7-Btk was immunoprecipitated with anti-T7 mAb. As shown in Fig. 1, Btk was inducibly tyrosine-phosphorylated following BCR stimulation in wild type DT40 cells, consistent with previous reports (5, 13-15). In contrast to wild type cells, Lyn/Syk double-deficient DT40 cells failed to exhibit any Btk tyrosine phosphorylation following BCR ligation, indicating requirement of Lyn and/or Syk for the BCR-induced tyrosine phosphorylation of Btk. In Lyn-deficient DT40 cells, tyrosine phosphorylation of Btk at 1 and 3 min after BCR ligation was significantly reduced, whereas this phosphorylation at 10 min reached almost the same level as that in wild type cells. Compared with Lyn-deficient DT40 cells, Syk-deficient cells showed a complementary time course of the BCR-induced phosphorylation of Btk; phosphorylation of Btk was only observed at 1 and 3 min after BCR stimulation. These data suggest that either Lyn or Syk alone is capable of phosphorylating Btk at least to some extent and that the concerted actions of Lyn and Syk are required for full phosphorylation of Btk in BCR signaling.  Figure 1 View larger version: In this page In a new window Download as PowerPoint Slide Figure 1 BCR-induced tyrosine phosphorylation of Btk in various DT40 mutant cells. At the indicated time points after M4 stimulation (4 \\u03bcg/ml), cells were lysed in 1% Nonidet P-40 lysis buffer and immunoprecipitated with anti-T7 mAb. Immunoprecipitates were loaded onto 8% SDS-PAGE, and the blotted membrane was incubated with mAb 4G10. After the filter was stripped, the same blot was reprobed with anti-T7 mAb. pY, phosphotyrosine.  It has been demonstrated recently that transphosphorylation of Btk at Tyr551 results in increased its enzymatic activity, leading to autophosphorylation of a second tyrosine Tyr223 in a fibroblast system (8). To determine that this sequential phosphorylation of Btk occurs also after BCR stimulation, we transfected Y551F and Y223F mutants of Btk into Btk-deficient DT40 cells (Fig. 2 A). Stimulation of BCR did not enhance tyrosine phosphorylation of Btk(Y551F) (Fig. 3). This result suggests the possibility that Tyr551 of Btk is only target of Lyn/Syk-dependent phosphorylation after BCR stimulation in DT40 cells. Alternatively, phosphorylation at Tyr551 is a critical step for subsequent phosphorylation of Btk in BCR signaling context. In contrast to Btk(Y551F), Btk(Y223F) showed increased tyrosine phosphorylation upon BCR stimulation, although this phosphorylation was only observed at 1 min after receptor cross-linking (Fig. 3). Thus, these results implicate that a primary target of tyrosine through concerted actions of Lyn and Syk is Tyr551 of Btk in BCR signaling, leading to phosphorylation of Tyr223. Since Btk(Y223F) did not show significant tyrosine phosphorylation at 3 and 10 min after receptor stimulation, our finding also suggests that phosphorylation of Tyr223 is required for sustained Btk phosphorylation in BCR signaling.  Figure 2 View larger version: In this page In a new window Download as PowerPoint Slide Figure 2 Schematic representation of Btk cDNA constructs (A) and expression of mutant Btk in Btk-deficient DT40 cells (B). DT40 cells expressing indicated constructions were lysed with Nonidet P-40 lysis buffer (2 \\u00d7 106 cells/lane) and immunoprecipitated with anti-T7 mAb. Immunoprecipitates were divided, and half of them were used for Western blotting with anti-T7 mAb. The remaining half were used for in vitro kinase assay as described under \\u201cExperimental Procedures\\u201d and blotted with mAb 4G10. In the absence of ATP, in vitro kinase samples of these immunoprecipitates showed no significant tyrosine phosphorylation. pY, phosphotyrosine.  Figure 3 View larger version: In this page In a new window Download as PowerPoint Slide Figure 3 BCR-induced tyrosine phosphorylation of Btk(Y223F) and Btk(Y551F). At the indicated time points after M4 stimulation (4 \\u03bcg/ml), Btk-deficient cells expressing these constructs were lysed in 1% Nonidet P-40 lysis buffer and immunoprecipitated with anti-T7 mAb. Immunoprecipitates were loaded onto 8% SDS-PAGE, and the blotted membrane was incubated with mAb 4G10. After the filter was stripped, the same blot was reprobed with anti-T7 mAb. pY, phosphotyrosine.  Utilizing Btk-deficient DT40 cells expressing Btk(Y551F) and Btk(Y223F), we analyzed the effects of these mutations on BCR signaling. Wild type and kinase-negative T7-Btk were also transfected into Btk-deficient DT40 cells as a positive and a negative control, respectively (Fig. 2 A). To determine whether these mutations affect tyrosine kinase activity, Btk immunoprecipitates were used forin vitro kinase assays with glutathioneS-transferase/Ig\\u03b1 as an exogenous substrate. Btk(R525Q) exhibited no kinase activity, indicating that the immunoprecipitates are largely free of contaminating tyrosine kinases. When the extent of tyrosine phosphorylation is normalized to the amount of protein present in each kinase assay, both Btk(Y551F) and Btk(Y223F) had similar transphosphorylation activity compared with wild type Btk (Fig.2 B). We showed previously that the BCR-induced PLC-\\u03b32 activation is abrogated in Btk-deficient DT40 cells, leading to loss of calcium mobilization (11). Thus, we examined whether these mutations were able to restore these defects or not. As shown in Fig.4 A, DT40 cells expressing Btk(Y223F) exhibited normal calcium mobilization, whereas Btk(Y551F) was able to mobilize only small amount of calcium upon receptor cross-linking. Consistent with these data, cross-linking of BCR on DT40 cells expressing Btk(Y223F) stimulated inositol 1,4,5-trisphosphate (IP3) production and tyrosine phosphorylation of PLC-\\u03b32, although these parameters were lower than wild type Btk (Fig. 4,B and C). This might reflect the lower expression level of Btk(Y223F) than wild type Btk (Fig. 2 B). The BCR-induced IP3 production and tyrosine phosphorylation of PLC-\\u03b32 in DT40 cells expressing Btk(Y551F) was essentially the same as those in DT40 cells expressing Btk(R525Q) (Fig. 4 and data not shown). These results demonstrate that phosphorylation of Tyr551, not Tyr223, is essential for BCR signaling.  Figure 4 View larger version: In this page In a new window Download as PowerPoint Slide Figure 4 Functional restoration of BCR signaling by Btk(Y223F) and Btk(Y551F). Calcium mobilization (A), IP3 generation (B), and tyrosine phosphorylation of PLC-\\u03b32 (C). C, Btk-deficient DT40 cells expressing these mutants were stimulated for 3 min with M4 (4 \\u03bcg/ml). Cells were lysed in 1% Nonidet P-40 lysis buffer and immunoprecipitated with anti-PLC-\\u03b32 Ab. Immunoprecipitates were loaded on 6% SDS-PAGE, and the blotted membrane was incubated with mAb 4G10. After the filter was stripped, the same blot was reprobed with anti-PLC-\\u03b32 Ab. pY, phosphotyrosine.  Previous Section Next Section DISCUSSION  In Lyn-deficient DT40 cells, BCR-induced tyrosine phosphorylation of Btk was significantly inhibited at 1 and 3 min after stimulation (Fig. 1), indicating that Btk phosphorylation is mediated by Lyn in BCR signaling in these early time points. However, at 10 min after stimulation, this phosphorylation reached almost the same level in wild type cells, suggesting that tyrosine phosphorylation of Btk at 10 min after BCR stimulation is independent of Lyn. In contrast to Lyn-deficient DT40 cells, Syk-deficient cells show the profound inhibition of the BCR-induced tyrosine phosphorylation of Btk at 10 min after receptor cross-linking, implicating that this Btk phosphorylation is mediated by Syk. Taken together, these data suggest that the initial Btk phosphorylation and sustained phosphorylation are mediated by coordinated actions of Lyn and Syk after BCR cross-linking.  Our conclusion is somewhat inconsistent with the previous reports using COS cell and fibroblast expression systems (6, 7). In these systems, Lyn is able to phosphorylate Btk, whereas Syk is not. One of the possibilities about this disparity between the heterologous systems and DT40 B cell system is that Syk is maximally activated through transphosphorylation at Tyr518 and/or Tyr519 by Lyn in DT40 cells (16). In contrast, overexpressed Syk itself may not be fully activated in heterologous systems. To test this possibility, we transfected T7-Btk into Syk-deficient cells expressing Syk mutant in which Tyr518/Tyr519 is changed to Phe518/Phe519. In this mutant DT40 cell, the BCR-induced tyrosine phosphorylation of Btk was similar to that in Syk-deficient DT40 cells (data not shown), implicating that the requirement of Syk is due to up-regulated Syk through transphosphorylation of Tyr518/Tyr519. It is also possible that Btk may not be a direct substrate of Syk. Assuming that another PTK acts downstream of Syk in BCR signaling, our data might be accounted for by the involvement of this Syk-regulated PTK in tyrosine phosphorylation of Btk.  It has been reported that two tyrosines, Tyr551 and Tyr223, are phosphorylated after cross-linking of BCR. Btk(Y551F) exhibited no tyrosine phosphorylation upon BCR cross-linking, whereas Btk(Y223F) showed an increase of tyrosine phosphorylation at 1 min after receptor stimulation, suggesting that Tyr551 phosphorylation is a prerequisite for subsequent phosphorylation of Btk in BCR signaling events. Thus, these results support the previous contention that phosphorylation of Btk at Tyr551 is followed by its autophosphorylation at Tyr223 (7, 8). Since Btk(Y223F) did not show significant tyrosine phosphorylation at 3 and 10 min after receptor stimulation, phosphorylation of Tyr223 appears to be required for sustained Btk phosphorylation. Recent crystallographic analysis of Itk (Btk/Tec family PTK expressed in T cells) may provide insights into the function of phosphorylation of Tyr223 of Btk (17). Based on this analysis, the proline-rich domain adjacent to the SH3 domain of Btk/Tec family kinases contains an SH3 ligand (Fig. 2 A), allowing intramolecular interaction. Interestingly, Tyr223of Btk is located within the interface of this interaction. Thus, phosphorylation of Tyr223 may disrupt this intramolecular interaction, thereby changing the conformation of Btk. This conformational change might be required for sustained phosphorylation of Btk in BCR signaling.  Our functional data clearly indicate that Tyr551 is essential for BCR signaling, whereas Tyr223 is dispensable for BCR-induced PLC-\\u03b32 activation. Since phosphorylation of Tyr551 was already reported to increase the kinase activity of Btk with 5\\u201310-fold (7), one of the consequence of phosphorylation of Tyr551 is increased kinase activity upon BCR cross-linking. Although we carried out in vitro kinase assay on Btk immunoprecipitates in wild type DT40 cells, the BCR-induced activation of its in vitro kinase activity could not be reproducibly observed. Previous reports suggest that the magnitude of the BCR-induced activation of Btk is significantly smaller than that of maximum Btk phosphorylation by Lyn in heterologous systems (6, 7). Indeed, in our hand, this 5\\u201310-fold activation of Btk in COS cells could be reproducibly detected. Thus, the most likely explanation is that the increase of Btk enzymatic activity through phosphorylation of Tyr551 in DT40 cells is too small for our detection system.  In the case of Syk, it has been demonstrated that in addition to recruitment of Syk to phosphorylated Ig\\u03b1/Ig\\u03b2, phosphorylation at tyrosine (Tyr519 and/or Tyr518) within its activation loop is critical for BCR signal transduction (16). In this report, we show that phosphorylation of Tyr551 on Btk activation loop is also an obligatory mechanism for its participation in BCR signaling. Thus, cytoplasmic PTK cascade through phosphorylation of tyrosine located in the activation loop may be one of the general mechanisms for cytoplasmic signal transduction.  The Tec family kinases are tyrosine kinases that function primarily in hematopoietic cells. The catalytic activity of the Tec kinases is positively influenced by the regulatory domains outside of the kinase domain. The current lack of a full-length Tec kinase structure leaves a void in our understanding of how these positive regulatory signals are transmitted to the kinase domain. Recently, a conserved structure within kinases, the \\u2018regulatory spine\\u2019, has been identified that assembles and disassembles as a kinase switches between its active and inactive states. Here we define the residues that comprise the regulatory spine within Tec kinases. Compared to previously characterized systems, the Tec kinases contain an extended regulatory spine that includes a conserved methionine within the C-helix and a conserved tryptophan within the SH2-kinase linker of Tec kinases. This extended regulatory spine forms a conduit for transmitting the presence of the regulatory domains of Tec kinases to the catalytic domain. We further show that mutation of the gatekeeper residue at the edge of the regulatory spine stabilizes the regulatory spine resulting in a constitutively active kinase domain. Importantly, the regulatory spine is preassembled in this gatekeeper mutant rendering phosphorylation on the activation loop unnecessary for its activity. Moreover, we show that the disruption of the conserved electrostatic interaction between Btk R544 on the activation loop and Btk E445 on the C-helix also aids in the assembly of the regulatory spine. Thus, the extended regulatory spine is a key structure that is critical for maintaining the activity of Tec kinases.  Keywords: Itk and Btk, regulatory spine, kinase activation, gatekeeper residue, phosphorylation Go to: INTRODUCTION Protein kinases catalyze the transfer of a phosphate group from ATP to a hydroxyl containing amino acid side chain; either Ser/Thr for serine-threonine kinases or Tyr for tyrosine kinases[1]. The activity of protein kinases is exquisitely regulated within the cell[1; 2; 3; 4]. The switch from the catalytically inactive state of a kinase to the active state is often accompanied by the phosphorylation of a key residue within the activation loop, a large flexible loop that lies between the two lobes of the kinase domain structure[1]. Phosphorylation of the activation loop residue can trigger concerted movements in other mobile elements within the kinase domain such as the C-helix and the DFG motif that brings about the assembly of the catalytically critical residues in the kinase active state[1]. The active state conformations associated with different kinases are nearly identical across the many kinases for which high resolution structures have been solved[2; 3; 5; 6; 7]. It is not surprising that the active states of distinct kinases are very similar since the phospho-transfer chemistry carried out by different kinases is the same. In contrast, it is becoming clear that the structural features associated with the inactive state of various kinases differ widely.  The search for features that are conserved within the structures of active kinases has recently led to the identification of a structure termed the \\u2018regulatory spine\\u2019[8; 9]. The regulatory spine was first identified by Local Spatial Patterns alignment analysis using a set of serine-threonine and tyrosine kinase structures that included PKA as a model kinase[8; 9]. The regulatory spine defines a stretch of amino acid residues that is assembled only in the active state of kinases. Unlike consensus sequences that consist of a continuous stretch of amino acids in the primary structure, the regulatory spine consists of disparate residues that span the N- and C-terminal lobes of the kinase domain. Assembly of the regulatory spine has been proposed to be a crucial step in the activation of protein kinases and this structure is disrupted in structures of kinases in the inactive state. Moreover, the regulatory spine has been proposed as the mechanism by which allosteric effects can be propagated to the kinase active site[8; 9].  The Tec kinases are immunologically related tyrosine kinases which consist of five mammalian members: Itk, Btk, Tec, Txk and Bmx[10; 11]. Tec kinases share similar domain architecture as Src, Abl and Csk family of kinases, in that they have the SH3-SH2-kinase domain cassette[10]. Despite domain similarities, we and others have shown that the regulation of Tec kinases is distinct from Src and Abl kinases[10; 12; 13; 14]. Unlike the Src and Abl kinases, the N-terminal regulatory domains of Tec kinases positively regulate the activity of the kinase domain[14]. While the isolated kinase domains of Src and Abl are active, the isolated kinase domains of the Tec family exhibit poor catalytic activity[13; 14; 15]. Regulation of the Tec kinases is in fact more similar to the Csk family of enzymes, whose N-terminal regulatory domains are essential for the catalytic activity of the kinase domain[16]. Moreover, while the structures of full-length Src and Csk kinases are available, the structure of a full-length Tec kinase remains elusive[2; 17; 18]. This leaves a significant gap in our mechanistic understanding of the regulation of the Tec family kinases.  In this manuscript, we define the regulatory spine within the Tec family kinases and show that mutation of the spine residues leads to different effects in the context of the isolated kinase domain verses full-length Itk. Moreover, we show that the assembly of a stable regulatory spine within members of the Tec kinase family is critically dependent on the presence of the SH2-kinase linker region. The residues that comprise the regulatory spine within PKA are insufficient to promote the assembly of a stable regulatory spine within the Tec kinases. We extend the Tec regulatory spine to include a conserved methionine within the C-helix and a conserved tryptophan residue within the SH2-kinase linker of Tec kinases. Together with the spine residues originally identified within the PKA kinase domain, the conserved methionine and tryptophan residues form a continuous structure that links the kinase active site to the N-terminal regulatory domains of Tec kinases. Furthermore, we show that the stabilization of the regulatory spine by the gatekeeper threonine to methionine mutation eliminates the need for phosphorylation on the activation loop for Btk kinase activity. Thus, the extended regulatory spine is a structure that is critical for the regulation of Tec kinases and if stabilized appropriately, is sufficient for activation in the absence of activation loop tyrosine phosphorylation and in the absence of the non-catalytic Tec regulatory domains.  Go to: RESULTS The regulatory spine controls Tec kinase activity  The regulatory spine within PKA consists of five residues: L95, L106, Y164, F185, and D220[9]. These residues are spread throughout the primary sequence of the PKA kinase domain: L95 is located on the C-helix, L106 is on the N-terminus of the \\u03b24 strand, Y164 is part of the \\u2018HRD\\u2019 motif, F185 is from the \\u2018DFG\\u2019 motif and D220 is on the F-helix within the C-terminal lobe[9]. Alignment of the structure of the Btk and Itk kinase domains with that of PKA shows that the corresponding regulatory spine residues within the Btk and Itk kinase domains should consist of: Btk M449, L460, H519, F540 and D579 and Itk M409, L420, H479, F500 and D539 respectively (Fig. 1a).  Figure 1 Figure 1 Identification of the regulatory spine in Tec kinases To test the role of the predicted spine residues in the Tec kinases, we wished to take advantage of the rapid bacterial expression and purification system that has been developed for the isolated kinase domains of Itk and Btk[19]. One issue that arises, however, is the fact that the isolated kinase domains of the Tec kinases exhibit poor catalytic activity and so the expected loss of function mutations in the regulatory spine would be difficult to characterize given the already low activity of the wild type kinase domains. In order to take advantage of the ease of the bacterial expression system, we needed an isolated Btk and Itk kinase domain with higher catalytic activity. It has been demonstrated previously that introduction of a bulky hydrophobic residue such as isoleucine or methionine at the gatekeeper position activates multiple kinases[20]. Indeed, we find that the Itk F434M and Btk T474M isolated kinase domains are more active when compared to wild-type isolated kinase domain (manuscript in preparation). We therefore probed the importance of the predicted regulatory spine residues in Itk and Btk by mutating them individually to alanine in the context of the Itk F434M and Btk T474M isolated kinase domain mutants. Activity measurements are carried out by monitoring the phosphorylation levels of a peptide substrate in a radioactive assay or by detecting the level of autophosphorylation on the activation loop tyrosine (Y511 in Itk and Y551 in Btk) by western immunoblotting. While phosphorylation of the activation loop tyrosine is achieved by the activity of the Src family kinases Lck and Lyn respectively in vivo, under in vitro conditions Tec kinases autophosphorylate on the activation loop tyrosine[21; 22; 23].  Disruption of the regulatory spine residues by mutation to alanine is predicted to disrupt kinase activity. Indeed, mutation of Btk M449, H519, F540 and D579 and Itk M409, H479, F500 and D539 to alanine within the isolated kinase domain of Itk F434M and Btk T474M leads to decreased phosphorylation on the activation loop tyrosine and drastically reduces the catalytic activity (Fig. 1b, c, d and e). Itk kinase residues such as M409, F500 and H479 are highly conserved with other kinases with well-defined roles in catalysis[8]. Itk M409 is involved in binding the substrate ATP[12]. Itk F500 is part of the \\u2018DFG\\u2019 motif at the start of the activation loop segment and is responsible for stabilizing the conformation of the preceding aspartate, and the C-helix[8]. Itk H479 is part of the \\u2018HRD\\u2019 motif where it serves as a scaffold for D499 and F500[8]. It is therefore not surprising that mutation at these sites leads to a loss in activity. However, Itk D539 is not part of any previously characterized regulatory motif and therefore the drastic reduction in Itk activity upon mutation of this residue to alanine highlights the importance of the regulatory spine in regulating Itk activity. Moreover, since the regulatory spine residues are conserved within the Tec kinase family, this structure would be predicted to be critical for regulating the activity of all Tec kinase family members.  Unexpectedly, mutation of Itk L420 and Btk L460 to alanine, which based on the previous PKA work is predicted to be part of the regulatory spine, failed to inactivate the isolated kinase domains of Itk F434M or Btk T474M (Fig. 1b, c, d and e). In fact, the isolated kinase domains of both Itk L420A/F434M and Btk L460A/T474M double mutants showed an increase in activity when compared to the isolated kinase domain of Itk F434M and Btk T474M, respectively. To ensure that the activating effect of the Leu to Ala mutation was not an artifact of working with the activated (gatekeeper mutant) isolated kinase domains of Itk and Btk, the regulatory spine residues were mutated to alanine in the context of wild-type isolated kinase domains of Itk and Btk. Since the catalytic activity of the isolated kinase domain of Tec kinases is generally poor, the detection of activation loop phosphorylation levels by western immunoblotting is difficult and for Itk, in particular, phosphorylation Y511 is below the detection limit by western immunoblotting. Hence, the activity of the wild-type and regulatory spine mutants of the isolated kinase domains of Itk and Btk are monitored by their ability to phosphorylate a peptide substrate in the radioactive assay.  The results of the regulatory spine mutations in the context of the wild type kinase domains mirror the results for the activating gatekeeper mutants described above. Mutation of Btk M449, H519, F540 and D579 to alanine within the isolated wild type kinase domain of Btk leads to decreased catalytic activity (Fig. 1f). Circular dichroism spectra of the Btk mutants overlay well with that of wild-type Btk showing that the decreased activity of the Btk mutants are not due to unfolding of the kinase (Supp. Fig. 1). Since the activity of the isolated Itk wild-type kinase domain is not significantly above background levels, the resulting activity of the Itk spine mutants: Itk M409A, H479A, F500A and D539A can not be interpreted except to say activity is no greater than wild type (Fig. 1g). However, consistent with our earlier results with the gatekeeper mutant, the Itk L420A and Btk L460A mutants are both more active than wild-type isolated kinase domain of Itk and Btk, respectively (Fig. 1f and g). Interestingly, previous studies on the regulatory spine within the Abl kinase have shown that mutation of Abl L320 to glycine (corresponding to Itk L420 and Btk L460), leads to only a slight decrease in kinase activity of full length Abl[20]. This is also consistent with modeling studies of Abl that have shown that Abl L320 has a modest impact on regulatory spine formation[20]. Thus, Itk L420 and Btk L460 do not play a major role in the assembly of the regulatory spine within the context of the isolated kinase domain of Itk and Btk.  The regulatory spine is not assembled in the structure of phosphorylated Itk kinase domain  Activation of Tec kinases requires the phosphorylation of a conserved tyrosine within the activation loop[12; 21; 23]. Separate high-resolution structures of the Btk kinase domain with Y551 either phosphorylated (active) or unphosphorylated (inactive) have recently been reported[24]. A comparison of the inactive and active states of Btk kinase domain shows clear differences in the region of the regulatory spine (Fig. 2a). The regulatory spine residues assemble into a linear arrangement in the structure of the active Btk kinase, while interactions between the regulatory spine residues (in particular L460, M449 and F540) are disrupted in the structure of inactive Btk kinase. The structural differences in this region between active and inactive Btk are consistent with the role of the regulatory spine as defined previously for PKA (Fig. 2a).  Figure 2 Figure 2 The regulatory spine is assembled only in the active state of kinases Crystal structures of the isolated kinase domain of Itk that is either unphosphorylated or phosphorylated on Y511 in the activation loop are also available[12]. Surprisingly, the available Itk kinase domain structures overlay quite well, with little or no conformational differences between them regardless of the phosphorylation state of the activation loop. Inspection of the Itk kinase domain structures shows that the regulatory spine residues in the Itk kinase domain structures adopt a disrupted configuration similar to the inactive Btk kinase domain (Fig. 2b). An additional hallmark of an active kinase domain structure is the formation of a crucial ion pair between a conserved lysine positioned within the \\u03b23 strand of the kinase domain and a conserved glutamate on the C-helix[1]. The distance between the corresponding residues (Itk K390 and E405) within the structures of both phosphorylated and unphosphorylated Itk kinase domain is on the order of 8.0 \\u00c5 which is significantly greater than the 3 to 4 \\u00c5 distance that is observed in the structures of other active kinases (Fig. 2b)[12]. Indeed, the distance between the same conserved ion pair within Btk, (Btk K430 and E445) changes from 14.6 to 3.8 \\u00c5 upon activation of the kinase (Fig. 2a). These observations suggest that both the phosphorylated and unphosphorylated Itk kinase domains adopt a conformation consistent with the \\u2018inactive\\u2019 enzyme. The inability of the Itk kinase domain to fully assemble into an active conformation, despite being phosphorylated on Y511 in the Itk activation loop, points to additional requirements for activation.  A notable difference between the Itk and Btk crystal structures is that the construct used for the crystallization of the Btk kinase domain included the SH2-kinase linker, while that of the Itk kinase did not (Fig. 2a & b)[12; 24]. We hypothesize that the absence of the SH2-kinase linker within the Itk construct used for crystallography might prevent the assembly of a stable regulatory spine in the kinase domain despite phosphorylation on the activation loop Y511.  Extension of the Tec kinase regulatory spine  We have previously shown that the SH2-kinase linker, the 17 amino acids between the SH2 domain and the kinase domain, is critical for the activity of both Btk and Itk, exerting a positive effect on the catalytic function of the kinase domain[14]. More specifically, a conserved tryprophan (Itk W355, Btk W395) in the SH2-kinase linker, as well as a methionine residue in the C helix (Itk M410, Btk M450) are crucial residues in the Tec family kinase regulatory apparatus (Fig. 3a)[14]. Like the regulatory spine mutants described in Figure 1, point mutations of Itk W355, Btk W395 or Itk M410 to alanine all result in a significant drop in catalytic activity (Fig. 3b). Examination of the crystal structures of Btk shows that Btk W395 and Btk M450 are located at the \\u2018top\\u2019 of the regulatory spine and, in the active Btk structure, serve to extend the hydrophobic packing of the spine residues well into the N-terminus of the kinase domain (Fig. 3c & d). In the inactive Btk structure, repositioning of the W395 and M450 side chains disrupts the extended regulatory spine (Fig. 3c & d) in much the same manner that repositioning of M449 in the inactive Btk structure disrupts the core of the spine (Fig. 2a). The active and inactive Btk structures consist of the same amino acids (residues 382\\u2013659) and differ with respect to the activation loop tyrosine (Y551). In the active structure the activation loop tyrosine is mutated to glutamate (Y551E) to mimic phosphorylated Btk, and for the inactive structure wild type Btk in the unphosphorylated form was used for crystallization[24].  Figure 3 Figure 3 Extension of the regulatory spine within Tec kinases to include the SH2-kinase linker Compared to the regulatory spine that has been defined for PKA[9], the Tec kinase family requires at least two additional residues (Itk W355 & M410) to fully assemble the regulatory spine. The tryptophan residue is located in the SH2-kinase linker region providing an explanation for the positive regulatory role of this non-catalytic region[14]. The available Itk kinase domain structures are entirely consistent with this finding; without the contribution of the SH2-linker region, the regulatory spine of Itk does not assemble into the active conformation. As a result, the structures of the phosphorylated and unphosphorlated Itk kinase domain fragments are very similar to each other and neither resembles an active kinase. Future structures of Tec kinases with and without the SH2-kinase linker in various activation (phosphorylation) states will be required to fully probe this hypothesis.  Itk L420 and Btk L460 are essential for the formation of the extended regulatory spine within full-length Tec kinases  The conserved tryptophan in the SH2-kinase linker is critical for the activity of full-length Tec kinases[14]. Upon activation, the tryptophan side-chain forms part of a hydrophobic pocket that is lined by the conserved methionine on the C-helix and leucine on the \\u03b24 strand (Itk M410, L420 and Btk M450, L460) (Fig. 3d). Although Itk L420 and Btk L460 were shown to not be a part of the regulatory spine in the context of the isolated kinase domain (Fig. 1), the structure of the Btk kinase domain (which contains the SH2-kinase linker region) suggests that this leucine would be critical for the formation of the extended regulatory spine in the context of the full-length kinase. We therefore tested the role of this leucine in the context of full-length Itk.  As shown in Figure 3e, mutation of Itk L420 to alanine within the context of full-length Itk disrupted the activity of Itk. Consistent with our earlier results, mutation of Itk M409, F500 and D539 to alanine within full length Itk also inactivated the kinase. Problems with cloning prevented us from testing the activity of the full-length Itk H479A mutant. Together, Itk M409, L420, H479, F500, D539, M410 and W355 form a conserved allosteric signaling network that is absolutely required for the activity of Itk. Based on sequence conservation, the extended regulatory spine defined here likely controls the activity of the entire Tec kinase family.  Phosphorylation on the activation loop tyrosine is not required for the activity of the Btk T474M mutant  It is well established that activation loop phosphorylation is required for activation of tyrosine kinases[1; 8] and specifically for the Tec kinases, phosphorylation on the activation loop tyrosine results in at least a ten-fold increase in activity[21; 25]. Structures of active and inactive kinase domains from a number of different kinases demonstrate a conserved electrostatic network that switches between the active and inactive conformations (Fig. 4a)[1; 8]. In the inactive state of Btk, the conserved glutamate (Btk E445) on the C-helix (of the Lys-Glu ion pair) is associated with a conserved arginine (Btk R544) on the activation loop[24; 26]. Activation of Btk by phosphorylation on Btk Y551 (the activation loop tyrosine) leads to a specific interaction between pY551 and R544, and a concomitant loss of the association between the R544 and E445[24; 26]. Btk E445 on the C-helix then swings toward the kinase active site and associates with the conserved lysine side chain (Btk K430) to bring about the assembly of the active state of the kinase[24; 26]. The conformational adjustment of the C-helix brings M449 and M450 in line with the other residues of the regulatory spine (Fig. 4a). Thus, phosphorylation on the activation loop tyrosine is an initiating step in the process of regulatory spine assembly.  Figure 4 Figure 4 The regulatory spine is preassembled in the Btk T474M gatekeeper mutant Since mutation of the gatekeeper residue to methioine appears to stabilize the regulatory spine within Btk, we next probed the requirement of activation loop phosphorylation in the context of the T474M gatekeeper mutation. The activity of the BtkT474M/Y551F double mutant was compared to that of the Btk T474M mutant by monitoring phosphorylation of an exogenous substrate. We find that mutation of the activation loop Btk Y551 to phenylalanine has no effect on the activity of the Btk T474M mutant (Fig. 4b & c). The Btk T474M/Y551F double mutant and the Btk T474M single mutant are both active, whereas the wild type Btk kinase requires activation loop phosphorylation; the Btk Y551F single mutant exhibits poor activity (Fig. 4b). These data are consistent with the idea that phosphorylation on the activation loop tyrosine initiates the assembly of the regulatory spine by disrupting the association between Btk E445 and Btk R544. Once pY551 competes with E445 for association with R544, the E445/K430 salt bridge is formed, bringing the C-helix (and importantly M449) into the regulatory spine structure. Under conditions that pre-organize the regulatory spine structure (as in the Btk T474M mutant), phosphorylation on the activation loop Y551 is no longer required to trigger the conformational changes that accompany Btk activation.  We further tested the importance of this switched electrostatic network by mutating Btk R544. We reasoned that mutation of Btk R544 will activate the kinase as inward movement of the C-helix is restrained by the E445:R544 interaction and loss of this electrostatic interaction should facilitate movement of the C-helix. Indeed, mutation of Btk R544 to serine in the context of wild-type isolated kinase domain of Btk leads to a two-fold increase in activity (Fig. 4d & e). In contrast, mutation of Btk R544 to serine in the context of Btk T474M isolated kinase domain does not further activate the kinase (Fig. 4d & e). These results again suggest that pre-assembly of the kinase regulatory spine (by mutation) can overcome the regulatory interactions that normally control kinase activity. Thus, for the wild-type kinase under physiological conditions, phosphorylation on the activation loop sets into motion a cascade of events: (1) formation of the pY551:R544 interaction with concomitant disruption of the Btk E445:R544 interaction, (2) inward movement of the C-helix and formation of the E445:K430 interaction and (3) assembly of the regulatory spine, that culminates in the formation of an active kinase (Fig. 4a).  Go to: DISCUSSION The structures of the isolated kinase domain of Btk in both the active and inactive states have provided significant insight into Tec kinase activation[24; 26]. However, the lack of a full-length structure of any Tec kinase leaves numerous unanswered questions regarding the regulation of Tec kinases. While the SH2 domain and the SH2-kinase linker region of Tec kinases have been shown to be required for the activity of Tec kinases[12; 13; 14], the mechanism by which these regulatory domains positively influence catalytic activity has not been clear. Here we identify an intramolecular allosteric signaling network that extends from the SH2-kinase linker into the kinase domain of Tec kinases. This intramolecular connectivity defines how the non-catalytic Tec regulatory domains, through the SH2-kinase linker region, impinge on the kinase domain and stabilize the regulatory spine. In the absence of the Tec regulatory domains, whether achieved by deletion or conformational changes within the full-length molecule, the regulatory spine is disrupted and kinase activity is inhibited.  Comparing our results to those previously published for PKA shows that the Tec kinases require an extended spine structure and it is this longer regulatory spine that couples kinase activity to regions outside of the kinase domain. Specifically, a conserved methionine in the C-helix and a conserved tryptophan in the SH2-linker swing in to \\u2018cap\\u2019 the spine in the active Btk structure and are critical for the activity of the Tec kinases. Mutation of these extended spine residues disables kinase activity even if the \\u2018core\\u2019 residues defined for PKA are intact.  Further support for the importance of the entire regulatory spine comes from examination of the genetic mutations in Btk that are associated with X-linked agammaglobulinemia (XLA) in humans, a disease that is characterized by impaired B cell development[27]. Several of the extended regulatory spine residues identified in this study are mutated in XLA patients[27]. In addition to nonsense mutations at Btk M449, M450 and W395, which cause premature truncation of the protein, there are also missense mutations at Btk M450, F450 and D579 (M450I, F450S and D579V). These mutations likely destabilize the regulatory spine and prevent Btk kinase activation.  Activation loop tyrosine phosphorylation has long been known to influence kinase activity. In addition to priming the kinase domain for the assembly of the regulatory spine, phosphorylation on the conserved Tyr of the activation loop is also thought to stabilize the substrate-binding site of the activation loop[1]. However, our work has shown that in the context of the activating gatekeeper Btk T474M mutation, loss of Y551 phosphorylation (by mutation to phenylalanine) has no affect on substrate phosphorylation. Pre-assembly of the regulatory spine (mutation of T474M) removes any requirement for activation loop phosphorylation. These results are consistent with earlier studies that focused on phosphorylation of Y551 in Btk[25]. That earlier work did show that phosphorylation on Btk Y551 significantly alters catalytic activity of Btk; kcat of the Btk Y551F mutant is greatly diminished compared to wild-type Btk presumably due to loss of the trigger for regulatory spine assembly. However, the affinity for a peptide substrate is unaffected by Y551 phosphorylation; Km of a peptide substrate for Btk Y551F mutant is the same as wild-type Btk. As well, an alternative direct substrate docking mechanism has been identified for the Tec kinases, in which an SH2 domain within the substrate docks onto the kinase domain outside of the active site and facilitates substrate phosphorylation[28; 29; 30]. It is therefore possible that the peptide substrate-binding region on the activation loop may only play a minor role in substrate recognition in Tec kinases and that activation loop phosphorylation plays one significant role: initiation of spine assembly by altering electrostatic interactions in and around the active site.  We have previously shown that the regulation of Tec family kinases is similar to that of Csk (C-terminal Src kinase)[14]. Unlike the Src and Abl family of kinases, the SH3 and SH2 regulatory domains of Csk and Tec kinases positively influence the catalytic activity of the kinase domain[14; 16]. Like Itk and Btk, the isolated kinase domain of Csk has poor catalytic activity[16; 31; 32]. In order to define the elements within the Csk kinase domain that are responsible for the poor catalytic activity, a mutagenesis study was carried out in which Src:Csk kinase domain chimeras were created[33]. A Src:Csk chimeric kinase domain where the N-terminal lobe of Csk was replaced with the N-terminal lobe of Src was shown to exhibit activity comparable to that of full-length Csk[33]. Further mutagenesis of the N-terminal lobe, identified the C-helix and the \\u03b2 turn between the \\u03b24 and \\u03b25 strands (the \\u2018top\\u2019 of the regulatory spine) as key structural elements that are required for the activity of the isolated kinase domain of Csk[33].  There is remarkable correlation between the elements that are identified in the Csk mutagenesis study and the extended regulatory spine of Tec kinases identified in this study. Since the Csk and Tec family kinases are both positively regulated by domains outside of the kinase domain, it is not surprising that they would share the key determinants of catalytic activity. Indeed, as suggested in the original identification of the kinase regulatory spine[9], this feature likely plays a critical role in all active kinases. Our work confirms this notion for the Tec family kinases, and illustrates that extension of the regulatory spine by two residues couples this regulatory feature to allosteric events occurring outside of the kinase domain. Moreover, our data suggest that despite a high degree of sequence conservation, the five core regulatory spine residues do not assemble into the active conformation in the context of the isolated Itk or Btk kinase domains. The energetics of spine assembly seem to be tailored for each specific regulatory environment; the Tec kinase domains are maintained in their inactive state (spine assembly does not occur even when the activation loop is phosphorylated) until additional regions of the protein (in this case the SH2-linker) are present to drive complete spine assembly forward and fully activate the kinase.\",\n          \"More than 50% of transitional cell carcinomas of the bladder show loss of heterozygosity of a region spanning the TSC1 locus at 9q34 and mutations of TSC1 have been identified in 14.5% of tumours. These comprise nonsense mutations, splicing mutations, small deletions and missense mutations. Missense mutations are only rarely found in the germline in TSC disease. Therefore, we have examined six somatic missense mutations found in bladder cancer to determine whether these result in loss of function. We describe loss of function via distinct mechanisms. Five mutations caused mutually exclusive defects at mRNA and protein levels. Of these, two mutations caused pre-mRNA splicing errors that were predicted to result in premature protein truncation and three resulted in markedly reduced stability of exogenous TSC1 protein. Primary tumours with aberrant TSC1 pre-mRNA splicing were confirmed as negative for TSC1 expression by immunohistochemistry. Expression was also significantly reduced in a tumour with a TSC1 missense mutation resulting in diminished protein half-life. A single TSC1 missense mutation identified in a tumour with retained heterozygosity of the TSC1 region on chromosome 9 caused an apparently TSC2- and mTOR-independent localization defect of the mutant protein. We conclude that although TSC1 missense mutations do not play a major role in causation of TSC disease, they represent a significant proportion of somatic loss of function mutations in bladder cancer.  Go to: INTRODUCTION Tuberous Sclerosis Complex (TSC) is an autosomal dominant tumour suppressor gene syndrome with an incidence of 1 in 6000\\u201310 000 births. TSC is characterized by the development of benign growths, called hamartomas, in the kidneys, heart, brain and skin, and patients present clinically with a variety of developmental disorders (1). TSC is caused by mutations affecting either of the tumour suppressor genes TSC1 or TSC2. TSC1 on chromosome 9q34 encodes hamartin (2) and TSC2 on chromosome 16p13.3 encodes tuberin (3). Approximately half of large TSC families show linkage to 9q34 and half to 16p13.3 (4\\u20136). Tumour development in TSC patients is thought to occur as the result of a somatic \\u2018second-hit\\u2019 in either TSC1 or TSC2, according to Knudson\\u2019s tumour suppressor model (7). Loss of heterozygosity (LOH) of TSC1 or TSC2 has been reported in some TSC hamartomas, such as renal angiomyolipomas. However, loss of the wild-type allele in brain lesions is rare, suggesting the possibility of tissue-specific haploinsufficiency of TSC genes (8\\u201310).  Co-localization and co-immunoprecipitation of TSC1 and TSC2 in mammalian cells (11,12) and direct binding in yeast two-hybrid assays provide a tentative explanation for the similar disease phenotype in TSC patients with mutations in either TSC1 or TSC2 genes (2,13). Functionally, the TSC1/TSC2 complex is positioned at the centre of multiple growth signalling pathways and is a key integrator of signals controlling protein translation and cell growth (14). Activation of the TSC1/TSC2 complex in growth-limiting conditions attenuates signalling through mTOR via specific GTPase activating protein (GAP) activity of TSC2 towards RHEB (15,16).  While epithelial malignancy is not a common feature of TSC, studies in this laboratory and others have implicated loss of function of TSC1 in bladder tumorigenesis (17\\u201319). Loss of heterozygosity (LOH) for markers on chromosome 9 is observed in more than 50% of bladder tumours of all grades and stages (20) and sub-chromosomal LOH analyses have identified the TSC1 locus at 9q34 as a common critical region of deletion between markers D9S149 and D9S66 (19,21\\u201323). To date, we have screened 154 bladder tumours by fluorescent single strand conformation polymorphism (F-SSCP) analysis and direct sequencing, and found an overall mutation frequency of 14.5%. The mutation spectrum comprises nonsense (35%), missense (26%), frameshift (26%), in-frame deletions (3%) and splicing (10%) mutations (24) (Platt et al., in preparation). In all cases but one, TSC1 missense mutations were tumour-specific somatic events. TSC1 is the only gene on 9q that has been found to be mutated in bladder tumours, and may therefore be the critical gene on this chromosome arm implicated in >50% of all bladder tumours.  Missense mutations of TSC1 have not routinely been confirmed as functionally inactivating in TSC disease, though two recent reports provide evidence that in a few cases these are likely to be disease-causing (25,26). Here we sought to determine whether the TSC1 missense mutations identified in bladder tumours constituted inactivating mutations. We anticipated that discrete amino acid changes of mutant proteins might allow the identification of functionally important residues. Wild-type and mutant TSC1 constructs were retrovirally delivered into TSC1-null bladder tumour cell lines and functionally characterized. All somatic TSC1 missense mutations perturbed TSC1 function by causing aberrant splicing, protein instability or protein mislocalization. Defects were confirmed in primary tumours by RT\\u2013PCR analysis of mutant transcripts and immunohistochemical analysis.  Go to: RESULTS Missense mutations of TSC1 identified in bladder tumours  Previously, we identified 8 mutations including 2 missense mutations in a series of 62 bladder tumours (24). Screening of an additional 92 tumours (Platt et al., in preparation) identified an additional 15 mutations of which 4 were missense mutations. In total, therefore, 6 missense mutations have been identified in 154 tumours, representing 26% of all mutations found (Table 1). Mutations were determined as tumour-specific by genotyping of paired tumour and blood samples. 1250C>T (Thr417Ile) was previously described in the germline in TSC disease in Japanese patients, but was not confirmed as causative of TSC (27,28). 1250C>T was also identified in our laboratory in the patient\\u2019s constitutional DNA, and the tumour sample retained heterozygosity for microsatellite markers at the TSC1 gene locus (24). Threonine 417 was previously identified as a site of CDK1-dependent phosphorylation (29). To determine the biological significance of this variant, 1250C>T (Thr417Ile) was characterized here alongside tumour-specific missense mutations. Five of six other tumours with TSC1 missense mutations showed LOH for markers at the TSC1 locus (Table 1). There was no relationship between mutation and tumour stage or grade. Missense mutations were predominantly N-terminal but did not localize to a common functional domain (Fig. 1).  Figure 1. Figure 1. Positions of amino acid substitutions in relation to described functional domains of hamartin. Table 1. Table 1. TSC1 missense variants identified in bladder tumours To assess possible functional implications of amino acid substitutions, conservation of missense mutant residues was determined in TSC1 orthologs. His68, Phe158 and Phe216 were conserved among Rattus, Mus, Drosophila, Fugu and Gallus orthologs. His105, His206 and Thr417 differed only in Drosophila, which shares 31% identity with human TSC1. Ser35 differed in Drosophila, Fugu and Gallus orthologs. According to the BLOSUM62 scoring matrix (30), His68Arg and His105Arg substitutions are considered conservative. Ser35Cys, His206Asp and Thr417Ile are less conservative and Phe158Cys and Phe216Asp are least conservative (Table 1).  Re-expression of missense mutant TSC1 proteins in TSC1-null urothelial cells  We anticipated that missense mutations might lead to loss of function at the amino acid level. Thus, our initial approach was to express wild-type and missense mutant TSC1 cDNAs in TSC1-null bladder cell lines and investigate function of the mutant proteins. Missense mutant proteins were C-terminally FLAG- or GFP-tagged, expressed in 97-1 and HCV29 cells and characterized for TSC2 binding activity, and mTOR suppressive activity in nutrient-starved conditions.  Expression of mutant proteins was investigated by immunoblotting following retroviral transduction and selection of neomycin resistant mass cell populations. Expression levels of mutant proteins were markedly different; Ser35Cys, His105Arg, Phe216Asp and Thr417Ile were expressed at high levels similar to wild-type protein, whereas His68Arg and Phe158Cys were much reduced and His206Asp was not detected (Fig. 2A). Repeated independent infections of these two cell lines and of telomerase-immortalized normal human urothelial cells (TERT-NHUC) and assessment of mass populations of cells following selection resulted in entirely reproducible expression levels of all mutant proteins (data not shown). The transcription of missense RNA was confirmed by real time RT\\u2013PCR and uniform levels of wild-type and missense transcripts were detected (Fig. 2B). The consistently reduced or absent protein expression of His68Arg and Phe158Cys and His206Asp missense mutant forms despite the presence of RNA expression suggested possible effects of these missense changes on protein stability.  Figure 2. Figure 2. (A) Immunoblot showing levels of wild-type and mutant TSC1-FLAG proteins and endogenous TSC2 in 97-1 cell lines. (B) Measurement of TSC1 RNA levels by real time RT\\u2013PCR analysis of wild-type and mutant TSC1-FLAG mRNA transcript levels in 97-1 cell ... Mutant TSC1 proteins retain interaction with TSC2  The interaction between TSC1 and TSC2 appears to be important in maintaining the stability of each of the proteins. TSC1/TSC2 binding specifically augments TSC2 expression by limiting its ubiquitination (31,32). TSC2 GAP activity towards RHEB defines TSC1/2 mediated control of mTOR signalling, and phosphorylation of downstream effectors of mTOR is constitutive and refractory to amino acid withdrawal in cells lacking TSC1 or TSC2 (33\\u201335). Where expressed, missense mutant TSC1 proteins stabilized TSC2 levels in 97-1 cells (Fig. 2A) and co-immunoprecipitated with it (Fig. 3A). However, our data cannot exclude minor effects on interaction or TSC2 stability.  Figure 3. Figure 3. (A) Immunoblot showing TSC1 and TSC2 in 97-1 Neo control and FLAG-tagged wild-type and mutant TSC1 cell line lysates immunoprecipitated with anti-TSC1 and non-specific mouse IgM antibodies. (B) Immunoblot showing expression levels of GFP-tagged wild-type ... While His206Asp-FLAG was undetected in transduced 97-1 cells, we were able to achieve low-level expression of His206Asp-GFP in HCV29 cells, suggesting some stabilizing effect of the GFP tag. TSC2 co-immunoprecipitation and S6 phosphorylation assays were not accurately quantitative, but expression of all missense mutant proteins in TSC1-null cells reduced S6 phosphorylation in amino acid starved conditions, relative to vector alone (Fig. 3B), indicating that none of these mutant forms of TSC1 abolish interaction with TSC2.  Aberrant RNA splicing caused by TSC1 missense mutations  High-level expression and TSC2 binding activity of TSC1 Ser35Cys, His105Arg and Phe216Ala proteins suggested no functional effect of amino acid substitutions caused by 104C>G, 314A>G and 648T>A missense mutations. However, the expression of proteins from exogenous missense cDNAs did not allow the assessment of possible effects of mutations at the pre-mRNA level. We speculated that TSC1 missense mutations may cause loss of function through introduction of splicing errors in mutant transcripts in vivo. Therefore, wild-type and missense mutant TSC1 pre-mRNA sequences were screened for effects of mutations on splice site definition using the neural network algorithm (http://www.fruitfly.org/seq_tools/splice.html).  Interestingly, significant differences were seen between splice site scores of wild-type and 104C>G and 314A>G TSC1 transcripts. The 104C>G mutation, positioned 3 bp upstream of the TSC1 exon 3/4 junction, resulted in a reduced exon 3/4 splice motif score. The 314A>G mutation resulted in the introduction of a high-scoring 5\\u2032 donor splice site, immediately upstream of the A/G transversion, by generation of a novel consensus splice motif. No differences in splice site scores were observed between wild-type and 648T>A or 1250C>T transcripts or between wild-type and mutant transcripts that generated low exogenous protein expression.  To examine splicing of missense mutant TSC1 transcripts, fragments spanning the mutation site and flanking intron/exon junctions were amplified from respective tumour cDNAs by RT\\u2013PCR and sequenced. An RT\\u2013PCR product reproducibly amplified from cDNA of the tumour containing 104C>G showed increased electrophoretic mobility relative to a control fragment amplified from TERT-NHUC cDNA (Fig. 4A). Sequencing of the tumour product revealed use of a cryptic 5\\u2032 donor site in exon 4, the adjacent downstream exon to the 104C>G mutant exon (Supplementary Material, Fig. S1). The reduced splice motif score at the exon 3/4 junction was shown to have no effect on exon 3/4 splicing. If translated, this 104C>G mutant transcript would generate 26 new amino acids from an alternate reading frame and truncate prematurely at residue 79.  Figure 4. Figure 4. Semi quantitative RT\\u2013PCR analysis of TSC1 RNA in normal urothelial cells and TSC1 mutant tumour samples, showing increased electrophoretic mobility of RT\\u2013PCR products amplified from cDNA from tumours containing TSC1 104C>G (A) ... A faster migrating band was also reproducibly amplified from cDNA of the tumour containing 314A>G (Fig. 4B), compared to control TERT-NHUC cDNA. Sequence analysis of PCR products revealed a 50-nucleotide deletion in the transcript generated from the missense allele. The 314A>G mutation created a de novo 5\\u2032 donor splice site immediately upstream of 314A>G and resulted in the splicing of 50 nucleotides from the 3\\u2032 end of exon 5. The effect seen at the mRNA level was entirely consistent with the prediction made by in silico analysis. If translated, the 314A>G mutant transcript is expected to generate two new C-terminal amino acids and truncate prematurely at residue 107.  Exon skipping through introduction of a de novo 5\\u2032 splice site by point mutation is a relatively well-described mechanism of aberrant pre-mRNA splicing (36\\u201338). No normal transcript was amplified from cDNA from tumours containing TSC1 104C>G or 314A>G mutations, suggesting that all splicing occurs via the novel sites. The abundance of missense transcripts appeared lower than normal transcript by semi-quantitative RT\\u2013PCR, when standardized to HPRT. However, by real time RT\\u2013PCR, TSC1 transcript abundance was relatively higher in tumours with TSC1 missense mutations causing transcript splicing or protein stability defects, than in uncultured or cultured TERT-NHUC, when standardized to SDHA (data not shown).  Missense mutant TSC1 proteins exhibit reduced protein stability  The demonstration of consistently low-level exogenous protein expression, despite uniform mRNA transcript abundance, suggested diminished stability of TSC1 His68Arg, Phe158Cys and His206Asp mutant proteins. By inhibiting protein synthesis with cycloheximide, we determined that His68Arg, Phe158Cys and His206Asp mutant proteins were turned-over relatively faster than wild-type TSC1, in a proteasome-dependent manner (Fig. 5 A and B and data not shown). Moreover, by 35S labelling, we were able to show that His68Arg, Phe158Cys and His206Asp proteins had markedly shorter half-lives than wild-type TSC1 (Fig. 5C).  Figure 5. Figure 5. (A) Immunoblot showing turnover of wild-type and S35C and H68R missense TSC1 proteins in cycloheximide (CHX)-treated cells. Cells were cultured in full growth medium supplemented with 100 \\u00b5g/ml CHX or DMSO vehicle alone, and lysed at time-points ... Phe216Ala TSC1 protein shows altered localization  Previous studies have described a granular, cytoplasmic localization of endogenous TSC1 in vitro and in vivo and also of overexpressed TSC1 in COS-7 cells (39\\u201341). Localization of monomeric TSC1 and of TSC1 complexed with TSC2 is likely influenced by culture conditions given that components of the Akt-mTOR signalling cascade are membrane localized when activated. In addition, TSC2 is reported to shuttle into the nucleus in a cell cycle and phosphorylation-dependent manner (42\\u201344).  It was anticipated that the characterization of discrete missense amino acid changes may offer insight into potentially mTOR-independent or bladder-specific functions of TSC1. Our results indicated that TSC1 104C>G, 203A>G, 314A>G, 473T>G and 616C>G missense mutations cause loss of function by generic mechanisms of altered message or reduced protein stability. However, sequencing of RT\\u2013PCR products amplified from cDNA from the tumour containing the TSC1 648T>A mutation showed no altered splicing of the mutant transcript. Also, at the protein level, Phe216Ala was expressed at high levels similar to wild-type TSC1. The substitution of a phenylalanine residue for an alanine residue constitutes the loss of a high-molecular weight, hydrophobic benzyl group and is assigned a non-conservative \\u20132 BLOSUM62 score. The lack of effect on splicing or protein stability raised the possibility that this mutation may cause a defect in TSC1 protein function per se.  We determined the localization of GFP-tagged mutant proteins in nutrient replete and deficient conditions. Wild-type, Phe216Ala, Ser35Cys, His68Arg and Thr417Ile proteins were compared. In complete growth medium, wild-type TSC1 and Ser35Cys, His68Arg and Thr417Ile mutant proteins showed diffuse punctate cytoplasmic distribution with distinct cytoplasmic foci. In amino acid deficient medium, these proteins became localized almost exclusively to large cytoplasmic bodies. Intriguingly, the Phe216Ala substitution markedly altered the localization of TSC1; Phe216Ala was exclusively cytoplasmic and diffuse in full growth medium and did not redistribute to discrete bodies in amino acid deficient conditions (Fig. 6). However, it was shown to stabilize and to co-immunoprecipitate with endogenous TSC2, and to attenuate growth signalling through mTOR in starved conditions (Fig. 3B). These observations were reproduced in TSC1-transduced 97-1 and HCV29 cell lines and TERT-NHUC and suggest that localization of TSC1 to cytoplasmic foci is not a requirement for TSC2 binding or negative regulation of mTOR. Also, defective localization of Phe216Ala is likely TSC2- and mTOR-independent, possibly suggesting an independent function of TSC1 at cytoplasmic foci.  Figure 6. Figure 6. Localization of wild-type TSC1 (A) and TSC1 Ser35Cys (B), Phe216Ala (C) and Thr417Ile (D) mutant proteins in amino acid-starved 97-1 cells. Cells were cultured in full growth medium on highly optically clear microscopy dishes to sub-confluence and amino ... Unlike the other five tumours with missense mutations, the tumour containing the TSC1 648T>A mutation did not show LOH of 9q, as confirmed by analysis of pure microdissected tumour cell populations (data not shown). Both normal and mutant alleles were detected by sequencing of tumour cDNA.  TSC1 protein expression in bladder tumour tissues  To examine the effects of pre-mRNA splicing defects and protein stability defects caused by missense mutations at the tumour level, TSC1 mutant and wild-type tumours were screened for expression of TSC1 protein by immunohistochemistry. Sensitivity and specificity of a rabbit monoclonal anti-TSC1 antibody was confirmed by staining of paraffin-embedded pellets of TSC1-null HCV29 cells and HCV29 in which wild-type TSC1 had been re-expressed (Fig. 7A and D). Normal ureter showed strong cytoplasmic TSC1 expression in the urothelium (Fig. 7E). Tumours with wild-type TSC1 showed strong cytoplasmic staining (Fig. 7F), and a tumour with a TSC1 73\\u201377\\u0394 5 small deletion causing premature truncation at residue 27, showed no TSC1 expression (Fig. 7C). Both tumours with homozygous TSC1 missense mutations causing pre-mRNA splicing defects were negative for TSC1 expression (Fig. 7G and H). Figure 7H shows normal urothelium with strong TSC1 staining adjacent to immunonegative TSC1 314A>G mutant tumour cells. The 648T>A (Phe216Ala) mutant tumour showed moderate TSC1 expression consistent with normal stability of the Phe216Ala protein and retention of chromosome 9q heterozygosity in the tumour (Fig. 7I). Of the three missense mutations causing reduced protein stability (TSC1 203A>G, 473T>G and 616C>G), tumour material was available only for the 616C>G (His206Asp) mutant sample. The 616C>G mutation was identified from tumour material resected in 2003, and TSC1 expression was shown to be low in three tumour resections from this patient in successive years (Fig. 7J\\u2013L).  Figure 7. Figure 7. TSC1 immunostaining of HCV29 Neo (A) and TSC1 (D) cell pellets, normal ureter (negative (B) and positive (E) antibody controls) and TSC1 73\\u201377\\u0394 5 (C) and TSC1 wild-type (F) bladder tumours. TSC1 staining of TSC1 missense mutant bladder ... Go to: DISCUSSION We have demonstrated that bladder tumour-derived TSC1 missense mutations result in loss of TSC1 function and that this occurs via distinct mechanisms. An overall TSC1 mutation frequency of \\u223c14.5% is found in bladder cancer (24) (Platt et al., in preparation) and missense mutations comprise 26% of mutations found to date. The identification of deleterious missense mutations in bladder tumours indicates a causative role of loss of TSC1 function via this mechanism in bladder tumorigenesis. The vast majority of TSC1 mutations in TSC disease are predicted to be protein truncating in nature, and no significant genotype/phenotype correlations have been observed (2,5,45\\u201348). Non-chain terminating TSC1 mutations (missense or in-frame deletions) are rare in TSC disease (27,47,49,50) (www.LOVD.nl/TSC1). Although missense mutations have been reported previously, most have not been confirmed as disease-causing. Several have been revealed as rare polymorphisms or associated with other nonsense mutations in the same patient (46,50). Others have been disregarded as potentially disease-causing on the basis of conservative amino acid changes, or have not been characterized further (27,51). However, a recent publication by Jansen et al. (26) that identified three missense mutations (L916R, M224R and E412V) in affected individuals reported functional analyses on two of these. It was reported that E412V affected RNA splicing. Interestingly, in transfections of constructs of wild-type TSC1 and the M224R variant, the latter showed lower levels of protein expression that were unable to completely suppress S6 phosphorylation, results similar to those described here for missense variants with reduced protein half-life.  We have shown that two of six bladder tumour-derived missense mutations result in pre-mRNA splicing defects, three lead to reduced stability of mutant proteins and intriguingly, one mutation causes a TSC2- and mTOR-independent localization defect of the mutant protein. Wild-type TSC1 showed a granular cytoplasmic distribution in cells in full growth medium and became localized almost exclusively to large cytoplasmic bodies in amino acid starved cells. In contrast, TSC1 was cytoplasmic and diffuse in serum-starved cells. Preliminary results indicated that TSC1 bodies were dynamic, non-aggresomal structures (data not shown). Interestingly, the Phe216Ala substitution abolished the localization of TSC1 to these bodies. As expected from its position outside the recognized TSC2 binding domain, TSC1 Phe216Ala retained TSC2 binding activity and mTOR suppressive activity in amino acid starved conditions, suggesting that localization of TSC1 to cytoplasmic foci was not a requirement for TSC2 binding or for suppression of mTOR signalling. This may also suggest that TSC1 has a separable function at cytoplasmic foci that is independent of TSC2 and independent of negative regulation of mTOR by TSC1/TSC2. However, it is not clear whether the formation of intensely staining bodies in conditions of over-expression of TSC1 and/or TSC2 (39,52) is relevant to the normal physiological condition. Further investigation of the function of Phe216Ala is now required, ideally at levels of expression that are closer to normal and in both TSC1-null cells and those expressing endogenous wild-type TSC1.  Although the missense variant 1250C>T (T417I) was found in the patient\\u2019s germline and this patient showed no symptoms of TSC, we included this variant in our analyses as threonine 417 has previously been identified as a site of CDK1-dependent phosphorylation (29). We found no evidence for a functional defect and conclude that this represents a rare polymorphism. As this patient was Japanese, as were both TSC patients in whom this variant was reported previously (27,28), this rare variant may be confined to the Japanese population.  Evidence suggests that cis-acting mutations affecting splicing of some tumour suppressor genes can have causal roles in tumour initiation and progression (53). Predicted and confirmed effects of TSC-related and bladder tumour-derived TSC1 missense changes on pre-mRNA splicing reported here underscore the importance of using RNA-based techniques, together with conventional mutation detection methods, to effectively identify disease-causing mutations. One of the mutations that deleteriously affected splicing (104C>G) had an unexpected effect. The use of a cryptic 5\\u2032 donor site in an adjacent downstream exon is a non-conventional splicing event; disease-associated mutations at splice junctions typically result in skipping of the mutant exon (38,54,55). The 104C>G mutation was shown to reduce the exon 3 5\\u2032 splice site motif score and to disrupt an enhancer sequence spanning exon 3/4. 104C>G also disrupts a U1 snRNA-binding motif, spanning the 5\\u2032 splice site from position \\u20133 to +8 (Supplementary Material, Fig. S1). In combination with a normally low-scoring exon 4 3\\u2032 acceptor site, these factors may result in reduced splicing efficiency of introns 3\\u20134. Spliceosome assembly is directed by juxtaposed splicing elements, and were introns 4\\u20135 to splice first, splicing machinery at the 3\\u2032 acceptor site of exon 4 may stimulate recruitment of U1 snRNA to possible binding sites in exon 4, and result in use of a cryptic 5\\u2032 donor site.  In bladder tumours as in TSC disease, nonsense, deletion and frameshift TSC1 mutations result in premature protein truncation and loss of protein function. We have now shown that missense mutations cause loss of function by aberrant splicing or reduced protein stability. The identification of tumour-specific TSC1 mutations in the context of chromosome 9 LOH argues strongly for a direct role of loss of TSC1 function in the aetiology of these tumours. These data are consistent with TSC1 acting as a tumour suppressor gene in bladder cancer in accordance with Knudsen\\u2019s two-hit hypothesis. Biallelic inactivation of TSC1 or TSC2 may not be necessarily required in some TSC-related tumours (9). The discrepancy between frequency of TSC1 mutation and frequency of LOH in the TSC1 gene region in bladder tumours suggests that haploinsufficiency of TSC1 may contribute to tumour development in some cases. LOH of chromosome 9 is a particularly frequent event in bladder cancer and to date, TSC1 is the only gene on 9q found to be mutated in bladder tumours. The contribution of partial loss of TSC1 to clonal expansion of tumour cells with 9q LOH is unknown, and haploinsufficiency remains a possibility in those bladder tumours with 9q LOH and no TSC1 mutation. LOH at the TSC1 locus may accompany another event driving loss of chromosome 9. Deletion of the CDKN2A locus at 9p21, which occurs in up to 50% of bladder tumours (56,57), or of an as yet unidentified chromosome 9 tumour suppressor gene, may constitute such a driving force. Loss of one copy of TSC1 may therefore be an advantageous gratuitous hit or \\u2018passenger event\\u2019 (58).  TSC is not a cancer prone syndrome and TSC lesions very rarely progress to malignancy. That TSC patients do not have an increased risk of developing bladder cancer, or other sporadic cancers, may be explained by the requirement of cumulative genetic insults and the typically late onset of malignant disease. The timing and order of initiating and subsequent genetic events in hamartoma and bladder tumour development is likely to be critical in determining malignant potential. Why TSC1 appears to be involved in bladder cancer and not other epithelial cancers is an unresolved question.  Frequent LOH of 9q is found in other tumour types, including ovarian carcinoma, gallbladder carcinoma, nasopharyngeal carcinoma and non-small cell lung cancer (59\\u201365). However, reports of TSC1 and TSC2 mutation status in sporadic tumours other than bladder are very few. No mutations were observed in sporadic glial and glioneuronal tumours or renal cell carcinomas (66,67). Fifty-three and 39% of lung adenocarcinomas and precursor lesions, respectively, were found to have LOH of 9q (68). Subsequently, a screen of 47 lung adenocarcinomas identified three confirmed TSC1 mutations. However, LOH and mutations were not detected simultaneously (69).  In ovarian carcinoma, gallbladder carcinoma, nasopharyngeal carcinoma and lung adenocarcinoma, LOH or deletion is described in both TSC gene regions (63,68,70,71). If loss of TSC1/2 complex function is the pathogenic effect of loss of TSC1, it may be expected that bladder tumours would also show loss of TSC2 function. In an LOH screen of 16p, we have detected LOH for markers at the TSC2 locus in 16% of bladder tumours (Platt et al., in preparation). It will be important to screen for mutations in the retained copy of TSC2 in cases with LOH to determine whether there is also an involvement of TSC2 or whether there is an important independent role of TSC1 in urothelial cells.  Abstract We have surveyed the mutations of TSC1 and TSC2 from 38 (25 sporadic, 11 familial, and 2 unknown) Japanese patients with tuberous sclerosis complex. In 23 of 38 subjects, we detected 18 new mutations in addition to 4 mutations that had been previously reported. We also found 3 new polymorphisms. The mutations were not clustered on a particular exon in either of the genes. Seven TSC1 mutations found in 3 familial and 4 sporadic cases were on the exons (3 missense, 2 nonsense point mutations, a 1-base insertion, and a 2-bp deletion). Fifteen TSC2 mutations were found in 5 familial cases, 10 sporadic cases, and 1 unknown case. The 12 mutations were on the exons (8 missense, 1 nonsense point mutations, a 1-bp insertion, a 5- bp deletion, and a 4-bp replacement) and 3 point mutations were on the exon\\u2013intron junctions. Although the patients with TSC2 mutations tend to exhibit relatively severe mental retardation in comparison to those with TSC1 mutations, a genotype\\u2013phenotype correlation could not yet be established. The widespread distribution of TSC1/TSC2 mutations hinders the development of a simple diagnostic test, and the identification of individual mutations does not provide the prediction of prognosis. Key words Tuberous sclerosis complex \\u2022 TSC1 gene \\u2022 TSC2 gene \\u2022 Hamartin \\u2022 Tuberin \\u2022 Mutation Introduction Tuberous sclerosis complex (TSC) is an autosomal dominant disease with an estimated prevalence of 1 in 10,000 in the Caucasian population and 1 in 31,000 in the Japanese population (Ohno et al. 1981; Gomez 1988). Multiple organs are affected in TSC, including the central nervous system (mental retardation, epilepsy), skin (facial angiofibroma, shagreen patches, hypopigmented macules, periungual fibromas), heart (cardiac rhabdomyomas), and kidney (cysts, angiomyolipoma). There are two causative genes of TSC. The TSC1 (hamartin) is located on 9q34 and consists of 23 exons. The TSC2 (tuberin) is located on 16p13.3 and consists of 41 exons (European Chromosome 16 Tuberous Sclerosis Consortium 1993; Van Slegtenhorst et al. 1997). Loss of heterozygosity (LOH) of either TSC1 or TSC2 in the affected tissues indicates that both act as a tumor suppressor (Green et al. 1994; Henske et al. 1995, 1996; Sepp et al. 1996). Multiple isotypes of tuberin are generated by alternative splicing at two different exons (exon 25 and 31) of TSC2 (Xiao et al. 1997). Since the identification of the TSC1/ TSC2 genes, the mutations in Caucasian TSC patients have been extensively surveyed (Kumar et al. 1995 a,b; Vrtel et al. 1996; Wilson et al. 1996; Bajek et al. 1997; Jones et al. 1997; Maheshwar et al. 1997; Van Slegtenhorst et al. 1997; Au et al. 1997, 1998). The mutations in Japanese TSC patients, however, have remained unknown. In the present study, we surveyed the mutations in Japanese patients and assessed the relationship between the mutations and clinical symptoms. Materials and methods Patients and sample collection Thirty-eight (25 sporadic, 11 familial, and 2 unknown) Japanese TSC patients were clinically diagnosed according to the criteria (Gomez 1988). In some cases, ultrasound renogra392 phy, MRI, and CT brain scan gave supportive evidence for the diagnosis. Genomic DNAs were prepared from the blood samples as described (Nanba et al. 1995). Healthy Japanese volunteer DNA as normal controls were extracted by the Nucleic Acid Purification System (MagExtractor MFX-2000; Toyobo, Osaka, Japan) from 100\\u00edl blood. Polymerase chain reaction-single strand conformation polymorphism (PCR-SSCP) analysis All coding exons of TSC1 and TSC2 were analyzed for every patient. Sets of PCR primers for the 41 exons of TSC2 were designed based on the TSC2 sequence, except for the primers for exon 13 and 25, which were kindly obtained by Dr. J.R. Sampson at the University of Wales, Cardiff, UK (Maheshwar et al. 1996) (Table 1). The primer information for the 21 coding exons of the TSC1 gene was obtained from Dr. O Hino in the Department of Experimental Pathology, Cancer Institute, Tokyo, Japan, and Dr. D.J. Kwiatkowski in Brigham and Womens\\u2019 Hospital, Boston, USA, except for the primers for exon 9 (CACTGAGTTGACACTCTGAAG and CTGAACTAAGTCTTACTCCAG), which were originally designed. PCR contained 25ng of the genomic DNA as a template, 10pmol of each primer, 0.25\\u00edM of each dNTP, 0.1 unit of Ampli Taq Gold (Perkin-Elmer, Norwalk, CT, USA), and a buffer in a total volume of 5\\u00edl. Cycling conditions were as follows: an initial denaturation at 95\\u00b0C for 10 min followed by 30 cycles of denaturation at 95\\u00b0C for 1 min, annealing at 65\\u00b0C for 1min and elongation at 72\\u00b0C for 1min, with a final extension at 72\\u00b0C for 5min. All the PCR products were analyzed on 1.5% agarose gel. SSCP analysis was performed as described (Orita et al. 1989; Yuasa et al. 1997). Using a minigel (10 3 10 cm), the samples were analyzed under four different electrophoresis conditions, in a combination of two sets of gel mixtures (12% polyacrylamide gel with or without 5% glycerol) and two temperature conditions (4\\u00b0C or 22\\u00b0C). Table 1. Primers for TSC2 gene analysis Exon Product size (bp) 1 F: AAGGTTATGCCCACCAGAGA; R: AGACACAGGTAGCTCACTCA 296 2 F: CACTGGCCCCTTTTTCTTCT; R: CTCTAGTAGCTCAACTGGAT 150 3 F: CTTGGAGAGCACATCCTCAC; R: CAGCCTGACGTCACCCATCC 195 4 F: CTGATCCTGTGGCTTTTGTC; R: AGAAACCTCCAACCCAAGGT 199 5 F: TCGCAAACTGCGCGACTTCT; R: CAGAACAGGATCTCAATTCT 173 6 F: GACTGAGCTCGGTGCTCCCT; R: TGAAATGGGCCGGCCCTGGG 109 7 F: GAAGGAGGTGGGAAGGAAG; R: CATCCATGTGCTCTCAGGAA 278 8 F: CTTTGGGAGGAGATGGTGG; R: ATGTGTGCGTTGGTAAGGGA 286 9 F: CGTCTCTCTGGGGAACACTT; R: TCACTGCACACAGAAACCGC 176 10 F: TGCTGGCCGGGCTCGTGTTC; R: TGCTCCCCGGAGCTCCTGCC 198 11 F: GCCTGTGTCATCGTGCCTGG; R: AAAGGCCCCACCCAGGAGGG 194 12 F: CAACACCGGCTCTTCTTTTG; R: AGGCAAGGCTACAGAGGACC 153 13a F: GGGCTGTGGCGGGCACTC; R: AGAGGTCCGGCAGACCGAAGTC 245 14 F: TTGGCCTCCCTTGTGCCTGT; R: GCCCCGGGTACAACGGCTCT 203 15 F: GACTCAGAACCATGAGCCTG; R: AACAGACTCCAACACAACGC 251 16 F: CGTGGTGAGCTGCGTCCTCT; R: ACTGCGTGCGCAACCCCAGC 178 17 F: GGCTTTCACCATCCTCTTCC; R: TCATGGGCCGTGGGCAGGTC 160 18 F: GCCTCAGCTGCTTCTCTTGC; R: AACGTGGGACGGATGGTCCC 216 19 F: CCTGACGCCTCCTCTCCTCG; R: CCCAACCCCAGGCCGGCATG 185 20 F: TCATGCCTGGATTTGGTCAT; R: TCAAGCTCGCCTGCTCTGAC 187 21 F: GGGCCTGAGGTGTCCTGTCT; R: AGGTGCAGTGCTGCAGGGCG 246 22 F: GGCTCCCTGACCACCTCTCC; R: ACAGGGCCTGGGGCGACCAC 148 23 F: GTGCCAGCCCCCTTCTCATC; R: ACAGCCTTCACCGCCCTGAG 152 24 F: TCACTGTCTGGGTGTGCTC; R: TGCCCTGCCTCACATACTC 260 25a F: CCCTCCACTGGCTTGTTCTCC; R: CGGGCAAGACGATGAGGTCAT \\u2014b 26 F: CCTGGTCACGGCCTCTCCCT; R: CCAGCCCTGTAGTGCCGCCT 213 27 F: GGTTTCACGCTCCCTGTCTT; R: GGAGGAAAGGAAGGTGCAGT 200 28 F: ACCCTGTGCGTGGGATTCTC; R: AGGTGGCTGGGGCCAAGGCT 163 29 F: CCTCATGCCCGTCTTCTTC; R: AGATGGCGCTCAGGCCAC 267 30 F: AAGGTAGTCTGCCGCCTCCG; R: CCAAGGCCCGCCATGCCACT 251 31 F: CGTCGACACGGCCTTCCCTT; R: ACCGCTTCCCTCTGAGAGGC 118 32 F: AGCAGCCCCGTCTGTGTCCT; R: GTCCAGGCTCTGAGCCACAC 171 33 1F: CTCTTTGGGATGGTCCTTTC; 1R: CTGTGACCGGGCCTTAACCT 275 33 2F: CCTGGGGACAAGGCCGACGT; 2R: CCCGCCCGGAAGCAAGAGGC 317 34 F: CCACCATCCCCTCCCTGT; R: TAGCCAGAGCCCTCTGCAA 206 35 F: CTCTGGCTAAGCTCCCTGT; R: TGAGCACTTCATGCTGTAGG 326 36 F: GGGAGTGATGCCACCCTG; R: ATGGGAGCCGTGCCCTGA \\u2014b 37 F: CATCCGGCCCTGCTCACCCT; R: GCCTCACTGACGGCCCTCAC 187 38 F: TGACCCTTTCTCTTGTCCGG; R: TCTGCACTGCAGCCCCACCC 131 39,40 F: TGGCGTGACCACCAAGTCTC; R: GCTGAGGAGCCCCATATTCC 325 41 F: CAGACTTACTGCCCAAGCCGCCT; R: CCCCGCACCAAGCAGACAAA 342 a Data were kindly provided by Dr. J.R. Sampson (University of Wales, UK) b The exact sizes of the PCR products were not known 393 Sequencing Variant bands were reamplified and subcloned into pGEMT Vector (Promega, Madison, WI, USA). The DNA sequences were determined using the Thermo Sequenase Fluorescent Labeled Primer Cycle Sequencing Kit (Amersham, Buckinghamshire, England) with Cy-5-labeled M13 universal or reversal primers and ALFred Automatic Sequencer (Pharmacia Biotech, Tokyo, Japan). At least ten independent clones of each PCR product were sequenced in both directions. The sequence data were analyzed by Genetyx computer software (Software Development, Tokyo, Japan). Results SSCP analysis A total of 25 variants were detected by SSCP analysis (Fig. 1) from 23 patients (60% of the total 38 patients). Seven variants of TSC1 gene were detected in 3 familial cases and 4 sporadic ones. Fifteen variants of TSC2 gene were detected in 5 familial cases, 10 sporadic cases, and one unknown case. L574L of TSC1 and I531I of TSC2 genes were considered to be polymorphisms because the point mutations did not cause amino acid substitution. M322T of TSC1 was detected in the normal controls (6 of 80) and was supposed to represent a polymorphism (Table 2A). All other missense mutations were not detected in 60 or 100 normal controls. Any DNA sample from the parents was not available except for P28. Mutations in TSC1 gene Two nonsense, two frame shift, and three missense mutations were located in various exons of the gene. Two mutations (R509X, Q654E) in three patients were located in exon 15, and the R509X was found both in a sporadic patient (P26) and a familial patient (P3). Two mutations (W676X and T417I) were found in one patient (P31). Mutations in TSC2 gene One nonsense, 3 frame shift, and 8 missense mutations were identified in 16 patients (Table 2B). The two single nucleotide substitutions (2760 1 1 G to A, 5179 2 1 G to T) of an exon\\u2013intron junction were predicted to cause a splicing error. Although a substitution (5178 1 5 G to A) in the intron was not in the consensus sequence of the splicing, the mutation was located 5bp distant from the exon and was not detected in 100 normal controls. The mutation might cause a splicing error. L717R in a patient with pulmonary tuberous sclerosis was reported previously (Zhan et al. 1999). Both the V769E mutation (P2 and P21) and R1459X mutation (P6 and P8) were detected in 2 unrelated sporadic patients. Two missense mutations (H137R and D647N) Fig. 1. PCR-SSCP analysis of the TSC1/TSC2 genes. Arrows indicate the aberrant bands found in the patients\\u2019 samples. C, control samples from healthy subjects; P, patients\\u2019 samples 394 were found in the same patient (P32). P1657L in P28 was confirmed to be a de novo mutation by examination of the parents\\u2019 samples. Clinical symptoms and mutation types The clinical symptoms and the gene mutations are summarized in Table 3. The number of the patients with mental retardation (1 and 11) in TSC2 was significantly larger than that in TSC1 (\\u00f82 5 4.8, P 5 0.0285). The severity of mental retardation of the patients with TSC1 mutations appeared to be milder than that of the patients with TSC2 mutations. Complete information on renal and cardiac involvements was not available and could not be assessed. None of the mutation types (missense, nonsense, frame shift, and splicing) appeared to be correlated with a specific clinical symptom. In particular, the R509X mutation in TSC1 was detected in two patients, and the severity of mental retardation in these patients were quite different. Discussion Mutations in a given gene may be screened by various methods such as Southern blot analysis, SSCP, heteroduplex analysis, protein truncation test, and RT-PCR followed by SSCP (Kumar et al. 1995a,b; Vrtel et al. 1996; Wilson et al. 1996; Bajek et al. 1997; Jones et al. 1997; Maheshwar et al. 1997; Au et al. 1997, 1998). In the present study, we employed SSCP to survey the mutations of TSC1 and TSC2 genes because the method is simple enough to cover the multiple numbers of exons. To increase the mutation detection rate of SSCP, we used four electrophoresis conditions by a combination of different sets of temperature and glycerol content of the gel. Our mutation detection rate was 60% (23 of 38), which is comparable with those in other reports (Jones et al. 1997; Van Slegtenhorst et al. 1997; Au et al. 1998). There are several possible explanations for the failure to detect of TSC1/TSC2 mutations in the 15 patients. First, it can be false negative. One report showed that the SSCP Table 2A. Mutations in TSC1 Type of Nucleotide Patient Amino acid change Location mutation alteration S/F* 46 216PheFS-216X(a) exon 7 Frame shift 866delTT F 11 311SerFS-340X exon 10 Frame shift 1210insT F 31 T417l exon 12 Missense 1471 CtoT S 26,3 R509X(b) exon 15 Nonsense 1746 CtoT F,S 23 Q654E(b) exon 15 Missense 2181 CtoG S 31 W676X exon 16 Nonsense 2249 GtoA S 12 T899S exon 21 Missense 2918 CtoG S 46,27,3 L574L exon 15 Polymorphism 1947 TtoC 17,34,36 M322T exon 10 Polymorphism 1186 TtoC Table 2B. Mutations in TSC2 Type of Nucleotide Patient Mutation Location mutation alteration S/F* 32 H137R Exon 4 Missense 428 AtoG S 48 238LeuFS-337X Exon 7 Frame shift 725 insT S 30 F320L Exon 9 Missense 978 TtoG 43 337GluFS-351X Exon 10 Frame shift 1029GATCdel, CATGGCAT ins F 22 R611Q(c) Exon 16 Missense 1850 GtoA F 47 597HisFS-614X Exon 16 Frame shift 1808delACTAC S 32 D647N Exon 17 Missense 1957 AtoG S 1 L717R Exon 19 Missense 2168 TtoG S 21,2 V769E Exon 20 Missense 2324 TtoA F,S 33 \\u2014 Intron 24 Splicing 2760 1 1 GtoA S 27 V963M Exon 25 Missense 2905 GtoA S 6,8 R1459X Exon 33 Nonsense 4393 CtoT S,S 28 P1657L(d) Exon 38 Missense 5042 CtoT S 24 \\u2014 Intron 39 Splicing 5178 1 5 GtoA F 41 \\u2014 Intron 39 Splicing 5179 2 1 GtoT F 33 1531l Exon 14 Polymorphism 1611 CtoT *S, sporadic; F, familial The initiator ATG begins at base 222 of TSC1 and at base 19 for TSC2 The original amino acid and its position in the protein (numbered from the initiator Met as 1) are followed by a new amino acid for missense mutations, and by X for nonsense mutation a,b The identical change was reported by Van Slegtenhorst et al. (1997) c The identical change was reported by Wilson et al. (1996) d The identical change was reported by Maheshwar et al. (1997) 395 method to detect a point mutation on a 250-bp DNA fragment was 63% effective (Sheffield et al. 1993). Second, it may be true negative in those cases in which the mutation lies outside of the coding sequence, either in the 59-regulatory elements, within the intronic sequences, or in the 39- UTR. In addition, a large-scale rearrangement of genomic DNA may yield true negative results in the SSCP of the coding exons. Although there is no report of a large-scale mutation in TSC1, there are indeed some in TSC2 (Jones et al. 1997; The European Chromosome 16 Tuberous Sclerosis Consortium 1993; Au et al. 1997; Van Slegtenhorst et al. 1997). The mutation surveys of TSC1/TSC2 genes in Caucasian TSC patients revealed no clustering of the mutation in either gene (Wilson et al. 1996; Jones et al. 1997; Van Slegtenhorst et al. 1997; Au et al. 1998). In accordance with these previous findings, the 22 mutations (18 new and 4 reported) found in this study were distributed on various exons and there was no clustering of the mutations. Again in accordance with the previous findings, there was no obvious relationship between the type and location of the mutation and the clinical symptoms. However, the patients with TSC2 mutations appeared to have more severe mental retardation compared with the patients with TSC1 mutations. The same tendency has been noted (Jones et al. 1997). It is therefore at least clear that the clinical phenotype cannot be predicted from the genotype. Because of the heterogeneity of the mutations, it also appears impossible at present to develop a simple diagnostic test for TSC. Acknowledgements We thank Dr. Satoko Kumada, Dr. Akira Uchiyama (Tokyo Metropolitan Fuchu Ryoiku Center), Dr. Youich Sakakihara, Dr. Hidekazu Takeshita (Departement of Pediatrics, Graduate School of Medicine, University of Tokyo), Dr. Khotaro Table 3. Clinical data of mutation detected patients Patient Mental White Subependymal number Age Sex retardation AF macules nodules Seizures S/F Mutations Location of mutation 46 9 M 1 2 1 1 1 F Frame shift TSC1 exon 7 11 7 F 6 1 1 1 1 F Frame shift TSC1 exon 10 31 8 F 1 n.d. 1 1 1 S Missense/nonsense TSC1 exon 12; TSC1 exon 16 3 32 F 11 n.d. n.d. n.d. n.d. S Nonsense TSC1 exon 15 26 21 M 2 2 1 1 2 F Nonsense TSC1 exon 15 23 21 M 1 2 1 1 1 S Missense TSC1 exon 15 12 32 F 2 1 1 1 1 S Missense TSC1 exon 21 32 2 M n.d. n.d. 1 1 1 S Missenses TSC2 exon 4; TSC2 exon 17 48 24 M 11 1 1 1 1 S Frame shift TSC2 exon 7 30 nd nd n.d. n.d. n.d. n.d. n.d. n.d. Missense TSC2 exon 9 43 8 M 11 1 1 1 1 F Frame shift TSC2 exon 10 22 6 F 2 2 1 1 1 F Missense TSC2 exon 16 47 6 F 1 1 1 1 1 S Frame shift TSC2 exon 16 1 17 F 2 1 1 1 1 S Missense TSC2 exon 19 21 44 F 11 1 1 n.d. 1 F Missense TSC2 exon 20 2 32 M 11 1 1 1 1 S Missense TSC2 exon 20 33 48 M 11 n.d. n.d. n.d. 1 S Splicing TSC2 intron 24 27 13 M 2 2 1 1 1 F Missense TSC2 exon 25 6 8 M 11 n.d. n.d. n.d. n.d. F Nonsense TSC2 exon 33 8 9 F 11 1 1 1 1 S Nonsense TSC2 exon 33 28 3 F 1 n.d. 1 1 1 S Missense TSC2 exon 38 24 12 M 2 2 1 1 1 F Splicing TSC2 intron 39 41 7 M 2 1 1 1 1 F Splicing TSC2 intron 39 n.d., information not available; AF, angiofibroma; S, sporadic; F, familial Izumi, Dr. Masahiro Nakagawa (Third Department of Internal Medicine, Faculty of Medicine, Kagoshima University), Dr. Ryutaro Kira (Department of Pediatrics, Kyushu University), Dr. Hitoshi Sejima (Department of Pediatrics, Shimane Medical University), Dr. Masahito Miyazaki (Department of Pediatrics, School of Medicine, Tokushima University), Dr. Akira Kuramochi (Department of Dermatology, Saitama Medical School), and Dr. Sadahisa Ohta (Department of Neurosurgery, Tokyo Medical and Dental University) for collecting the samples of the TSC patients. This work was supported by the Ministry of Health and Welfare of Japan by a special grant for neurocutaneous disease, and by the Ministry of Education, Science, Sport and Culture of Japan by a grant-in-aid for scientific research.  Twenty-seven Japanese patients with the tuberous sclerosis complex (TSC), consisting of 23 sporadic and 4 familial cases, were tested for mutations in the TSC1 and TSC2 genes, using single-strand conformational polymorphism analysis and direct sequencing. Four possible pathogenic mutations were found in the TSC1 gene, including three frame shifts and a nonsense mutation in a familial case. All mutations were expected to result in a truncated hamartin gene product. The TSC2 gene analysis identified six possible pathogenic mutations only in the sporadic cases, including two frame shifts, one in-frame deletion, and three missense mutations. Two of the TSC2 mutations were expected to result in a truncated tuberin gene product. These results of the Japanese TSC patients were compatible with the reports from Europe and the United States, i.e., (1) TSC1 mutations are rarer in sporadic cases than in familial cases, (2) substantial numbers of sporadic cases arise from mutations in the TSC2 gene, and (3) mutations of the TSC1 gene may cause premature truncation of hamartin.\"\n        ],\n        \"semantic_type\": \"\",\n        \"description\": \"\"\n      }\n    }\n  ]\n}"
            }
          },
          "metadata": {},
          "execution_count": 7
        }
      ]
    },
    {
      "cell_type": "markdown",
      "metadata": {
        "id": "ZSy3O7VvOQvC"
      },
      "source": [
        "<h3>Preprocessing of text</h3>"
      ]
    },
    {
      "cell_type": "code",
      "metadata": {
        "id": "zDWQmo4HScKF",
        "colab": {
          "base_uri": "https://localhost:8080/"
        },
        "outputId": "de057918-e90d-4928-ccf0-d243fb4b4c82"
      },
      "source": [
        "import nltk\n",
        "nltk.download('stopwords')"
      ],
      "execution_count": 8,
      "outputs": [
        {
          "output_type": "stream",
          "name": "stderr",
          "text": [
            "[nltk_data] Downloading package stopwords to /root/nltk_data...\n",
            "[nltk_data]   Unzipping corpora/stopwords.zip.\n"
          ]
        },
        {
          "output_type": "execute_result",
          "data": {
            "text/plain": [
              "True"
            ]
          },
          "metadata": {},
          "execution_count": 8
        }
      ]
    },
    {
      "cell_type": "code",
      "metadata": {
        "id": "Y9RpP_0QOQvD"
      },
      "source": [
        "# loading stop words from nltk library\n",
        "stop_words = set(stopwords.words('english'))\n",
        "\n",
        "\n",
        "def nlp_preprocessing(total_text, index, column):\n",
        "    if type(total_text) is not int:\n",
        "        string = \"\"\n",
        "        # replace every special char with space\n",
        "        total_text = re.sub('[^a-zA-Z0-9\\n]', ' ', total_text)\n",
        "        # replace multiple spaces with single space\n",
        "        total_text = re.sub('\\s+',' ', total_text)\n",
        "        # converting all the chars into lower-case.\n",
        "        total_text = total_text.lower()\n",
        "\n",
        "        for word in total_text.split():\n",
        "        # if the word is a not a stop word then retain that word from the data\n",
        "            if not word in stop_words:\n",
        "                string += word + \" \"\n",
        "\n",
        "        data_text[column][index] = string"
      ],
      "execution_count": 9,
      "outputs": []
    },
    {
      "cell_type": "code",
      "metadata": {
        "id": "lkCyyQm6OQvH",
        "colab": {
          "base_uri": "https://localhost:8080/"
        },
        "outputId": "5ccdc1ca-b26c-481b-fd94-13e211774b0f"
      },
      "source": [
        "#text processing\n",
        "for index, row in data_text.iterrows():\n",
        "    if type(row['TEXT']) is str:\n",
        "        nlp_preprocessing(row['TEXT'], index, 'TEXT')\n",
        "    else:\n",
        "        print(\"there is no text description for id:\",index)"
      ],
      "execution_count": 10,
      "outputs": [
        {
          "output_type": "stream",
          "name": "stdout",
          "text": [
            "there is no text description for id: 1109\n",
            "there is no text description for id: 1277\n",
            "there is no text description for id: 1407\n",
            "there is no text description for id: 1639\n",
            "there is no text description for id: 2755\n"
          ]
        }
      ]
    },
    {
      "cell_type": "code",
      "metadata": {
        "id": "qk8gHyNhOQvL",
        "colab": {
          "base_uri": "https://localhost:8080/",
          "height": 206
        },
        "outputId": "d46be262-71cd-4dca-9784-161410ff21eb"
      },
      "source": [
        "#merging both gene_variations and text data based on ID\n",
        "result = pd.merge(data, data_text,on='ID', how='left')\n",
        "result.head()"
      ],
      "execution_count": 11,
      "outputs": [
        {
          "output_type": "execute_result",
          "data": {
            "text/plain": [
              "   ID    Gene             Variation  Class  \\\n",
              "0   0  FAM58A  Truncating Mutations      1   \n",
              "1   1     CBL                 W802*      2   \n",
              "2   2     CBL                 Q249E      2   \n",
              "3   3     CBL                 N454D      3   \n",
              "4   4     CBL                 L399V      4   \n",
              "\n",
              "                                                TEXT  \n",
              "0  cyclin dependent kinases cdks regulate variety...  \n",
              "1  abstract background non small cell lung cancer...  \n",
              "2  abstract background non small cell lung cancer...  \n",
              "3  recent evidence demonstrated acquired uniparen...  \n",
              "4  oncogenic mutations monomeric casitas b lineag...  "
            ],
            "text/html": [
              "\n",
              "  <div id=\"df-2c957e8d-5e73-4fef-aa42-ef2a4a98f7ca\" class=\"colab-df-container\">\n",
              "    <div>\n",
              "<style scoped>\n",
              "    .dataframe tbody tr th:only-of-type {\n",
              "        vertical-align: middle;\n",
              "    }\n",
              "\n",
              "    .dataframe tbody tr th {\n",
              "        vertical-align: top;\n",
              "    }\n",
              "\n",
              "    .dataframe thead th {\n",
              "        text-align: right;\n",
              "    }\n",
              "</style>\n",
              "<table border=\"1\" class=\"dataframe\">\n",
              "  <thead>\n",
              "    <tr style=\"text-align: right;\">\n",
              "      <th></th>\n",
              "      <th>ID</th>\n",
              "      <th>Gene</th>\n",
              "      <th>Variation</th>\n",
              "      <th>Class</th>\n",
              "      <th>TEXT</th>\n",
              "    </tr>\n",
              "  </thead>\n",
              "  <tbody>\n",
              "    <tr>\n",
              "      <th>0</th>\n",
              "      <td>0</td>\n",
              "      <td>FAM58A</td>\n",
              "      <td>Truncating Mutations</td>\n",
              "      <td>1</td>\n",
              "      <td>cyclin dependent kinases cdks regulate variety...</td>\n",
              "    </tr>\n",
              "    <tr>\n",
              "      <th>1</th>\n",
              "      <td>1</td>\n",
              "      <td>CBL</td>\n",
              "      <td>W802*</td>\n",
              "      <td>2</td>\n",
              "      <td>abstract background non small cell lung cancer...</td>\n",
              "    </tr>\n",
              "    <tr>\n",
              "      <th>2</th>\n",
              "      <td>2</td>\n",
              "      <td>CBL</td>\n",
              "      <td>Q249E</td>\n",
              "      <td>2</td>\n",
              "      <td>abstract background non small cell lung cancer...</td>\n",
              "    </tr>\n",
              "    <tr>\n",
              "      <th>3</th>\n",
              "      <td>3</td>\n",
              "      <td>CBL</td>\n",
              "      <td>N454D</td>\n",
              "      <td>3</td>\n",
              "      <td>recent evidence demonstrated acquired uniparen...</td>\n",
              "    </tr>\n",
              "    <tr>\n",
              "      <th>4</th>\n",
              "      <td>4</td>\n",
              "      <td>CBL</td>\n",
              "      <td>L399V</td>\n",
              "      <td>4</td>\n",
              "      <td>oncogenic mutations monomeric casitas b lineag...</td>\n",
              "    </tr>\n",
              "  </tbody>\n",
              "</table>\n",
              "</div>\n",
              "    <div class=\"colab-df-buttons\">\n",
              "\n",
              "  <div class=\"colab-df-container\">\n",
              "    <button class=\"colab-df-convert\" onclick=\"convertToInteractive('df-2c957e8d-5e73-4fef-aa42-ef2a4a98f7ca')\"\n",
              "            title=\"Convert this dataframe to an interactive table.\"\n",
              "            style=\"display:none;\">\n",
              "\n",
              "  <svg xmlns=\"http://www.w3.org/2000/svg\" height=\"24px\" viewBox=\"0 -960 960 960\">\n",
              "    <path d=\"M120-120v-720h720v720H120Zm60-500h600v-160H180v160Zm220 220h160v-160H400v160Zm0 220h160v-160H400v160ZM180-400h160v-160H180v160Zm440 0h160v-160H620v160ZM180-180h160v-160H180v160Zm440 0h160v-160H620v160Z\"/>\n",
              "  </svg>\n",
              "    </button>\n",
              "\n",
              "  <style>\n",
              "    .colab-df-container {\n",
              "      display:flex;\n",
              "      gap: 12px;\n",
              "    }\n",
              "\n",
              "    .colab-df-convert {\n",
              "      background-color: #E8F0FE;\n",
              "      border: none;\n",
              "      border-radius: 50%;\n",
              "      cursor: pointer;\n",
              "      display: none;\n",
              "      fill: #1967D2;\n",
              "      height: 32px;\n",
              "      padding: 0 0 0 0;\n",
              "      width: 32px;\n",
              "    }\n",
              "\n",
              "    .colab-df-convert:hover {\n",
              "      background-color: #E2EBFA;\n",
              "      box-shadow: 0px 1px 2px rgba(60, 64, 67, 0.3), 0px 1px 3px 1px rgba(60, 64, 67, 0.15);\n",
              "      fill: #174EA6;\n",
              "    }\n",
              "\n",
              "    .colab-df-buttons div {\n",
              "      margin-bottom: 4px;\n",
              "    }\n",
              "\n",
              "    [theme=dark] .colab-df-convert {\n",
              "      background-color: #3B4455;\n",
              "      fill: #D2E3FC;\n",
              "    }\n",
              "\n",
              "    [theme=dark] .colab-df-convert:hover {\n",
              "      background-color: #434B5C;\n",
              "      box-shadow: 0px 1px 3px 1px rgba(0, 0, 0, 0.15);\n",
              "      filter: drop-shadow(0px 1px 2px rgba(0, 0, 0, 0.3));\n",
              "      fill: #FFFFFF;\n",
              "    }\n",
              "  </style>\n",
              "\n",
              "    <script>\n",
              "      const buttonEl =\n",
              "        document.querySelector('#df-2c957e8d-5e73-4fef-aa42-ef2a4a98f7ca button.colab-df-convert');\n",
              "      buttonEl.style.display =\n",
              "        google.colab.kernel.accessAllowed ? 'block' : 'none';\n",
              "\n",
              "      async function convertToInteractive(key) {\n",
              "        const element = document.querySelector('#df-2c957e8d-5e73-4fef-aa42-ef2a4a98f7ca');\n",
              "        const dataTable =\n",
              "          await google.colab.kernel.invokeFunction('convertToInteractive',\n",
              "                                                    [key], {});\n",
              "        if (!dataTable) return;\n",
              "\n",
              "        const docLinkHtml = 'Like what you see? Visit the ' +\n",
              "          '<a target=\"_blank\" href=https://colab.research.google.com/notebooks/data_table.ipynb>data table notebook</a>'\n",
              "          + ' to learn more about interactive tables.';\n",
              "        element.innerHTML = '';\n",
              "        dataTable['output_type'] = 'display_data';\n",
              "        await google.colab.output.renderOutput(dataTable, element);\n",
              "        const docLink = document.createElement('div');\n",
              "        docLink.innerHTML = docLinkHtml;\n",
              "        element.appendChild(docLink);\n",
              "      }\n",
              "    </script>\n",
              "  </div>\n",
              "\n",
              "\n",
              "<div id=\"df-1d9e3623-6305-44c9-af29-b6a646cd04cd\">\n",
              "  <button class=\"colab-df-quickchart\" onclick=\"quickchart('df-1d9e3623-6305-44c9-af29-b6a646cd04cd')\"\n",
              "            title=\"Suggest charts\"\n",
              "            style=\"display:none;\">\n",
              "\n",
              "<svg xmlns=\"http://www.w3.org/2000/svg\" height=\"24px\"viewBox=\"0 0 24 24\"\n",
              "     width=\"24px\">\n",
              "    <g>\n",
              "        <path d=\"M19 3H5c-1.1 0-2 .9-2 2v14c0 1.1.9 2 2 2h14c1.1 0 2-.9 2-2V5c0-1.1-.9-2-2-2zM9 17H7v-7h2v7zm4 0h-2V7h2v10zm4 0h-2v-4h2v4z\"/>\n",
              "    </g>\n",
              "</svg>\n",
              "  </button>\n",
              "\n",
              "<style>\n",
              "  .colab-df-quickchart {\n",
              "      --bg-color: #E8F0FE;\n",
              "      --fill-color: #1967D2;\n",
              "      --hover-bg-color: #E2EBFA;\n",
              "      --hover-fill-color: #174EA6;\n",
              "      --disabled-fill-color: #AAA;\n",
              "      --disabled-bg-color: #DDD;\n",
              "  }\n",
              "\n",
              "  [theme=dark] .colab-df-quickchart {\n",
              "      --bg-color: #3B4455;\n",
              "      --fill-color: #D2E3FC;\n",
              "      --hover-bg-color: #434B5C;\n",
              "      --hover-fill-color: #FFFFFF;\n",
              "      --disabled-bg-color: #3B4455;\n",
              "      --disabled-fill-color: #666;\n",
              "  }\n",
              "\n",
              "  .colab-df-quickchart {\n",
              "    background-color: var(--bg-color);\n",
              "    border: none;\n",
              "    border-radius: 50%;\n",
              "    cursor: pointer;\n",
              "    display: none;\n",
              "    fill: var(--fill-color);\n",
              "    height: 32px;\n",
              "    padding: 0;\n",
              "    width: 32px;\n",
              "  }\n",
              "\n",
              "  .colab-df-quickchart:hover {\n",
              "    background-color: var(--hover-bg-color);\n",
              "    box-shadow: 0 1px 2px rgba(60, 64, 67, 0.3), 0 1px 3px 1px rgba(60, 64, 67, 0.15);\n",
              "    fill: var(--button-hover-fill-color);\n",
              "  }\n",
              "\n",
              "  .colab-df-quickchart-complete:disabled,\n",
              "  .colab-df-quickchart-complete:disabled:hover {\n",
              "    background-color: var(--disabled-bg-color);\n",
              "    fill: var(--disabled-fill-color);\n",
              "    box-shadow: none;\n",
              "  }\n",
              "\n",
              "  .colab-df-spinner {\n",
              "    border: 2px solid var(--fill-color);\n",
              "    border-color: transparent;\n",
              "    border-bottom-color: var(--fill-color);\n",
              "    animation:\n",
              "      spin 1s steps(1) infinite;\n",
              "  }\n",
              "\n",
              "  @keyframes spin {\n",
              "    0% {\n",
              "      border-color: transparent;\n",
              "      border-bottom-color: var(--fill-color);\n",
              "      border-left-color: var(--fill-color);\n",
              "    }\n",
              "    20% {\n",
              "      border-color: transparent;\n",
              "      border-left-color: var(--fill-color);\n",
              "      border-top-color: var(--fill-color);\n",
              "    }\n",
              "    30% {\n",
              "      border-color: transparent;\n",
              "      border-left-color: var(--fill-color);\n",
              "      border-top-color: var(--fill-color);\n",
              "      border-right-color: var(--fill-color);\n",
              "    }\n",
              "    40% {\n",
              "      border-color: transparent;\n",
              "      border-right-color: var(--fill-color);\n",
              "      border-top-color: var(--fill-color);\n",
              "    }\n",
              "    60% {\n",
              "      border-color: transparent;\n",
              "      border-right-color: var(--fill-color);\n",
              "    }\n",
              "    80% {\n",
              "      border-color: transparent;\n",
              "      border-right-color: var(--fill-color);\n",
              "      border-bottom-color: var(--fill-color);\n",
              "    }\n",
              "    90% {\n",
              "      border-color: transparent;\n",
              "      border-bottom-color: var(--fill-color);\n",
              "    }\n",
              "  }\n",
              "</style>\n",
              "\n",
              "  <script>\n",
              "    async function quickchart(key) {\n",
              "      const quickchartButtonEl =\n",
              "        document.querySelector('#' + key + ' button');\n",
              "      quickchartButtonEl.disabled = true;  // To prevent multiple clicks.\n",
              "      quickchartButtonEl.classList.add('colab-df-spinner');\n",
              "      try {\n",
              "        const charts = await google.colab.kernel.invokeFunction(\n",
              "            'suggestCharts', [key], {});\n",
              "      } catch (error) {\n",
              "        console.error('Error during call to suggestCharts:', error);\n",
              "      }\n",
              "      quickchartButtonEl.classList.remove('colab-df-spinner');\n",
              "      quickchartButtonEl.classList.add('colab-df-quickchart-complete');\n",
              "    }\n",
              "    (() => {\n",
              "      let quickchartButtonEl =\n",
              "        document.querySelector('#df-1d9e3623-6305-44c9-af29-b6a646cd04cd button');\n",
              "      quickchartButtonEl.style.display =\n",
              "        google.colab.kernel.accessAllowed ? 'block' : 'none';\n",
              "    })();\n",
              "  </script>\n",
              "</div>\n",
              "\n",
              "    </div>\n",
              "  </div>\n"
            ],
            "application/vnd.google.colaboratory.intrinsic+json": {
              "type": "dataframe",
              "variable_name": "result",
              "summary": "{\n  \"name\": \"result\",\n  \"rows\": 3321,\n  \"fields\": [\n    {\n      \"column\": \"ID\",\n      \"properties\": {\n        \"dtype\": \"number\",\n        \"std\": 958,\n        \"min\": 0,\n        \"max\": 3320,\n        \"num_unique_values\": 3321,\n        \"samples\": [\n          1057,\n          812,\n          2658\n        ],\n        \"semantic_type\": \"\",\n        \"description\": \"\"\n      }\n    },\n    {\n      \"column\": \"Gene\",\n      \"properties\": {\n        \"dtype\": \"category\",\n        \"num_unique_values\": 264,\n        \"samples\": [\n          \"PDGFRA\",\n          \"KEAP1\",\n          \"ARID1A\"\n        ],\n        \"semantic_type\": \"\",\n        \"description\": \"\"\n      }\n    },\n    {\n      \"column\": \"Variation\",\n      \"properties\": {\n        \"dtype\": \"string\",\n        \"num_unique_values\": 2996,\n        \"samples\": [\n          \"E1384K\",\n          \"H597Y\",\n          \"V851A\"\n        ],\n        \"semantic_type\": \"\",\n        \"description\": \"\"\n      }\n    },\n    {\n      \"column\": \"Class\",\n      \"properties\": {\n        \"dtype\": \"number\",\n        \"std\": 2,\n        \"min\": 1,\n        \"max\": 9,\n        \"num_unique_values\": 9,\n        \"samples\": [\n          8,\n          2,\n          6\n        ],\n        \"semantic_type\": \"\",\n        \"description\": \"\"\n      }\n    },\n    {\n      \"column\": \"TEXT\",\n      \"properties\": {\n        \"dtype\": \"string\",\n        \"num_unique_values\": 1920,\n        \"samples\": [\n          \"flt3 receptor tyrosine kinase constitutively activated internal tandem duplication itd juxtamembrane domain tyrosine kinase domain 30 acute myeloid leukemia aml cases 1 3 alternatively flt3 also activated mutations kinase domain d835y mutation observed 7 aml cases 1 2 vitro vivo data demonstrated flt3 itd flt3 d835y encode constitutively activated kinases drive proliferation survival hematopoietic cells furthermore flt3 itd mutations confer bad prognosis aml 1 4 5 flt3 inhibitors expected improve outcome aml patients subgroup data provide rationale use flt3 kinase inhibitors treatment aml 2 pre clinical experiments cell based assays mouse models documented potent effect various flt3 kinase inhibitors first clinical trials showed moderate efficacy 2 one complicating factor treatment aml heterogeneity disease flt3 mutations one many mutations present human aml samples molecular data also suggest flt3 mutations tend occur late multi step development aml limiting effect flt3 inhibitors subset aml cells within leukemia harbor flt3 mutations ongoing multinational phase ii trial flt3 inhibitor ac220 monotherapy complete remission rate 45 reported interim report eha meeting 2011 6 7 despite promising results patients treated ac220 develop resistance inhibitor smith et al demonstrated due acquisition flt3 kinase mutations 8 study mutations 3 different positions kinase domain flt3 identified confer resistance ac220 f691 d835 y842 8 mutations identified vitro resistance screen aml samples obtained patients developed resistance ac220 treatment although mutations conferred resistance ac220 defined clear shift ic50 values compared flt3 itd identification acquired mutations relapsed patients ac220 treatment could still inhibited higher concentrations drug eight years ago predicted resistance mutations flt3 kinase domain using vitro mutagenesis technology flt3 itd transformed ba f3 cells 9 way identified 3 positions flt3 n676 f691 g697 upon mutation conferred high level resistance pkc412 one mutations n676d later also identified resistance mutation aml patient treated pkc412 indicating validity vitro predictions 10 f691l mutation flt3 recently identified resistance mutation aml patients treated ac220 8 show also g697r n676d mutations confer resistance ac220 ba f3 cells dependent expression flt3 itd flt3 itd additional n676d f691i f691l g697r mutation treated increasing concentrations ac220 measured proliferation cells period 24 h determined level autophosphorylation flt3 measurement activity 90 min inhibitor treatment mutations conferred resistance ac220 g697r f691l mutations resistant n676d conferring lower level resistance figure 1 addition also used ba f3 cells expressing flt3 d835y observed also cells highly resistant ac220 figure 1 figure 1 figure 1 sensitivity flt3 itd mutants ac220 inhibitor ba f3 cells expressing flt3 itd w51 mutation described kelly et al 11 flt3 d835y different flt3 itd mutants treated increasing concentrations ac220 proliferation data show additional mutations confer resistance ac220 particular g697r mutation confers resistance similar recently described f691l mutation mutations easily acquired single nucleotide change flt3 gene sequence notably f691l g697r n676d mutations confer resistance ac220 remain sensitive ponatinib sorafenib known flt3 inhibitors currently tested clinical trials results point combinations ac220 ponatinib sorafenib may useful overcome resistance single agents 12 13 \",\n          \"bruton tyrosine kinase btk member tec family kinases plays crucial role b cell maturation mast cell activation although structures unphosphorylated mouse btk kinase domain unphosphorylated phosphorylated kinase domains human itk known understanding kinase selectivity profiles btk inhibitors hampered lack availability high resolution ligand bound btk structure report crystal structures human btk kinase domain bound either dasatinib bms 354825 1 9 resolution 4 amino 5 4 phenoxyphenyl 7h pyrrolospyrimidin 7 yl cyclopentane 1 6 resolution data provides information relevant development small molecule inhibitors targeting btk tec family nonreceptor tyrosine kinases analysis structural differences tec src families kinases near trp glu ile motif n terminal region kinase domain suggests mechanism regulation tec family members keywords bruton tyrosine kinase btk dasatinib celera compound tec family crystal structure introduction bruton tyrosine kinase btk member tec kinase family nonreceptor tyrosine kinases play important roles cell receptor b cell receptor fcc receptor mediated signaling btk participates signal transduction b cell antigen receptors resulting phospholipase c c2 mediated calcium mobilization1 turn affects pre b cell functional maturation expansion since btk required b cell function important target potential treatment inflammatory diseases involve b cell activation mutations human btk gene responsible abbreviations btk bruton tyrosine kinase btk kd btk kinase domain itk interleukin 2 inducible cell kinase ph pleckstrin homology sh src homology tec tyrosine kinase expressed hepatocellular carcinoma xla x linked agammaglobulinemia disclosure authors exception j romanowski employees biogen idec company stock michael j romanowski current address novartis institutes biomedical research cambridge 02139 correspondence laura f silvian biogen idec inc 12 cambridge center cambridge 02142 e mail laura silvian biogenidec com published wiley blackwell vc 2010 protein society protein science 2010 vol 19 429 439 429 x linked agammaglobulinemia xla male immunodeficiency results deficit mature b cells serum immunoglobulin 2 3 several compounds inhibit btk kinase activity biochemical assays described literature differ kinase selectivity profiles one weak compound lfm a13 cyano bhydroxy b methyl n 2 5 dibromophenyl propenamide btk inhibitor ic50 2 5 lm biochemical assay also inhibits plk3 jak2 4 6 however found somewhat specific btk exhibiting 100 fold higher ic50 values related tyrosine kinases jak1 hck egfr insulin receptor kinase irk 7 another compound dasatinib n 2 chloro 6 methylphenyl 2 6 4 2 hydroxyethyl piperazin 1 yl 2 methylpyrimidin 4 ylamino thiazole 5 carboxamide bms 354825 fig 1 originally used target bcrabl shown bind btk ic50 5 nm8 also binds kinases src family members hck src csk ephrin receptors fgr pdgfra yes 9 btk identified target dasatinib pull experiments cml cell line k562 8 reversible celera compound 3 cyclopentyl 1 4 phenoxyphenyl 1h pyrazolo pyrimidin 7 amine 10 recently described pan et al 11 potent inhibitor unphosphorylated btk 8 2 nm ic50 biochemical assay however also inhibits lck src ic50 values 2 70 nm respectively 10 chemically similar commercially available 4 amino 5 4 phenoxyphenyl 7h pyrrolo 2 3 pyrimidin 7 yl cyclopentane b43 fig 2 described potent inhibitor lck 12 finally irreversible inhibitor pharmacyclics11 currently phase b cell lymphomas expected bind irreversibly cys481 btk kinase domain active site 0 72 nm ic50 biochemical assay selectivity profile better reversible binder exhibits greater selectivity lck lacks cysteine 1000 fold selectivity biochemical assay future design potent specific btk inhibitors would facilitated structures compounds bound btk discern whether regions surrounding ligand unique kinase btk composed several domains n terminal pleckstrin homology ph domain prolinerich tec homology domain two src homology domains sh3 followed sh2 c terminal kinase domain btk kd mutations domains human btk found lead xla missense mutations found domains except sh3 domain 13 structures figure 1 btk kd y551e dasatinib crystal structure chemical structure dasatinib b electron density 2fo fc map 1 sigma dasatinib within surface representation btk protein human btk kd y551e dasatinib complex c overall view btk kinase domain bound dasatinib inhibitor magenta amino terminal lobe green carboxy terminal lobe gray c helix red hinge blue activation loop yellow close active site residues within 5 bound dasatinib surface colored according convention base blue acid red 430 proteinscience org crystal structures human btk kinase domain solved kinase domains apo murine btk7 human itk 14 high resolution structure full length protein regulatory domains available low resolution structures btk solved small angle x ray scattering revealed extended linear arrangement sh3 sh2 kinase domains contrasts structures autoinhibited full length src abl kinases compact arrangement sh2 sh3 domains allows sh2 domain bind near c terminal tail kinase domain 15 structural studies src family tyrosine kinases revealed proteins adapt two conformations autoinhibitory state protein referred assembled regulatory domain conformation active open structure sh2 domain interact unphosphorylated c terminal tail 16 describe 1 94 resolution crystal structure human btk kd y551e mutant bound dasatinib 1 6 resolution crystal structure unphosphorylated human btk kd bound b43 observe two structures differ orientation c helix similar conformational changes observed src kinase family members locked active inactive states btk kd structures reveal ordered density wex motif n terminus kinase domain x hydrophobic residue location tryptophan side chain base c helix provides explanation wex motif acts important regulatory element tec family kinases similar role regulation src family kinases suggests two families similar mechanism regulation results protein purification characterization btk kd btk kd y551e purified 95 purity using simple three step process utilizing two successive glutathione sepharose chromatography steps followed size exclusion chromatography mass spectrometry indicated majority wild type btk kd btk kd y551e intact unphosphorylated wild type calculated mass 32 641 6 da measured mass 32 643 da mutant calculated mass 32 607 5 da measured mass 32 609 da although 2 8 respectively missing first 4 n terminal residues wildtype calculated mass 32 317 2 da measured mass figure 2 btk kd b43 crystal structure chemical structure b43 b electron density 2fo fc map 1 sigma b43 within surface representation btk protein human btk kd b43 complex c overall view btk kinase domain bound b43 inhibitor green amino terminal lobe green carboxy terminal lobe gray c helix red hinge blue activation loop yellow close active site residues within 5 bound b43 surface colored according convention base blue acid red active site cysteine shown yellow surface marcotte et al protein science vol 19 429 439 431 32 319 da mutant calculated mass 32 283 2 da measured mass 32 285 da crystal structures crystal structures btk kd y551e dasatinib btk kd b43 complexes determined using 1 94 diffraction data rfree 25 8 1 6 diffraction data rfree 23 1 respectively table electron density maps clearly revealed positions ligands figure 1 b depicts electron density dasatinib figure 2 b reveals electron density b43 human btk kd y551e dasatinib complex structure exhibits c helix active conformation catalytic lysine forms h bonds glu445 c helix fig 1 c bilobal fold btk kd similar reported tyrosine kinase structures n terminal lobe residues 392 473 consists five antiparallel b sheets two helices contains glycine rich loop covers active site c terminal lobe residues 482 659 consists nine helices two b strands activation loop finally hinge region residues 474 481 connects two lobes kinase contains active site cysteine cys481 ordered region dasatinib cocrystal structure encompasses residues 392 658 electron density parts activation loop residues 542 558 residues 435 441 visible however dfg portion activation loop visible called dfg conformation unphosphorylated btk kd b43 cocrystal structure contrast displays c helix inactive conformation figs 2 c 3 b kinase ordered except tip glycine rich loop residues 410 414 activation loop displays dfg conformation completely ordered composed two alpha helices arg544 within first helix activation loop forms salt bridge glu445 c helix dasatinib interactions dasatinib makes several hydrogen bonds hinge occupies hydrophobic pocket behind thr474 gatekeeper residue fig 1 b similar previously reported structures dasatinibbound abl pdb id 2gqg 17 lyn pdb id 2zva 18 csrc pdb id 3g5d 19 h bond interactions hinge described figure 1 including interactions backbone carbonyl amide 477 water mediated interactions tyr476 side chain interaction thr474 side chain compound amide nitrogen glycine rich loop btk kd curls toward dasatinib form hydrophobic interaction phe413 fig 1 ortho chloro methyl phenyl substituent dasatinib twisted enter hydrophobic pocket composed hydrophobic hydrophilic residues met449 val458 leu460 ile472 lys430 glu445 ser538 finally glu445 c helix forms salt bridge catalytic lys430 epsilon amino group lysine poised make pi cation interaction dasatinib ortho chloro methyl phenyl ring fig 1 b43 interactions b43 compound makes several hydrogen bonds hinge occupies hydrophobic pocket behind thr474 gatekeeper residue fig 2 4 amino pyrrolopyrimidine b43 occupies position adenine ring atp cyclopentyl ring occupies space generally occupied atp ribose typical protein kinase structures 4 amino pyrrolopyrimidine makes many interactions hinge exocyclic amine directly interacts table data collection refinement statistics btk kd b43 complex btk kd y551e dasatinib complex data collection space group p21212 p21212 cell dimensions 72 5 73 4 b 104 3 104 6 c 38 0 38 1 wavelength 1 54 0 98 resolution 50 1 6 50 1 94 rsym 8 0 36 3 8 3 61 9 r 18 5 4 6 32 1 3 3 multiplicity 3 8 4 1 6 8 6 6 total reflections unique reflections 405 732 39 020 490 862 22 496 completeness 98 1 98 5 99 2 99 2 refinement resolution 24 5 1 6 28 4 1 94 reflections 36 293 21 141 rwork rfree b 19 2 23 1 19 9 25 8 molecules per asymmetric unit 1 1 atoms protein 2161 2016 ligand 28 33 water 495 164 average b factors c protein atoms 25 8 23 4 ligand 30 5 41 7 water 53 5 35 7 r bond lengths 0 007 0 024 bond angles 1 14 2 05 ramachandron plot allowed 98 5 98 2 generously allowed 1 5 1 4 allowed 0 0 4 rsym r ihkl ihkl rihkl value parentheses highest resolution bin approximate interval 0 1 b rwork rihkl fo fc rihkl fo data except 5 used rfree calculation 432 proteinscience org crystal structures human btk kinase domain gatekeeper thr474 hydroxyl backbone carbonyl 475 n 3 pyrimidine accepts hydrogen bond backbone amine met477 n 1 pyrimidine forms water mediated hydrogen bond network hydroxyl tyr476 backbone carbonyl ala 478 fig 2 distal phenyl group phenoxyphenyl twisted 38 plane phenylether enters hydrophobic pocket composed hydrophobic residues phe442 met449 leu460 ile472 phe540 leu542 proximity asp539 dfg motif phe540 motif forms face edge pi stacking interaction phenoxyphenyl group b43 asp539 dfg motif forms salt bridge catalytic lys430 form direct hydrogen bond interactions compound discussion relevance structures drug discovery structures human btk kd y551e dasatinib btk kd b43 complexes report differ publicly available structure apo murine btk kd pdb id 1k2p arguably relevant drug discovery diseases inhibition btk may desired apo mouse btk structure superimposed human btk kd b43 structure rmsd 1 19 230 aligned carbons biggest differences observed activation loop glycine rich loop activation loop mouse apobtk kd structure adapts extended configuration tyr551 pointed toward solvent mouse apo btk structure glycine loop also caves active site occludes atp binding pocket mouse human btk kd 98 3 identical four amino acids replaced mouse sequence q379k k433r k625r t653s likely kinase domain flexibility observed apo murine btk kd structure due lack occupancy compound active site rather due intrinsic structural difference mouse human species selectivity compound inhibition dasatinib reversible celera compound size hydrogen bonding nature gatekeeper residue given kinase generally correlates degree biochemical inhibition9 table ii kinases inhibited 10 lm dasatinib kd 1 nm inhibited 10 lm celera compound less 5 residual activity threonine gatekeeper valine residue gatekeeper position tolerated celera compound binding well tolerated dasatinib binding ret kdr kinases table ii threonine gatekeeper forms h bond interactions compounds possible h bonding binding energy plays greater role binding dasatinib compared celera compound alternative explanation poor binding dasatinib valine gatekeeper containing kinases kdr ret differences side chains within 5 compound table iii particular one residue back pocket forms close hydrophobic interactions dasatinib btk met449 replaced leucine kdr ret back pocket dasatinib cocrystal structure figure 3 differences inactive b43 active dasatinib bound conformation btk overlay btk kd bound b43 green itk bound staurosporin magenta pdb id 1snu p38a yellow pdb id 1p38 indicates larger phenylalanine gatekeeper itk compared thr474 gatekeeper btk prevents b43 binding also indicates shorter hinge p38a blocks b43 binding site b overlay b43 structure green dasatinib structure magenta indicates superimpose well near hinge differ near c helix resulting shift 10 conformation glu445 side chain residues surround hydrophobic back pocket marcotte et al protein science vol 19 429 439 433 composed mixed hydrophobic hydrophilic residues dasatinib may greater reliance met449 compared b43 whose back pocket completely surrounded hydrophobic residues either explanation e different energy considerations h bonding threonine gatekeeper different compounds differences makeup side chains line dasatinib unique hydrophobic pocket could explain dasatinib bind well ret kdr exception rule requiring small gatekeeper compound binding p38a egfr nima never mitosis gene related kinase 11 nek11 kinases threonine gatekeepers moderately inhibited small molecules p38a kinase shorter hinge thus reduced affinity ascribed smaller binding site fig 3 similarly differences residues within 5 two small molecules table iii could account differences affinity nek11 egfr differ residues make hydrophobic pocket behind threonine gatekeeper egfr substituting cysteine val458 nek11 substituting larger phenylalanine leu460 leucine met449 furthermore nek11 contains glycine substitution ser538 residue likely enhance flexibility dfg motif follows table iii contrast abl lyn src kinases inhibited well small molecules show significant variation residues make hydrophobic pocket kinases ser538 replaced alanine residue similar conformational flexibility likely effect flexibility activation loop tables ii iii size gatekeeper residue increases threonine phenylalanine itk fig 3 methionine igf1r jak1 jnk3 syk table ii leucine aurora table ii neither inhibitor reduces kinase activity full extent binding modes require insertion compound past bulky gatekeeper hydrophobic back pocket table ii gatekeeper residue various kinases activity celera compound kd values dasatinib kinase gatekeeper activity presence 10 lm celeraa dasatinib kd nm b ack1 ser 3 6 abl thr 3 0 5 bmx thr 1 0 0 btk thr 1 1 0 csk thr 0 0 2 egfr thr 20 100 fgr thr 3 0 5 fyn thr 3 0 7 hck thr 5 0 3 kit thr 4 0 6 lck thr 13 0 2 lyn thr 4 0 6 p38a thr 57 30 src thr 1 0 2 yes thr 1 0 3 sik thr 17 nd ripk2 thr 4 30 craf thr 11 600 ephb1 thr 65 0 4 nek11 thr 64 7000 ret val 0 200 kdr vegfr2 val 6 3000 rsk1 leu 80 nd rsk2 leu 83 nd aura leu 101 2000 igf1r met 87 nd jak2 met 88 nd jnk3 met 76 nd syk met 50 3000 itk phe 18 nd nd determined upstate kinase profiler b taken ref 9 table iii residues within 5 compounds btk kd b43 btk kd y551e dasatinib structures ntd grl uph lwh hyp avl 428b 430c 408b 409d 413d 416b 472d 474a c 475b 476b 477b 479d 480b 481c 458c 460b 449b 538b 539b 540b 542b btk k l g f v e n g c v l f l nek11 k l g f v e yce ge de v fe le ge dfve egrf k l g f v le qe le fe g cce lmte dfl abl k l g ye v e fmye g ne v l mae dfl lyn k l g f v e ke g se v l mae dfl src k l g f v e ke g se v l mae dfl ret k l g f v le e yae ye g se e l le sdfl kdr k l g f v e fe ce fe g ne vlle sdfl ntd n terminal domain grl glycine rich loop uph upper hinge lwh lower hinge hyp hydrophobic pocket avl activation loop gatekeeper residue b residue interacts b43 dasatinib btk c residue interacts dasatinib btk residue interacts b43 compound btk e differences sequence btk sequence 434 proteinscience org crystal structures human btk kinase domain overall conformational changes btk kd y551e dasatinib complex structure gly rich loop btk partially shields dasatinib solvent found abl kinase structure data shown curled glycinerich loop btk structure hydrophobic interaction formed phe413 exocyclic methyl dasatinib pyridine ring fig 1 gln412 asp539 dfg motif every respect however overall conformation btk kd dasatinib structure similar known dasatinib bound conformations lyn 18 csrc 19 abl 17 including compound h bond interactions hinge position c helix nonvisible residues differ two btk structures correlated different interactions made different compounds mutation activation loop tip glycine rich loop disordered b43 structure ordered dasatinib structure activation loop disordered dasatinib structure well ordered b43 structure curled glycine rich loop forms van der waals contacts dasatinib methyl substituent phe413 side chain whereas similar interactions take place b43 btk kd protein residues glycine rich loop disordered one might expect y551e mutation activation loop btk kd y551e dasatinib structure responsible activation loop disorder mutated residue electrostatically incompatible conformation activation loop seen btk kd b43 structure btk kd b43 structure y551 residue close proximity asp521 side chain likely electrostatically repelled mutation tyrosine glutamate often hard pinpoint flexible regions crystal structures disordered appears formation critical molecular interactions produces ordered electron density flexible regions btk comparison structures human btk kd y551e dasatinib complex btkkd b43 complex reveals change conformation catalytically active inactive dasatinib complex similar atp bound conformation kinases conserved glutamate c helix forms salt bridge catalytic lysine fact crystals could formed unphosphorylated wild type btk kinase construct prompting us make y551e mutant mimic phosphorylated wild type protein contrast btk kd b43 complex shows outward shift c helix fig 3 b relative position dasatinib structure conserved salt bridge glutamate catalytic lysine breaks large hydrophobic pocket opens behind gatekeeper residue ability different kinases adapt c helix conformation might enable design specific inhibitors targets larger hydrophobic pocket furthermore cys481 active site btk kd could also exploited gain kinase selectivity small molecule may irreversibly bound cysteine via covalent bond 11 determine overall similarity btkkd b43 structure kinases b43 complex structure submitted dali lite server structure alignment scoring20 http ekhidna biocenter helsinki fi dali server top hits inactive hck pdb id 1qcf inactive src pdb id 2src inactive abl pdb id 2g1t itk pdb id 1sm2 mouse btk pdb id 1k2p could aligned human btk 260 carbons rmsd 2 0 better highest scoring hits excluding tec family kinases inactive conformations tyrosine kinases src abl families consistent overall sequence similarities human btk conformation activation loop c helix human btk kd b43 structure similar inactive src structure pdb id 2src rmsd 1 64 257 carbons src activation loop forms two alpha helices occludes access substrate peptide overall conformation btk kd y551e dasatinib structure similar active c src csk structure pdb id 1y57 activation loop swung c helix moves toward active site fig 4 comparison src tec family kinases phosphorylation triggered regulation btk src differ unlike src family tec family nonreceptor tyrosine kinases lacks conserved tyrosine c terminus could phosphorylated bind sh2 domain 16 btk regulated phosphorylation two tyrosine residues tyr223 sh3 domain tyr551 activation loop kinase domain participate kinase activation 21 recent study btk autophosphorylation y551f mutant shown 5 10 fold lower enzymatic activity wild type protein indicating tyrosine plays important role btk activation 22 furthermore mutation conserved tryptophan n terminal w e x motif x hydrophobic residue also appears effect activities two kinase families differently src mutation trp ala increases kinase activity btk mutation trp ala reduces kinase activity 23 human btk structures described include ordered density wei motif residues 392 395 area disordered marcotte et al protein science vol 19 429 439 435 available murine btk structure pdb id 1k2p human itk structure pdb id 1sm2 enables structural comparison tec family src family kinases conserved region trp side chain shifts solvent exposed inactive btk kd b43 complex structure wedged pocket behind inward c helix active btk kd y551e dasatinib complex structure fig 4 b structural superposition two btk structures inactive src pdb id 2src 24 active csk structure pdb id 1y57 16 show side chain trp395 superimposes active structures kinase families inactive conformations lysine methionine side chain rotated c helix sterically occludes tryptophan side chain trp side chains superimposable fig 4 b similar structural shift observed suggests src tec families utilize similar means activating conformation kinase domain however inactive conformations trp side chain differ differential energy required switching inactive active conformations may differ could explain mutation residue alanine produces different regulatory effects two proteins study reports structures human btkkd dasatinib 4 amino 5 4 phenoxyphenyl 7h pyrrolo 2 3 pyrimidin 7 yl cyclopentane bound active site analysis binding modes reveals size h bonding potential gatekeeper residue different kinases nature residues make hydrophobic pocket behind gatekeeper residue critical dictating either compound binds propose presence distinct hydrophobic pocket b43 structure suggests one could design compounds limited selectivity kinases adapt c helix conformation movements c helix presumably induced phosphorylation activation loop residue tyr551 shift btk active conformation could generate second metal binding site containing glu445 lin et al shown important optimal catalytic activity tyr551 phosphorylated btk 25 finally show like src family kinases btk adapt similar conformational rotamer trp395 active conformation correlated similar movement c helix growing recognition btk plays key role many b cell lymphomas autoimmune diseases structures assist selective drug design bruton tyrosine kinase btk required b cell development b cell antigen receptor bcr function cross linking bcr induces phosphorylation btk tyr551 tyr223 however functional requirement phosphorylation bcr signaling remains unclear demonstrate mutation tyr551 tyr223 abrogates bcr induced calcium mobilization lyn also syk required tyrosine phosphorylation btk bcr signaling results suggest transphosphorylation btk tyr551 essential bcr function phosphorylation mediated concerted actions lyn syk b cell antigen receptor bcr 1 composed surface immunoglobulin noncovalently associated pair ig ig disulfide linked heterodimers essential signal transduction stimulation bcr induces enzymatic activation tyrosine phosphorylation three distinct families nonreceptor cytoplasmic protein tyrosine kinases ptks src family syk btk src family kinases rapidly activated bcr engagement activation correlates initial tyrosine phosphorylation immunoreceptor tyrosine based activation motif bcr ig ig subunits reviewed refs 1 4 temporally activation src family kinases followed btk syk 5 sequential activation potentially places btk syk downstream src family kinases utilizing co overexpression system fibroblasts cos cells demonstrated lyn transphosphorylates btk tyr551 catalytic domain site homologous src family kinase consensus autophosphorylation site 6 7 results 5 10 fold increase btk enzymatic activity 7 increase activity also leads increased autophosphorylation tyr223 sh3 domain btk 8 identical phosphopeptides generated cross linking bcr indicating sites also tyrosine phosphorylated b cells 7 although importance phosphorylation tyr551 tyr223 fibroblast transformation examined 8 9 functional significance phosphorylation tyr551 tyr223 btk bcr signaling remains elusive genetically define functional relationship among lyn syk btk bcr signaling established ptk deficient dt40 b cells 10 11 previous results shown bcr induced calcium mobilization abrogated btk deficient dt40 cells loss btk significantly affect activation lyn syk bcr signaling 11 show bcr induced tyrosine phosphorylation btk abolished lyn syk double deficient dt40 cells suggesting btk acts downstream lyn syk bcr signaling moreover phosphorylation partially inhibited lyn syk deficient cells indicating contribution lyn syk btk phosphorylation btk y223f mutant able restore bcr induced calcium mobilization whereas y551f mutant could thus results suggest phosphorylation tyr551 btk lyn syk essential bcr signaling previous section next section experimental procedures cells antisera dna transfection dt40 cells cultured rpmi 1640 supplemented 10 fetal calf serum penicillin streptomycin glutamine anti chicken igm mab m4 anti phospholipase c plc 2 ab described previously 10 anti phosphotyrosine mab 4g10 anti t7 mab obtained upstate biotechnology inc novagen respectively t7 tagged mutant btk cdnas created polymerase chain reaction resulting constructs confirmed dna sequencing cdnas cloned papuro expression vector 10 dna transfection dt40 cells dna linearized electroporated selected presence puromycin 0 5 g ml expression btk analyzed western blotting immunoprecipitation immunoblot analysis dt40 cells stimulated mab m4 indicated time cells solubilized nonidet p 40 lysis buffer 1 nonidet p 40 150 mm nacl 20 mm tris ph 7 5 1 mm edta containing 50 mm naf 10 molybdate 0 2 mm sodium vanadate supplemented protease inhibitors described previously 10 cell lysates sequentially incubated 1 h 4 c incubation ab protein sepharose immunoblotting samples separated sds page transferred nitrocellulose membrane amersham corp filters incubated mab 4g10 anti t7 mab washing filters developed using sheep anti mouse igg ab conjugated horseradish peroxidase enhanced chemiluminescence ecl vitro kinase assay immunoprecipitates washed 20 mm hepes ph 8 150 mm nacl washing lysis buffer added sample 50 l kinase buffer 20 mm hepes ph 8 10 mmmagnesium acetate 10 mm mncl2 absence presence atp 1 recombinant glutathiones transferase fusion protein containing cytoplasmic domain mouse ig glutathione transferase ig made used exogenous substrate 6 reactions allowed 30 c 10 min terminated addition sample buffer calcium phosphoinositide analysis calcium analysis cells 5 106 resuspended phosphate buffered saline containing 20 mm hepes ph 7 2 5 mm glucose 0 025 bovine serum albumin 1 mm cacl2 loaded 3 mfura 2 37 c 45 min cells washed twice adjusted 106 cells ml continuous monitoring fluorescence spectrophotometer model f 2000 hitachi excitation wavelength 340 nm emission wavelength 510 nm calibration calculation calcium level done described 12 phosphoinositide analysis cells 106 ml labeled myo 3h inositol 10 ci ml 105 ci mmol 4 5 h inositol free rpmi 1640 supplemented 10 dialyzed fetal calf serum stimulated presence 10 mm licl mab m4 soluble inositol phosphates extracted trichloroacetic acid indicated time points applied ag1 x8 formate form ion exchange columns bio rad preequilibrated 0 1 formic acid columns washed 10 ml h2o 10 ml 60 mmammonium formate 5 mm sodium tetraborate elution performed increasing concentrations ammonium formate 0 1 0 7m previous section next section results used genetic approach determine requirements btk tyrosine phosphorylation following bcr engagement utilized three mutants chicken b cell line dt40 generated inactivation either lyn syk genes homologous recombination 10 11 since ab raised chicken btk immunoprecipitate efficiently expressed epitope tagged version btk designated t7 btk wild type mutant dt40 cells clones expressing similar levels t7 btk deficient dt40 cells selected clones lysed prior following bcr ligation t7 btk immunoprecipitated anti t7 mab shown fig 1 btk inducibly tyrosine phosphorylated following bcr stimulation wild type dt40 cells consistent previous reports 5 13 15 contrast wild type cells lyn syk double deficient dt40 cells failed exhibit btk tyrosine phosphorylation following bcr ligation indicating requirement lyn syk bcr induced tyrosine phosphorylation btk lyn deficient dt40 cells tyrosine phosphorylation btk 1 3 min bcr ligation significantly reduced whereas phosphorylation 10 min reached almost level wild type cells compared lyn deficient dt40 cells syk deficient cells showed complementary time course bcr induced phosphorylation btk phosphorylation btk observed 1 3 min bcr stimulation data suggest either lyn syk alone capable phosphorylating btk least extent concerted actions lyn syk required full phosphorylation btk bcr signaling figure 1 view larger version page new window download powerpoint slide figure 1 bcr induced tyrosine phosphorylation btk various dt40 mutant cells indicated time points m4 stimulation 4 g ml cells lysed 1 nonidet p 40 lysis buffer immunoprecipitated anti t7 mab immunoprecipitates loaded onto 8 sds page blotted membrane incubated mab 4g10 filter stripped blot reprobed anti t7 mab py phosphotyrosine demonstrated recently transphosphorylation btk tyr551 results increased enzymatic activity leading autophosphorylation second tyrosine tyr223 fibroblast system 8 determine sequential phosphorylation btk occurs also bcr stimulation transfected y551f y223f mutants btk btk deficient dt40 cells fig 2 stimulation bcr enhance tyrosine phosphorylation btk y551f fig 3 result suggests possibility tyr551 btk target lyn syk dependent phosphorylation bcr stimulation dt40 cells alternatively phosphorylation tyr551 critical step subsequent phosphorylation btk bcr signaling context contrast btk y551f btk y223f showed increased tyrosine phosphorylation upon bcr stimulation although phosphorylation observed 1 min receptor cross linking fig 3 thus results implicate primary target tyrosine concerted actions lyn syk tyr551 btk bcr signaling leading phosphorylation tyr223 since btk y223f show significant tyrosine phosphorylation 3 10 min receptor stimulation finding also suggests phosphorylation tyr223 required sustained btk phosphorylation bcr signaling figure 2 view larger version page new window download powerpoint slide figure 2 schematic representation btk cdna constructs expression mutant btk btk deficient dt40 cells b dt40 cells expressing indicated constructions lysed nonidet p 40 lysis buffer 2 106 cells lane immunoprecipitated anti t7 mab immunoprecipitates divided half used western blotting anti t7 mab remaining half used vitro kinase assay described experimental procedures blotted mab 4g10 absence atp vitro kinase samples immunoprecipitates showed significant tyrosine phosphorylation py phosphotyrosine figure 3 view larger version page new window download powerpoint slide figure 3 bcr induced tyrosine phosphorylation btk y223f btk y551f indicated time points m4 stimulation 4 g ml btk deficient cells expressing constructs lysed 1 nonidet p 40 lysis buffer immunoprecipitated anti t7 mab immunoprecipitates loaded onto 8 sds page blotted membrane incubated mab 4g10 filter stripped blot reprobed anti t7 mab py phosphotyrosine utilizing btk deficient dt40 cells expressing btk y551f btk y223f analyzed effects mutations bcr signaling wild type kinase negative t7 btk also transfected btk deficient dt40 cells positive negative control respectively fig 2 determine whether mutations affect tyrosine kinase activity btk immunoprecipitates used forin vitro kinase assays glutathiones transferase ig exogenous substrate btk r525q exhibited kinase activity indicating immunoprecipitates largely free contaminating tyrosine kinases extent tyrosine phosphorylation normalized amount protein present kinase assay btk y551f btk y223f similar transphosphorylation activity compared wild type btk fig 2 b showed previously bcr induced plc 2 activation abrogated btk deficient dt40 cells leading loss calcium mobilization 11 thus examined whether mutations able restore defects shown fig 4 dt40 cells expressing btk y223f exhibited normal calcium mobilization whereas btk y551f able mobilize small amount calcium upon receptor cross linking consistent data cross linking bcr dt40 cells expressing btk y223f stimulated inositol 1 4 5 trisphosphate ip3 production tyrosine phosphorylation plc 2 although parameters lower wild type btk fig 4 b c might reflect lower expression level btk y223f wild type btk fig 2 b bcr induced ip3 production tyrosine phosphorylation plc 2 dt40 cells expressing btk y551f essentially dt40 cells expressing btk r525q fig 4 data shown results demonstrate phosphorylation tyr551 tyr223 essential bcr signaling figure 4 view larger version page new window download powerpoint slide figure 4 functional restoration bcr signaling btk y223f btk y551f calcium mobilization ip3 generation b tyrosine phosphorylation plc 2 c c btk deficient dt40 cells expressing mutants stimulated 3 min m4 4 g ml cells lysed 1 nonidet p 40 lysis buffer immunoprecipitated anti plc 2 ab immunoprecipitates loaded 6 sds page blotted membrane incubated mab 4g10 filter stripped blot reprobed anti plc 2 ab py phosphotyrosine previous section next section discussion lyn deficient dt40 cells bcr induced tyrosine phosphorylation btk significantly inhibited 1 3 min stimulation fig 1 indicating btk phosphorylation mediated lyn bcr signaling early time points however 10 min stimulation phosphorylation reached almost level wild type cells suggesting tyrosine phosphorylation btk 10 min bcr stimulation independent lyn contrast lyn deficient dt40 cells syk deficient cells show profound inhibition bcr induced tyrosine phosphorylation btk 10 min receptor cross linking implicating btk phosphorylation mediated syk taken together data suggest initial btk phosphorylation sustained phosphorylation mediated coordinated actions lyn syk bcr cross linking conclusion somewhat inconsistent previous reports using cos cell fibroblast expression systems 6 7 systems lyn able phosphorylate btk whereas syk one possibilities disparity heterologous systems dt40 b cell system syk maximally activated transphosphorylation tyr518 tyr519 lyn dt40 cells 16 contrast overexpressed syk may fully activated heterologous systems test possibility transfected t7 btk syk deficient cells expressing syk mutant tyr518 tyr519 changed phe518 phe519 mutant dt40 cell bcr induced tyrosine phosphorylation btk similar syk deficient dt40 cells data shown implicating requirement syk due regulated syk transphosphorylation tyr518 tyr519 also possible btk may direct substrate syk assuming another ptk acts downstream syk bcr signaling data might accounted involvement syk regulated ptk tyrosine phosphorylation btk reported two tyrosines tyr551 tyr223 phosphorylated cross linking bcr btk y551f exhibited tyrosine phosphorylation upon bcr cross linking whereas btk y223f showed increase tyrosine phosphorylation 1 min receptor stimulation suggesting tyr551 phosphorylation prerequisite subsequent phosphorylation btk bcr signaling events thus results support previous contention phosphorylation btk tyr551 followed autophosphorylation tyr223 7 8 since btk y223f show significant tyrosine phosphorylation 3 10 min receptor stimulation phosphorylation tyr223 appears required sustained btk phosphorylation recent crystallographic analysis itk btk tec family ptk expressed cells may provide insights function phosphorylation tyr223 btk 17 based analysis proline rich domain adjacent sh3 domain btk tec family kinases contains sh3 ligand fig 2 allowing intramolecular interaction interestingly tyr223of btk located within interface interaction thus phosphorylation tyr223 may disrupt intramolecular interaction thereby changing conformation btk conformational change might required sustained phosphorylation btk bcr signaling functional data clearly indicate tyr551 essential bcr signaling whereas tyr223 dispensable bcr induced plc 2 activation since phosphorylation tyr551 already reported increase kinase activity btk 5 10 fold 7 one consequence phosphorylation tyr551 increased kinase activity upon bcr cross linking although carried vitro kinase assay btk immunoprecipitates wild type dt40 cells bcr induced activation vitro kinase activity could reproducibly observed previous reports suggest magnitude bcr induced activation btk significantly smaller maximum btk phosphorylation lyn heterologous systems 6 7 indeed hand 5 10 fold activation btk cos cells could reproducibly detected thus likely explanation increase btk enzymatic activity phosphorylation tyr551 dt40 cells small detection system case syk demonstrated addition recruitment syk phosphorylated ig ig phosphorylation tyrosine tyr519 tyr518 within activation loop critical bcr signal transduction 16 report show phosphorylation tyr551 btk activation loop also obligatory mechanism participation bcr signaling thus cytoplasmic ptk cascade phosphorylation tyrosine located activation loop may one general mechanisms cytoplasmic signal transduction tec family kinases tyrosine kinases function primarily hematopoietic cells catalytic activity tec kinases positively influenced regulatory domains outside kinase domain current lack full length tec kinase structure leaves void understanding positive regulatory signals transmitted kinase domain recently conserved structure within kinases regulatory spine identified assembles disassembles kinase switches active inactive states define residues comprise regulatory spine within tec kinases compared previously characterized systems tec kinases contain extended regulatory spine includes conserved methionine within c helix conserved tryptophan within sh2 kinase linker tec kinases extended regulatory spine forms conduit transmitting presence regulatory domains tec kinases catalytic domain show mutation gatekeeper residue edge regulatory spine stabilizes regulatory spine resulting constitutively active kinase domain importantly regulatory spine preassembled gatekeeper mutant rendering phosphorylation activation loop unnecessary activity moreover show disruption conserved electrostatic interaction btk r544 activation loop btk e445 c helix also aids assembly regulatory spine thus extended regulatory spine key structure critical maintaining activity tec kinases keywords itk btk regulatory spine kinase activation gatekeeper residue phosphorylation go introduction protein kinases catalyze transfer phosphate group atp hydroxyl containing amino acid side chain either ser thr serine threonine kinases tyr tyrosine kinases 1 activity protein kinases exquisitely regulated within cell 1 2 3 4 switch catalytically inactive state kinase active state often accompanied phosphorylation key residue within activation loop large flexible loop lies two lobes kinase domain structure 1 phosphorylation activation loop residue trigger concerted movements mobile elements within kinase domain c helix dfg motif brings assembly catalytically critical residues kinase active state 1 active state conformations associated different kinases nearly identical across many kinases high resolution structures solved 2 3 5 6 7 surprising active states distinct kinases similar since phospho transfer chemistry carried different kinases contrast becoming clear structural features associated inactive state various kinases differ widely search features conserved within structures active kinases recently led identification structure termed regulatory spine 8 9 regulatory spine first identified local spatial patterns alignment analysis using set serine threonine tyrosine kinase structures included pka model kinase 8 9 regulatory spine defines stretch amino acid residues assembled active state kinases unlike consensus sequences consist continuous stretch amino acids primary structure regulatory spine consists disparate residues span n c terminal lobes kinase domain assembly regulatory spine proposed crucial step activation protein kinases structure disrupted structures kinases inactive state moreover regulatory spine proposed mechanism allosteric effects propagated kinase active site 8 9 tec kinases immunologically related tyrosine kinases consist five mammalian members itk btk tec txk bmx 10 11 tec kinases share similar domain architecture src abl csk family kinases sh3 sh2 kinase domain cassette 10 despite domain similarities others shown regulation tec kinases distinct src abl kinases 10 12 13 14 unlike src abl kinases n terminal regulatory domains tec kinases positively regulate activity kinase domain 14 isolated kinase domains src abl active isolated kinase domains tec family exhibit poor catalytic activity 13 14 15 regulation tec kinases fact similar csk family enzymes whose n terminal regulatory domains essential catalytic activity kinase domain 16 moreover structures full length src csk kinases available structure full length tec kinase remains elusive 2 17 18 leaves significant gap mechanistic understanding regulation tec family kinases manuscript define regulatory spine within tec family kinases show mutation spine residues leads different effects context isolated kinase domain verses full length itk moreover show assembly stable regulatory spine within members tec kinase family critically dependent presence sh2 kinase linker region residues comprise regulatory spine within pka insufficient promote assembly stable regulatory spine within tec kinases extend tec regulatory spine include conserved methionine within c helix conserved tryptophan residue within sh2 kinase linker tec kinases together spine residues originally identified within pka kinase domain conserved methionine tryptophan residues form continuous structure links kinase active site n terminal regulatory domains tec kinases furthermore show stabilization regulatory spine gatekeeper threonine methionine mutation eliminates need phosphorylation activation loop btk kinase activity thus extended regulatory spine structure critical regulation tec kinases stabilized appropriately sufficient activation absence activation loop tyrosine phosphorylation absence non catalytic tec regulatory domains go results regulatory spine controls tec kinase activity regulatory spine within pka consists five residues l95 l106 y164 f185 d220 9 residues spread throughout primary sequence pka kinase domain l95 located c helix l106 n terminus 4 strand y164 part hrd motif f185 dfg motif d220 f helix within c terminal lobe 9 alignment structure btk itk kinase domains pka shows corresponding regulatory spine residues within btk itk kinase domains consist btk m449 l460 h519 f540 d579 itk m409 l420 h479 f500 d539 respectively fig 1a figure 1 figure 1 identification regulatory spine tec kinases test role predicted spine residues tec kinases wished take advantage rapid bacterial expression purification system developed isolated kinase domains itk btk 19 one issue arises however fact isolated kinase domains tec kinases exhibit poor catalytic activity expected loss function mutations regulatory spine would difficult characterize given already low activity wild type kinase domains order take advantage ease bacterial expression system needed isolated btk itk kinase domain higher catalytic activity demonstrated previously introduction bulky hydrophobic residue isoleucine methionine gatekeeper position activates multiple kinases 20 indeed find itk f434m btk t474m isolated kinase domains active compared wild type isolated kinase domain manuscript preparation therefore probed importance predicted regulatory spine residues itk btk mutating individually alanine context itk f434m btk t474m isolated kinase domain mutants activity measurements carried monitoring phosphorylation levels peptide substrate radioactive assay detecting level autophosphorylation activation loop tyrosine y511 itk y551 btk western immunoblotting phosphorylation activation loop tyrosine achieved activity src family kinases lck lyn respectively vivo vitro conditions tec kinases autophosphorylate activation loop tyrosine 21 22 23 disruption regulatory spine residues mutation alanine predicted disrupt kinase activity indeed mutation btk m449 h519 f540 d579 itk m409 h479 f500 d539 alanine within isolated kinase domain itk f434m btk t474m leads decreased phosphorylation activation loop tyrosine drastically reduces catalytic activity fig 1b c e itk kinase residues m409 f500 h479 highly conserved kinases well defined roles catalysis 8 itk m409 involved binding substrate atp 12 itk f500 part dfg motif start activation loop segment responsible stabilizing conformation preceding aspartate c helix 8 itk h479 part hrd motif serves scaffold d499 f500 8 therefore surprising mutation sites leads loss activity however itk d539 part previously characterized regulatory motif therefore drastic reduction itk activity upon mutation residue alanine highlights importance regulatory spine regulating itk activity moreover since regulatory spine residues conserved within tec kinase family structure would predicted critical regulating activity tec kinase family members unexpectedly mutation itk l420 btk l460 alanine based previous pka work predicted part regulatory spine failed inactivate isolated kinase domains itk f434m btk t474m fig 1b c e fact isolated kinase domains itk l420a f434m btk l460a t474m double mutants showed increase activity compared isolated kinase domain itk f434m btk t474m respectively ensure activating effect leu ala mutation artifact working activated gatekeeper mutant isolated kinase domains itk btk regulatory spine residues mutated alanine context wild type isolated kinase domains itk btk since catalytic activity isolated kinase domain tec kinases generally poor detection activation loop phosphorylation levels western immunoblotting difficult itk particular phosphorylation y511 detection limit western immunoblotting hence activity wild type regulatory spine mutants isolated kinase domains itk btk monitored ability phosphorylate peptide substrate radioactive assay results regulatory spine mutations context wild type kinase domains mirror results activating gatekeeper mutants described mutation btk m449 h519 f540 d579 alanine within isolated wild type kinase domain btk leads decreased catalytic activity fig 1f circular dichroism spectra btk mutants overlay well wild type btk showing decreased activity btk mutants due unfolding kinase supp fig 1 since activity isolated itk wild type kinase domain significantly background levels resulting activity itk spine mutants itk m409a h479a f500a d539a interpreted except say activity greater wild type fig 1g however consistent earlier results gatekeeper mutant itk l420a btk l460a mutants active wild type isolated kinase domain itk btk respectively fig 1f g interestingly previous studies regulatory spine within abl kinase shown mutation abl l320 glycine corresponding itk l420 btk l460 leads slight decrease kinase activity full length abl 20 also consistent modeling studies abl shown abl l320 modest impact regulatory spine formation 20 thus itk l420 btk l460 play major role assembly regulatory spine within context isolated kinase domain itk btk regulatory spine assembled structure phosphorylated itk kinase domain activation tec kinases requires phosphorylation conserved tyrosine within activation loop 12 21 23 separate high resolution structures btk kinase domain y551 either phosphorylated active unphosphorylated inactive recently reported 24 comparison inactive active states btk kinase domain shows clear differences region regulatory spine fig 2a regulatory spine residues assemble linear arrangement structure active btk kinase interactions regulatory spine residues particular l460 m449 f540 disrupted structure inactive btk kinase structural differences region active inactive btk consistent role regulatory spine defined previously pka fig 2a figure 2 figure 2 regulatory spine assembled active state kinases crystal structures isolated kinase domain itk either unphosphorylated phosphorylated y511 activation loop also available 12 surprisingly available itk kinase domain structures overlay quite well little conformational differences regardless phosphorylation state activation loop inspection itk kinase domain structures shows regulatory spine residues itk kinase domain structures adopt disrupted configuration similar inactive btk kinase domain fig 2b additional hallmark active kinase domain structure formation crucial ion pair conserved lysine positioned within 3 strand kinase domain conserved glutamate c helix 1 distance corresponding residues itk k390 e405 within structures phosphorylated unphosphorylated itk kinase domain order 8 0 significantly greater 3 4 distance observed structures active kinases fig 2b 12 indeed distance conserved ion pair within btk btk k430 e445 changes 14 6 3 8 upon activation kinase fig 2a observations suggest phosphorylated unphosphorylated itk kinase domains adopt conformation consistent inactive enzyme inability itk kinase domain fully assemble active conformation despite phosphorylated y511 itk activation loop points additional requirements activation notable difference itk btk crystal structures construct used crystallization btk kinase domain included sh2 kinase linker itk kinase fig 2a b 12 24 hypothesize absence sh2 kinase linker within itk construct used crystallography might prevent assembly stable regulatory spine kinase domain despite phosphorylation activation loop y511 extension tec kinase regulatory spine previously shown sh2 kinase linker 17 amino acids sh2 domain kinase domain critical activity btk itk exerting positive effect catalytic function kinase domain 14 specifically conserved tryprophan itk w355 btk w395 sh2 kinase linker well methionine residue c helix itk m410 btk m450 crucial residues tec family kinase regulatory apparatus fig 3a 14 like regulatory spine mutants described figure 1 point mutations itk w355 btk w395 itk m410 alanine result significant drop catalytic activity fig 3b examination crystal structures btk shows btk w395 btk m450 located top regulatory spine active btk structure serve extend hydrophobic packing spine residues well n terminus kinase domain fig 3c inactive btk structure repositioning w395 m450 side chains disrupts extended regulatory spine fig 3c much manner repositioning m449 inactive btk structure disrupts core spine fig 2a active inactive btk structures consist amino acids residues 382 659 differ respect activation loop tyrosine y551 active structure activation loop tyrosine mutated glutamate y551e mimic phosphorylated btk inactive structure wild type btk unphosphorylated form used crystallization 24 figure 3 figure 3 extension regulatory spine within tec kinases include sh2 kinase linker compared regulatory spine defined pka 9 tec kinase family requires least two additional residues itk w355 m410 fully assemble regulatory spine tryptophan residue located sh2 kinase linker region providing explanation positive regulatory role non catalytic region 14 available itk kinase domain structures entirely consistent finding without contribution sh2 linker region regulatory spine itk assemble active conformation result structures phosphorylated unphosphorlated itk kinase domain fragments similar neither resembles active kinase future structures tec kinases without sh2 kinase linker various activation phosphorylation states required fully probe hypothesis itk l420 btk l460 essential formation extended regulatory spine within full length tec kinases conserved tryptophan sh2 kinase linker critical activity full length tec kinases 14 upon activation tryptophan side chain forms part hydrophobic pocket lined conserved methionine c helix leucine 4 strand itk m410 l420 btk m450 l460 fig 3d although itk l420 btk l460 shown part regulatory spine context isolated kinase domain fig 1 structure btk kinase domain contains sh2 kinase linker region suggests leucine would critical formation extended regulatory spine context full length kinase therefore tested role leucine context full length itk shown figure 3e mutation itk l420 alanine within context full length itk disrupted activity itk consistent earlier results mutation itk m409 f500 d539 alanine within full length itk also inactivated kinase problems cloning prevented us testing activity full length itk h479a mutant together itk m409 l420 h479 f500 d539 m410 w355 form conserved allosteric signaling network absolutely required activity itk based sequence conservation extended regulatory spine defined likely controls activity entire tec kinase family phosphorylation activation loop tyrosine required activity btk t474m mutant well established activation loop phosphorylation required activation tyrosine kinases 1 8 specifically tec kinases phosphorylation activation loop tyrosine results least ten fold increase activity 21 25 structures active inactive kinase domains number different kinases demonstrate conserved electrostatic network switches active inactive conformations fig 4a 1 8 inactive state btk conserved glutamate btk e445 c helix lys glu ion pair associated conserved arginine btk r544 activation loop 24 26 activation btk phosphorylation btk y551 activation loop tyrosine leads specific interaction py551 r544 concomitant loss association r544 e445 24 26 btk e445 c helix swings toward kinase active site associates conserved lysine side chain btk k430 bring assembly active state kinase 24 26 conformational adjustment c helix brings m449 m450 line residues regulatory spine fig 4a thus phosphorylation activation loop tyrosine initiating step process regulatory spine assembly figure 4 figure 4 regulatory spine preassembled btk t474m gatekeeper mutant since mutation gatekeeper residue methioine appears stabilize regulatory spine within btk next probed requirement activation loop phosphorylation context t474m gatekeeper mutation activity btkt474m y551f double mutant compared btk t474m mutant monitoring phosphorylation exogenous substrate find mutation activation loop btk y551 phenylalanine effect activity btk t474m mutant fig 4b c btk t474m y551f double mutant btk t474m single mutant active whereas wild type btk kinase requires activation loop phosphorylation btk y551f single mutant exhibits poor activity fig 4b data consistent idea phosphorylation activation loop tyrosine initiates assembly regulatory spine disrupting association btk e445 btk r544 py551 competes e445 association r544 e445 k430 salt bridge formed bringing c helix importantly m449 regulatory spine structure conditions pre organize regulatory spine structure btk t474m mutant phosphorylation activation loop y551 longer required trigger conformational changes accompany btk activation tested importance switched electrostatic network mutating btk r544 reasoned mutation btk r544 activate kinase inward movement c helix restrained e445 r544 interaction loss electrostatic interaction facilitate movement c helix indeed mutation btk r544 serine context wild type isolated kinase domain btk leads two fold increase activity fig 4d e contrast mutation btk r544 serine context btk t474m isolated kinase domain activate kinase fig 4d e results suggest pre assembly kinase regulatory spine mutation overcome regulatory interactions normally control kinase activity thus wild type kinase physiological conditions phosphorylation activation loop sets motion cascade events 1 formation py551 r544 interaction concomitant disruption btk e445 r544 interaction 2 inward movement c helix formation e445 k430 interaction 3 assembly regulatory spine culminates formation active kinase fig 4a go discussion structures isolated kinase domain btk active inactive states provided significant insight tec kinase activation 24 26 however lack full length structure tec kinase leaves numerous unanswered questions regarding regulation tec kinases sh2 domain sh2 kinase linker region tec kinases shown required activity tec kinases 12 13 14 mechanism regulatory domains positively influence catalytic activity clear identify intramolecular allosteric signaling network extends sh2 kinase linker kinase domain tec kinases intramolecular connectivity defines non catalytic tec regulatory domains sh2 kinase linker region impinge kinase domain stabilize regulatory spine absence tec regulatory domains whether achieved deletion conformational changes within full length molecule regulatory spine disrupted kinase activity inhibited comparing results previously published pka shows tec kinases require extended spine structure longer regulatory spine couples kinase activity regions outside kinase domain specifically conserved methionine c helix conserved tryptophan sh2 linker swing cap spine active btk structure critical activity tec kinases mutation extended spine residues disables kinase activity even core residues defined pka intact support importance entire regulatory spine comes examination genetic mutations btk associated x linked agammaglobulinemia xla humans disease characterized impaired b cell development 27 several extended regulatory spine residues identified study mutated xla patients 27 addition nonsense mutations btk m449 m450 w395 cause premature truncation protein also missense mutations btk m450 f450 d579 m450i f450s d579v mutations likely destabilize regulatory spine prevent btk kinase activation activation loop tyrosine phosphorylation long known influence kinase activity addition priming kinase domain assembly regulatory spine phosphorylation conserved tyr activation loop also thought stabilize substrate binding site activation loop 1 however work shown context activating gatekeeper btk t474m mutation loss y551 phosphorylation mutation phenylalanine affect substrate phosphorylation pre assembly regulatory spine mutation t474m removes requirement activation loop phosphorylation results consistent earlier studies focused phosphorylation y551 btk 25 earlier work show phosphorylation btk y551 significantly alters catalytic activity btk kcat btk y551f mutant greatly diminished compared wild type btk presumably due loss trigger regulatory spine assembly however affinity peptide substrate unaffected y551 phosphorylation km peptide substrate btk y551f mutant wild type btk well alternative direct substrate docking mechanism identified tec kinases sh2 domain within substrate docks onto kinase domain outside active site facilitates substrate phosphorylation 28 29 30 therefore possible peptide substrate binding region activation loop may play minor role substrate recognition tec kinases activation loop phosphorylation plays one significant role initiation spine assembly altering electrostatic interactions around active site previously shown regulation tec family kinases similar csk c terminal src kinase 14 unlike src abl family kinases sh3 sh2 regulatory domains csk tec kinases positively influence catalytic activity kinase domain 14 16 like itk btk isolated kinase domain csk poor catalytic activity 16 31 32 order define elements within csk kinase domain responsible poor catalytic activity mutagenesis study carried src csk kinase domain chimeras created 33 src csk chimeric kinase domain n terminal lobe csk replaced n terminal lobe src shown exhibit activity comparable full length csk 33 mutagenesis n terminal lobe identified c helix turn 4 5 strands top regulatory spine key structural elements required activity isolated kinase domain csk 33 remarkable correlation elements identified csk mutagenesis study extended regulatory spine tec kinases identified study since csk tec family kinases positively regulated domains outside kinase domain surprising would share key determinants catalytic activity indeed suggested original identification kinase regulatory spine 9 feature likely plays critical role active kinases work confirms notion tec family kinases illustrates extension regulatory spine two residues couples regulatory feature allosteric events occurring outside kinase domain moreover data suggest despite high degree sequence conservation five core regulatory spine residues assemble active conformation context isolated itk btk kinase domains energetics spine assembly seem tailored specific regulatory environment tec kinase domains maintained inactive state spine assembly occur even activation loop phosphorylated additional regions protein case sh2 linker present drive complete spine assembly forward fully activate kinase \",\n          \"50 transitional cell carcinomas bladder show loss heterozygosity region spanning tsc1 locus 9q34 mutations tsc1 identified 14 5 tumours comprise nonsense mutations splicing mutations small deletions missense mutations missense mutations rarely found germline tsc disease therefore examined six somatic missense mutations found bladder cancer determine whether result loss function describe loss function via distinct mechanisms five mutations caused mutually exclusive defects mrna protein levels two mutations caused pre mrna splicing errors predicted result premature protein truncation three resulted markedly reduced stability exogenous tsc1 protein primary tumours aberrant tsc1 pre mrna splicing confirmed negative tsc1 expression immunohistochemistry expression also significantly reduced tumour tsc1 missense mutation resulting diminished protein half life single tsc1 missense mutation identified tumour retained heterozygosity tsc1 region chromosome 9 caused apparently tsc2 mtor independent localization defect mutant protein conclude although tsc1 missense mutations play major role causation tsc disease represent significant proportion somatic loss function mutations bladder cancer go introduction tuberous sclerosis complex tsc autosomal dominant tumour suppressor gene syndrome incidence 1 6000 10 000 births tsc characterized development benign growths called hamartomas kidneys heart brain skin patients present clinically variety developmental disorders 1 tsc caused mutations affecting either tumour suppressor genes tsc1 tsc2 tsc1 chromosome 9q34 encodes hamartin 2 tsc2 chromosome 16p13 3 encodes tuberin 3 approximately half large tsc families show linkage 9q34 half 16p13 3 4 6 tumour development tsc patients thought occur result somatic second hit either tsc1 tsc2 according knudson tumour suppressor model 7 loss heterozygosity loh tsc1 tsc2 reported tsc hamartomas renal angiomyolipomas however loss wild type allele brain lesions rare suggesting possibility tissue specific haploinsufficiency tsc genes 8 10 co localization co immunoprecipitation tsc1 tsc2 mammalian cells 11 12 direct binding yeast two hybrid assays provide tentative explanation similar disease phenotype tsc patients mutations either tsc1 tsc2 genes 2 13 functionally tsc1 tsc2 complex positioned centre multiple growth signalling pathways key integrator signals controlling protein translation cell growth 14 activation tsc1 tsc2 complex growth limiting conditions attenuates signalling mtor via specific gtpase activating protein gap activity tsc2 towards rheb 15 16 epithelial malignancy common feature tsc studies laboratory others implicated loss function tsc1 bladder tumorigenesis 17 19 loss heterozygosity loh markers chromosome 9 observed 50 bladder tumours grades stages 20 sub chromosomal loh analyses identified tsc1 locus 9q34 common critical region deletion markers d9s149 d9s66 19 21 23 date screened 154 bladder tumours fluorescent single strand conformation polymorphism f sscp analysis direct sequencing found overall mutation frequency 14 5 mutation spectrum comprises nonsense 35 missense 26 frameshift 26 frame deletions 3 splicing 10 mutations 24 platt et al preparation cases one tsc1 missense mutations tumour specific somatic events tsc1 gene 9q found mutated bladder tumours may therefore critical gene chromosome arm implicated 50 bladder tumours missense mutations tsc1 routinely confirmed functionally inactivating tsc disease though two recent reports provide evidence cases likely disease causing 25 26 sought determine whether tsc1 missense mutations identified bladder tumours constituted inactivating mutations anticipated discrete amino acid changes mutant proteins might allow identification functionally important residues wild type mutant tsc1 constructs retrovirally delivered tsc1 null bladder tumour cell lines functionally characterized somatic tsc1 missense mutations perturbed tsc1 function causing aberrant splicing protein instability protein mislocalization defects confirmed primary tumours rt pcr analysis mutant transcripts immunohistochemical analysis go results missense mutations tsc1 identified bladder tumours previously identified 8 mutations including 2 missense mutations series 62 bladder tumours 24 screening additional 92 tumours platt et al preparation identified additional 15 mutations 4 missense mutations total therefore 6 missense mutations identified 154 tumours representing 26 mutations found table 1 mutations determined tumour specific genotyping paired tumour blood samples 1250c thr417ile previously described germline tsc disease japanese patients confirmed causative tsc 27 28 1250c also identified laboratory patient constitutional dna tumour sample retained heterozygosity microsatellite markers tsc1 gene locus 24 threonine 417 previously identified site cdk1 dependent phosphorylation 29 determine biological significance variant 1250c thr417ile characterized alongside tumour specific missense mutations five six tumours tsc1 missense mutations showed loh markers tsc1 locus table 1 relationship mutation tumour stage grade missense mutations predominantly n terminal localize common functional domain fig 1 figure 1 figure 1 positions amino acid substitutions relation described functional domains hamartin table 1 table 1 tsc1 missense variants identified bladder tumours assess possible functional implications amino acid substitutions conservation missense mutant residues determined tsc1 orthologs his68 phe158 phe216 conserved among rattus mus drosophila fugu gallus orthologs his105 his206 thr417 differed drosophila shares 31 identity human tsc1 ser35 differed drosophila fugu gallus orthologs according blosum62 scoring matrix 30 his68arg his105arg substitutions considered conservative ser35cys his206asp thr417ile less conservative phe158cys phe216asp least conservative table 1 expression missense mutant tsc1 proteins tsc1 null urothelial cells anticipated missense mutations might lead loss function amino acid level thus initial approach express wild type missense mutant tsc1 cdnas tsc1 null bladder cell lines investigate function mutant proteins missense mutant proteins c terminally flag gfp tagged expressed 97 1 hcv29 cells characterized tsc2 binding activity mtor suppressive activity nutrient starved conditions expression mutant proteins investigated immunoblotting following retroviral transduction selection neomycin resistant mass cell populations expression levels mutant proteins markedly different ser35cys his105arg phe216asp thr417ile expressed high levels similar wild type protein whereas his68arg phe158cys much reduced his206asp detected fig 2a repeated independent infections two cell lines telomerase immortalized normal human urothelial cells tert nhuc assessment mass populations cells following selection resulted entirely reproducible expression levels mutant proteins data shown transcription missense rna confirmed real time rt pcr uniform levels wild type missense transcripts detected fig 2b consistently reduced absent protein expression his68arg phe158cys his206asp missense mutant forms despite presence rna expression suggested possible effects missense changes protein stability figure 2 figure 2 immunoblot showing levels wild type mutant tsc1 flag proteins endogenous tsc2 97 1 cell lines b measurement tsc1 rna levels real time rt pcr analysis wild type mutant tsc1 flag mrna transcript levels 97 1 cell mutant tsc1 proteins retain interaction tsc2 interaction tsc1 tsc2 appears important maintaining stability proteins tsc1 tsc2 binding specifically augments tsc2 expression limiting ubiquitination 31 32 tsc2 gap activity towards rheb defines tsc1 2 mediated control mtor signalling phosphorylation downstream effectors mtor constitutive refractory amino acid withdrawal cells lacking tsc1 tsc2 33 35 expressed missense mutant tsc1 proteins stabilized tsc2 levels 97 1 cells fig 2a co immunoprecipitated fig 3a however data cannot exclude minor effects interaction tsc2 stability figure 3 figure 3 immunoblot showing tsc1 tsc2 97 1 neo control flag tagged wild type mutant tsc1 cell line lysates immunoprecipitated anti tsc1 non specific mouse igm antibodies b immunoblot showing expression levels gfp tagged wild type his206asp flag undetected transduced 97 1 cells able achieve low level expression his206asp gfp hcv29 cells suggesting stabilizing effect gfp tag tsc2 co immunoprecipitation s6 phosphorylation assays accurately quantitative expression missense mutant proteins tsc1 null cells reduced s6 phosphorylation amino acid starved conditions relative vector alone fig 3b indicating none mutant forms tsc1 abolish interaction tsc2 aberrant rna splicing caused tsc1 missense mutations high level expression tsc2 binding activity tsc1 ser35cys his105arg phe216ala proteins suggested functional effect amino acid substitutions caused 104c g 314a g 648t missense mutations however expression proteins exogenous missense cdnas allow assessment possible effects mutations pre mrna level speculated tsc1 missense mutations may cause loss function introduction splicing errors mutant transcripts vivo therefore wild type missense mutant tsc1 pre mrna sequences screened effects mutations splice site definition using neural network algorithm http www fruitfly org seq tools splice html interestingly significant differences seen splice site scores wild type 104c g 314a g tsc1 transcripts 104c g mutation positioned 3 bp upstream tsc1 exon 3 4 junction resulted reduced exon 3 4 splice motif score 314a g mutation resulted introduction high scoring 5 donor splice site immediately upstream g transversion generation novel consensus splice motif differences splice site scores observed wild type 648t 1250c transcripts wild type mutant transcripts generated low exogenous protein expression examine splicing missense mutant tsc1 transcripts fragments spanning mutation site flanking intron exon junctions amplified respective tumour cdnas rt pcr sequenced rt pcr product reproducibly amplified cdna tumour containing 104c g showed increased electrophoretic mobility relative control fragment amplified tert nhuc cdna fig 4a sequencing tumour product revealed use cryptic 5 donor site exon 4 adjacent downstream exon 104c g mutant exon supplementary material fig s1 reduced splice motif score exon 3 4 junction shown effect exon 3 4 splicing translated 104c g mutant transcript would generate 26 new amino acids alternate reading frame truncate prematurely residue 79 figure 4 figure 4 semi quantitative rt pcr analysis tsc1 rna normal urothelial cells tsc1 mutant tumour samples showing increased electrophoretic mobility rt pcr products amplified cdna tumours containing tsc1 104c g faster migrating band also reproducibly amplified cdna tumour containing 314a g fig 4b compared control tert nhuc cdna sequence analysis pcr products revealed 50 nucleotide deletion transcript generated missense allele 314a g mutation created de novo 5 donor splice site immediately upstream 314a g resulted splicing 50 nucleotides 3 end exon 5 effect seen mrna level entirely consistent prediction made silico analysis translated 314a g mutant transcript expected generate two new c terminal amino acids truncate prematurely residue 107 exon skipping introduction de novo 5 splice site point mutation relatively well described mechanism aberrant pre mrna splicing 36 38 normal transcript amplified cdna tumours containing tsc1 104c g 314a g mutations suggesting splicing occurs via novel sites abundance missense transcripts appeared lower normal transcript semi quantitative rt pcr standardized hprt however real time rt pcr tsc1 transcript abundance relatively higher tumours tsc1 missense mutations causing transcript splicing protein stability defects uncultured cultured tert nhuc standardized sdha data shown missense mutant tsc1 proteins exhibit reduced protein stability demonstration consistently low level exogenous protein expression despite uniform mrna transcript abundance suggested diminished stability tsc1 his68arg phe158cys his206asp mutant proteins inhibiting protein synthesis cycloheximide determined his68arg phe158cys his206asp mutant proteins turned relatively faster wild type tsc1 proteasome dependent manner fig 5 b data shown moreover 35s labelling able show his68arg phe158cys his206asp proteins markedly shorter half lives wild type tsc1 fig 5c figure 5 figure 5 immunoblot showing turnover wild type s35c h68r missense tsc1 proteins cycloheximide chx treated cells cells cultured full growth medium supplemented 100 g ml chx dmso vehicle alone lysed time points phe216ala tsc1 protein shows altered localization previous studies described granular cytoplasmic localization endogenous tsc1 vitro vivo also overexpressed tsc1 cos 7 cells 39 41 localization monomeric tsc1 tsc1 complexed tsc2 likely influenced culture conditions given components akt mtor signalling cascade membrane localized activated addition tsc2 reported shuttle nucleus cell cycle phosphorylation dependent manner 42 44 anticipated characterization discrete missense amino acid changes may offer insight potentially mtor independent bladder specific functions tsc1 results indicated tsc1 104c g 203a g 314a g 473t g 616c g missense mutations cause loss function generic mechanisms altered message reduced protein stability however sequencing rt pcr products amplified cdna tumour containing tsc1 648t mutation showed altered splicing mutant transcript also protein level phe216ala expressed high levels similar wild type tsc1 substitution phenylalanine residue alanine residue constitutes loss high molecular weight hydrophobic benzyl group assigned non conservative 2 blosum62 score lack effect splicing protein stability raised possibility mutation may cause defect tsc1 protein function per se determined localization gfp tagged mutant proteins nutrient replete deficient conditions wild type phe216ala ser35cys his68arg thr417ile proteins compared complete growth medium wild type tsc1 ser35cys his68arg thr417ile mutant proteins showed diffuse punctate cytoplasmic distribution distinct cytoplasmic foci amino acid deficient medium proteins became localized almost exclusively large cytoplasmic bodies intriguingly phe216ala substitution markedly altered localization tsc1 phe216ala exclusively cytoplasmic diffuse full growth medium redistribute discrete bodies amino acid deficient conditions fig 6 however shown stabilize co immunoprecipitate endogenous tsc2 attenuate growth signalling mtor starved conditions fig 3b observations reproduced tsc1 transduced 97 1 hcv29 cell lines tert nhuc suggest localization tsc1 cytoplasmic foci requirement tsc2 binding negative regulation mtor also defective localization phe216ala likely tsc2 mtor independent possibly suggesting independent function tsc1 cytoplasmic foci figure 6 figure 6 localization wild type tsc1 tsc1 ser35cys b phe216ala c thr417ile mutant proteins amino acid starved 97 1 cells cells cultured full growth medium highly optically clear microscopy dishes sub confluence amino unlike five tumours missense mutations tumour containing tsc1 648t mutation show loh 9q confirmed analysis pure microdissected tumour cell populations data shown normal mutant alleles detected sequencing tumour cdna tsc1 protein expression bladder tumour tissues examine effects pre mrna splicing defects protein stability defects caused missense mutations tumour level tsc1 mutant wild type tumours screened expression tsc1 protein immunohistochemistry sensitivity specificity rabbit monoclonal anti tsc1 antibody confirmed staining paraffin embedded pellets tsc1 null hcv29 cells hcv29 wild type tsc1 expressed fig 7a normal ureter showed strong cytoplasmic tsc1 expression urothelium fig 7e tumours wild type tsc1 showed strong cytoplasmic staining fig 7f tumour tsc1 73 77 5 small deletion causing premature truncation residue 27 showed tsc1 expression fig 7c tumours homozygous tsc1 missense mutations causing pre mrna splicing defects negative tsc1 expression fig 7g h figure 7h shows normal urothelium strong tsc1 staining adjacent immunonegative tsc1 314a g mutant tumour cells 648t phe216ala mutant tumour showed moderate tsc1 expression consistent normal stability phe216ala protein retention chromosome 9q heterozygosity tumour fig 7i three missense mutations causing reduced protein stability tsc1 203a g 473t g 616c g tumour material available 616c g his206asp mutant sample 616c g mutation identified tumour material resected 2003 tsc1 expression shown low three tumour resections patient successive years fig 7j l figure 7 figure 7 tsc1 immunostaining hcv29 neo tsc1 cell pellets normal ureter negative b positive e antibody controls tsc1 73 77 5 c tsc1 wild type f bladder tumours tsc1 staining tsc1 missense mutant bladder go discussion demonstrated bladder tumour derived tsc1 missense mutations result loss tsc1 function occurs via distinct mechanisms overall tsc1 mutation frequency 14 5 found bladder cancer 24 platt et al preparation missense mutations comprise 26 mutations found date identification deleterious missense mutations bladder tumours indicates causative role loss tsc1 function via mechanism bladder tumorigenesis vast majority tsc1 mutations tsc disease predicted protein truncating nature significant genotype phenotype correlations observed 2 5 45 48 non chain terminating tsc1 mutations missense frame deletions rare tsc disease 27 47 49 50 www lovd nl tsc1 although missense mutations reported previously confirmed disease causing several revealed rare polymorphisms associated nonsense mutations patient 46 50 others disregarded potentially disease causing basis conservative amino acid changes characterized 27 51 however recent publication jansen et al 26 identified three missense mutations l916r m224r e412v affected individuals reported functional analyses two reported e412v affected rna splicing interestingly transfections constructs wild type tsc1 m224r variant latter showed lower levels protein expression unable completely suppress s6 phosphorylation results similar described missense variants reduced protein half life shown two six bladder tumour derived missense mutations result pre mrna splicing defects three lead reduced stability mutant proteins intriguingly one mutation causes tsc2 mtor independent localization defect mutant protein wild type tsc1 showed granular cytoplasmic distribution cells full growth medium became localized almost exclusively large cytoplasmic bodies amino acid starved cells contrast tsc1 cytoplasmic diffuse serum starved cells preliminary results indicated tsc1 bodies dynamic non aggresomal structures data shown interestingly phe216ala substitution abolished localization tsc1 bodies expected position outside recognized tsc2 binding domain tsc1 phe216ala retained tsc2 binding activity mtor suppressive activity amino acid starved conditions suggesting localization tsc1 cytoplasmic foci requirement tsc2 binding suppression mtor signalling may also suggest tsc1 separable function cytoplasmic foci independent tsc2 independent negative regulation mtor tsc1 tsc2 however clear whether formation intensely staining bodies conditions expression tsc1 tsc2 39 52 relevant normal physiological condition investigation function phe216ala required ideally levels expression closer normal tsc1 null cells expressing endogenous wild type tsc1 although missense variant 1250c t417i found patient germline patient showed symptoms tsc included variant analyses threonine 417 previously identified site cdk1 dependent phosphorylation 29 found evidence functional defect conclude represents rare polymorphism patient japanese tsc patients variant reported previously 27 28 rare variant may confined japanese population evidence suggests cis acting mutations affecting splicing tumour suppressor genes causal roles tumour initiation progression 53 predicted confirmed effects tsc related bladder tumour derived tsc1 missense changes pre mrna splicing reported underscore importance using rna based techniques together conventional mutation detection methods effectively identify disease causing mutations one mutations deleteriously affected splicing 104c g unexpected effect use cryptic 5 donor site adjacent downstream exon non conventional splicing event disease associated mutations splice junctions typically result skipping mutant exon 38 54 55 104c g mutation shown reduce exon 3 5 splice site motif score disrupt enhancer sequence spanning exon 3 4 104c g also disrupts u1 snrna binding motif spanning 5 splice site position 3 8 supplementary material fig s1 combination normally low scoring exon 4 3 acceptor site factors may result reduced splicing efficiency introns 3 4 spliceosome assembly directed juxtaposed splicing elements introns 4 5 splice first splicing machinery 3 acceptor site exon 4 may stimulate recruitment u1 snrna possible binding sites exon 4 result use cryptic 5 donor site bladder tumours tsc disease nonsense deletion frameshift tsc1 mutations result premature protein truncation loss protein function shown missense mutations cause loss function aberrant splicing reduced protein stability identification tumour specific tsc1 mutations context chromosome 9 loh argues strongly direct role loss tsc1 function aetiology tumours data consistent tsc1 acting tumour suppressor gene bladder cancer accordance knudsen two hit hypothesis biallelic inactivation tsc1 tsc2 may necessarily required tsc related tumours 9 discrepancy frequency tsc1 mutation frequency loh tsc1 gene region bladder tumours suggests haploinsufficiency tsc1 may contribute tumour development cases loh chromosome 9 particularly frequent event bladder cancer date tsc1 gene 9q found mutated bladder tumours contribution partial loss tsc1 clonal expansion tumour cells 9q loh unknown haploinsufficiency remains possibility bladder tumours 9q loh tsc1 mutation loh tsc1 locus may accompany another event driving loss chromosome 9 deletion cdkn2a locus 9p21 occurs 50 bladder tumours 56 57 yet unidentified chromosome 9 tumour suppressor gene may constitute driving force loss one copy tsc1 may therefore advantageous gratuitous hit passenger event 58 tsc cancer prone syndrome tsc lesions rarely progress malignancy tsc patients increased risk developing bladder cancer sporadic cancers may explained requirement cumulative genetic insults typically late onset malignant disease timing order initiating subsequent genetic events hamartoma bladder tumour development likely critical determining malignant potential tsc1 appears involved bladder cancer epithelial cancers unresolved question frequent loh 9q found tumour types including ovarian carcinoma gallbladder carcinoma nasopharyngeal carcinoma non small cell lung cancer 59 65 however reports tsc1 tsc2 mutation status sporadic tumours bladder mutations observed sporadic glial glioneuronal tumours renal cell carcinomas 66 67 fifty three 39 lung adenocarcinomas precursor lesions respectively found loh 9q 68 subsequently screen 47 lung adenocarcinomas identified three confirmed tsc1 mutations however loh mutations detected simultaneously 69 ovarian carcinoma gallbladder carcinoma nasopharyngeal carcinoma lung adenocarcinoma loh deletion described tsc gene regions 63 68 70 71 loss tsc1 2 complex function pathogenic effect loss tsc1 may expected bladder tumours would also show loss tsc2 function loh screen 16p detected loh markers tsc2 locus 16 bladder tumours platt et al preparation important screen mutations retained copy tsc2 cases loh determine whether also involvement tsc2 whether important independent role tsc1 urothelial cells abstract surveyed mutations tsc1 tsc2 38 25 sporadic 11 familial 2 unknown japanese patients tuberous sclerosis complex 23 38 subjects detected 18 new mutations addition 4 mutations previously reported also found 3 new polymorphisms mutations clustered particular exon either genes seven tsc1 mutations found 3 familial 4 sporadic cases exons 3 missense 2 nonsense point mutations 1 base insertion 2 bp deletion fifteen tsc2 mutations found 5 familial cases 10 sporadic cases 1 unknown case 12 mutations exons 8 missense 1 nonsense point mutations 1 bp insertion 5 bp deletion 4 bp replacement 3 point mutations exon intron junctions although patients tsc2 mutations tend exhibit relatively severe mental retardation comparison tsc1 mutations genotype phenotype correlation could yet established widespread distribution tsc1 tsc2 mutations hinders development simple diagnostic test identification individual mutations provide prediction prognosis key words tuberous sclerosis complex tsc1 gene tsc2 gene hamartin tuberin mutation introduction tuberous sclerosis complex tsc autosomal dominant disease estimated prevalence 1 10 000 caucasian population 1 31 000 japanese population ohno et al 1981 gomez 1988 multiple organs affected tsc including central nervous system mental retardation epilepsy skin facial angiofibroma shagreen patches hypopigmented macules periungual fibromas heart cardiac rhabdomyomas kidney cysts angiomyolipoma two causative genes tsc tsc1 hamartin located 9q34 consists 23 exons tsc2 tuberin located 16p13 3 consists 41 exons european chromosome 16 tuberous sclerosis consortium 1993 van slegtenhorst et al 1997 loss heterozygosity loh either tsc1 tsc2 affected tissues indicates act tumor suppressor green et al 1994 henske et al 1995 1996 sepp et al 1996 multiple isotypes tuberin generated alternative splicing two different exons exon 25 31 tsc2 xiao et al 1997 since identification tsc1 tsc2 genes mutations caucasian tsc patients extensively surveyed kumar et al 1995 b vrtel et al 1996 wilson et al 1996 bajek et al 1997 jones et al 1997 maheshwar et al 1997 van slegtenhorst et al 1997 au et al 1997 1998 mutations japanese tsc patients however remained unknown present study surveyed mutations japanese patients assessed relationship mutations clinical symptoms materials methods patients sample collection thirty eight 25 sporadic 11 familial 2 unknown japanese tsc patients clinically diagnosed according criteria gomez 1988 cases ultrasound renogra392 phy mri ct brain scan gave supportive evidence diagnosis genomic dnas prepared blood samples described nanba et al 1995 healthy japanese volunteer dna normal controls extracted nucleic acid purification system magextractor mfx 2000 toyobo osaka japan 100 l blood polymerase chain reaction single strand conformation polymorphism pcr sscp analysis coding exons tsc1 tsc2 analyzed every patient sets pcr primers 41 exons tsc2 designed based tsc2 sequence except primers exon 13 25 kindly obtained dr j r sampson university wales cardiff uk maheshwar et al 1996 table 1 primer information 21 coding exons tsc1 gene obtained dr hino department experimental pathology cancer institute tokyo japan dr j kwiatkowski brigham womens hospital boston usa except primers exon 9 cactgagttgacactctgaag ctgaactaagtcttactccag originally designed pcr contained 25ng genomic dna template 10pmol primer 0 25 dntp 0 1 unit ampli taq gold perkin elmer norwalk ct usa buffer total volume 5 l cycling conditions follows initial denaturation 95 c 10 min followed 30 cycles denaturation 95 c 1 min annealing 65 c 1min elongation 72 c 1min final extension 72 c 5min pcr products analyzed 1 5 agarose gel sscp analysis performed described orita et al 1989 yuasa et al 1997 using minigel 10 3 10 cm samples analyzed four different electrophoresis conditions combination two sets gel mixtures 12 polyacrylamide gel without 5 glycerol two temperature conditions 4 c 22 c table 1 primers tsc2 gene analysis exon product size bp 1 f aaggttatgcccaccagaga r agacacaggtagctcactca 296 2 f cactggcccctttttcttct r ctctagtagctcaactggat 150 3 f cttggagagcacatcctcac r cagcctgacgtcacccatcc 195 4 f ctgatcctgtggcttttgtc r agaaacctccaacccaaggt 199 5 f tcgcaaactgcgcgacttct r cagaacaggatctcaattct 173 6 f gactgagctcggtgctccct r tgaaatgggccggccctggg 109 7 f gaaggaggtgggaaggaag r catccatgtgctctcaggaa 278 8 f ctttgggaggagatggtgg r atgtgtgcgttggtaaggga 286 9 f cgtctctctggggaacactt r tcactgcacacagaaaccgc 176 10 f tgctggccgggctcgtgttc r tgctccccggagctcctgcc 198 11 f gcctgtgtcatcgtgcctgg r aaaggccccacccaggaggg 194 12 f caacaccggctcttcttttg r aggcaaggctacagaggacc 153 13a f gggctgtggcgggcactc r agaggtccggcagaccgaagtc 245 14 f ttggcctcccttgtgcctgt r gccccgggtacaacggctct 203 15 f gactcagaaccatgagcctg r aacagactccaacacaacgc 251 16 f cgtggtgagctgcgtcctct r actgcgtgcgcaaccccagc 178 17 f ggctttcaccatcctcttcc r tcatgggccgtgggcaggtc 160 18 f gcctcagctgcttctcttgc r aacgtgggacggatggtccc 216 19 f cctgacgcctcctctcctcg r cccaaccccaggccggcatg 185 20 f tcatgcctggatttggtcat r tcaagctcgcctgctctgac 187 21 f gggcctgaggtgtcctgtct r aggtgcagtgctgcagggcg 246 22 f ggctccctgaccacctctcc r acagggcctggggcgaccac 148 23 f gtgccagcccccttctcatc r acagccttcaccgccctgag 152 24 f tcactgtctgggtgtgctc r tgccctgcctcacatactc 260 25a f ccctccactggcttgttctcc r cgggcaagacgatgaggtcat b 26 f cctggtcacggcctctccct r ccagccctgtagtgccgcct 213 27 f ggtttcacgctccctgtctt r ggaggaaaggaaggtgcagt 200 28 f accctgtgcgtgggattctc r aggtggctggggccaaggct 163 29 f cctcatgcccgtcttcttc r agatggcgctcaggccac 267 30 f aaggtagtctgccgcctccg r ccaaggcccgccatgccact 251 31 f cgtcgacacggccttccctt r accgcttccctctgagaggc 118 32 f agcagccccgtctgtgtcct r gtccaggctctgagccacac 171 33 1f ctctttgggatggtcctttc 1r ctgtgaccgggccttaacct 275 33 2f cctggggacaaggccgacgt 2r cccgcccggaagcaagaggc 317 34 f ccaccatcccctccctgt r tagccagagccctctgcaa 206 35 f ctctggctaagctccctgt r tgagcacttcatgctgtagg 326 36 f gggagtgatgccaccctg r atgggagccgtgccctga b 37 f catccggccctgctcaccct r gcctcactgacggccctcac 187 38 f tgaccctttctcttgtccgg r tctgcactgcagccccaccc 131 39 40 f tggcgtgaccaccaagtctc r gctgaggagccccatattcc 325 41 f cagacttactgcccaagccgcct r ccccgcaccaagcagacaaa 342 data kindly provided dr j r sampson university wales uk b exact sizes pcr products known 393 sequencing variant bands reamplified subcloned pgemt vector promega madison wi usa dna sequences determined using thermo sequenase fluorescent labeled primer cycle sequencing kit amersham buckinghamshire england cy 5 labeled m13 universal reversal primers alfred automatic sequencer pharmacia biotech tokyo japan least ten independent clones pcr product sequenced directions sequence data analyzed genetyx computer software software development tokyo japan results sscp analysis total 25 variants detected sscp analysis fig 1 23 patients 60 total 38 patients seven variants tsc1 gene detected 3 familial cases 4 sporadic ones fifteen variants tsc2 gene detected 5 familial cases 10 sporadic cases one unknown case l574l tsc1 i531i tsc2 genes considered polymorphisms point mutations cause amino acid substitution m322t tsc1 detected normal controls 6 80 supposed represent polymorphism table 2a missense mutations detected 60 100 normal controls dna sample parents available except p28 mutations tsc1 gene two nonsense two frame shift three missense mutations located various exons gene two mutations r509x q654e three patients located exon 15 r509x found sporadic patient p26 familial patient p3 two mutations w676x t417i found one patient p31 mutations tsc2 gene one nonsense 3 frame shift 8 missense mutations identified 16 patients table 2b two single nucleotide substitutions 2760 1 1 g 5179 2 1 g exon intron junction predicted cause splicing error although substitution 5178 1 5 g intron consensus sequence splicing mutation located 5bp distant exon detected 100 normal controls mutation might cause splicing error l717r patient pulmonary tuberous sclerosis reported previously zhan et al 1999 v769e mutation p2 p21 r1459x mutation p6 p8 detected 2 unrelated sporadic patients two missense mutations h137r d647n fig 1 pcr sscp analysis tsc1 tsc2 genes arrows indicate aberrant bands found patients samples c control samples healthy subjects p patients samples 394 found patient p32 p1657l p28 confirmed de novo mutation examination parents samples clinical symptoms mutation types clinical symptoms gene mutations summarized table 3 number patients mental retardation 1 11 tsc2 significantly larger tsc1 2 5 4 8 p 5 0 0285 severity mental retardation patients tsc1 mutations appeared milder patients tsc2 mutations complete information renal cardiac involvements available could assessed none mutation types missense nonsense frame shift splicing appeared correlated specific clinical symptom particular r509x mutation tsc1 detected two patients severity mental retardation patients quite different discussion mutations given gene may screened various methods southern blot analysis sscp heteroduplex analysis protein truncation test rt pcr followed sscp kumar et al 1995a b vrtel et al 1996 wilson et al 1996 bajek et al 1997 jones et al 1997 maheshwar et al 1997 au et al 1997 1998 present study employed sscp survey mutations tsc1 tsc2 genes method simple enough cover multiple numbers exons increase mutation detection rate sscp used four electrophoresis conditions combination different sets temperature glycerol content gel mutation detection rate 60 23 38 comparable reports jones et al 1997 van slegtenhorst et al 1997 au et al 1998 several possible explanations failure detect tsc1 tsc2 mutations 15 patients first false negative one report showed sscp table 2a mutations tsc1 type nucleotide patient amino acid change location mutation alteration f 46 216phefs 216x exon 7 frame shift 866deltt f 11 311serfs 340x exon 10 frame shift 1210inst f 31 t417l exon 12 missense 1471 ctot 26 3 r509x b exon 15 nonsense 1746 ctot f 23 q654e b exon 15 missense 2181 ctog 31 w676x exon 16 nonsense 2249 gtoa 12 t899s exon 21 missense 2918 ctog 46 27 3 l574l exon 15 polymorphism 1947 ttoc 17 34 36 m322t exon 10 polymorphism 1186 ttoc table 2b mutations tsc2 type nucleotide patient mutation location mutation alteration f 32 h137r exon 4 missense 428 atog 48 238leufs 337x exon 7 frame shift 725 inst 30 f320l exon 9 missense 978 ttog 43 337glufs 351x exon 10 frame shift 1029gatcdel catggcat ins f 22 r611q c exon 16 missense 1850 gtoa f 47 597hisfs 614x exon 16 frame shift 1808delactac 32 d647n exon 17 missense 1957 atog 1 l717r exon 19 missense 2168 ttog 21 2 v769e exon 20 missense 2324 ttoa f 33 intron 24 splicing 2760 1 1 gtoa 27 v963m exon 25 missense 2905 gtoa 6 8 r1459x exon 33 nonsense 4393 ctot 28 p1657l exon 38 missense 5042 ctot 24 intron 39 splicing 5178 1 5 gtoa f 41 intron 39 splicing 5179 2 1 gtot f 33 1531l exon 14 polymorphism 1611 ctot sporadic f familial initiator atg begins base 222 tsc1 base 19 tsc2 original amino acid position protein numbered initiator met 1 followed new amino acid missense mutations x nonsense mutation b identical change reported van slegtenhorst et al 1997 c identical change reported wilson et al 1996 identical change reported maheshwar et al 1997 395 method detect point mutation 250 bp dna fragment 63 effective sheffield et al 1993 second may true negative cases mutation lies outside coding sequence either 59 regulatory elements within intronic sequences 39 utr addition large scale rearrangement genomic dna may yield true negative results sscp coding exons although report large scale mutation tsc1 indeed tsc2 jones et al 1997 european chromosome 16 tuberous sclerosis consortium 1993 au et al 1997 van slegtenhorst et al 1997 mutation surveys tsc1 tsc2 genes caucasian tsc patients revealed clustering mutation either gene wilson et al 1996 jones et al 1997 van slegtenhorst et al 1997 au et al 1998 accordance previous findings 22 mutations 18 new 4 reported found study distributed various exons clustering mutations accordance previous findings obvious relationship type location mutation clinical symptoms however patients tsc2 mutations appeared severe mental retardation compared patients tsc1 mutations tendency noted jones et al 1997 therefore least clear clinical phenotype cannot predicted genotype heterogeneity mutations also appears impossible present develop simple diagnostic test tsc acknowledgements thank dr satoko kumada dr akira uchiyama tokyo metropolitan fuchu ryoiku center dr youich sakakihara dr hidekazu takeshita departement pediatrics graduate school medicine university tokyo dr khotaro table 3 clinical data mutation detected patients patient mental white subependymal number age sex retardation af macules nodules seizures f mutations location mutation 46 9 1 2 1 1 1 f frame shift tsc1 exon 7 11 7 f 6 1 1 1 1 f frame shift tsc1 exon 10 31 8 f 1 n 1 1 1 missense nonsense tsc1 exon 12 tsc1 exon 16 3 32 f 11 n n n n nonsense tsc1 exon 15 26 21 2 2 1 1 2 f nonsense tsc1 exon 15 23 21 1 2 1 1 1 missense tsc1 exon 15 12 32 f 2 1 1 1 1 missense tsc1 exon 21 32 2 n n 1 1 1 missenses tsc2 exon 4 tsc2 exon 17 48 24 11 1 1 1 1 frame shift tsc2 exon 7 30 nd nd n n n n n n missense tsc2 exon 9 43 8 11 1 1 1 1 f frame shift tsc2 exon 10 22 6 f 2 2 1 1 1 f missense tsc2 exon 16 47 6 f 1 1 1 1 1 frame shift tsc2 exon 16 1 17 f 2 1 1 1 1 missense tsc2 exon 19 21 44 f 11 1 1 n 1 f missense tsc2 exon 20 2 32 11 1 1 1 1 missense tsc2 exon 20 33 48 11 n n n 1 splicing tsc2 intron 24 27 13 2 2 1 1 1 f missense tsc2 exon 25 6 8 11 n n n n f nonsense tsc2 exon 33 8 9 f 11 1 1 1 1 nonsense tsc2 exon 33 28 3 f 1 n 1 1 1 missense tsc2 exon 38 24 12 2 2 1 1 1 f splicing tsc2 intron 39 41 7 2 1 1 1 1 f splicing tsc2 intron 39 n information available af angiofibroma sporadic f familial izumi dr masahiro nakagawa third department internal medicine faculty medicine kagoshima university dr ryutaro kira department pediatrics kyushu university dr hitoshi sejima department pediatrics shimane medical university dr masahito miyazaki department pediatrics school medicine tokushima university dr akira kuramochi department dermatology saitama medical school dr sadahisa ohta department neurosurgery tokyo medical dental university collecting samples tsc patients work supported ministry health welfare japan special grant neurocutaneous disease ministry education science sport culture japan grant aid scientific research twenty seven japanese patients tuberous sclerosis complex tsc consisting 23 sporadic 4 familial cases tested mutations tsc1 tsc2 genes using single strand conformational polymorphism analysis direct sequencing four possible pathogenic mutations found tsc1 gene including three frame shifts nonsense mutation familial case mutations expected result truncated hamartin gene product tsc2 gene analysis identified six possible pathogenic mutations sporadic cases including two frame shifts one frame deletion three missense mutations two tsc2 mutations expected result truncated tuberin gene product results japanese tsc patients compatible reports europe united states e 1 tsc1 mutations rarer sporadic cases familial cases 2 substantial numbers sporadic cases arise mutations tsc2 gene 3 mutations tsc1 gene may cause premature truncation hamartin \"\n        ],\n        \"semantic_type\": \"\",\n        \"description\": \"\"\n      }\n    }\n  ]\n}"
            }
          },
          "metadata": {},
          "execution_count": 11
        }
      ]
    },
    {
      "cell_type": "code",
      "metadata": {
        "id": "z4ITDIVDOQvQ",
        "colab": {
          "base_uri": "https://localhost:8080/",
          "height": 206
        },
        "outputId": "5d4d18e2-c7ea-4c0a-f964-7f6bcbe8cda3"
      },
      "source": [
        "result[result.isnull().any(axis=1)]"
      ],
      "execution_count": 12,
      "outputs": [
        {
          "output_type": "execute_result",
          "data": {
            "text/plain": [
              "        ID    Gene             Variation  Class TEXT\n",
              "1109  1109   FANCA                S1088F      1  NaN\n",
              "1277  1277  ARID5B  Truncating Mutations      1  NaN\n",
              "1407  1407   FGFR3                 K508M      6  NaN\n",
              "1639  1639    FLT1         Amplification      6  NaN\n",
              "2755  2755    BRAF                 G596C      7  NaN"
            ],
            "text/html": [
              "\n",
              "  <div id=\"df-40ab0915-9721-4900-8e9f-d0d2e1bbe0b1\" class=\"colab-df-container\">\n",
              "    <div>\n",
              "<style scoped>\n",
              "    .dataframe tbody tr th:only-of-type {\n",
              "        vertical-align: middle;\n",
              "    }\n",
              "\n",
              "    .dataframe tbody tr th {\n",
              "        vertical-align: top;\n",
              "    }\n",
              "\n",
              "    .dataframe thead th {\n",
              "        text-align: right;\n",
              "    }\n",
              "</style>\n",
              "<table border=\"1\" class=\"dataframe\">\n",
              "  <thead>\n",
              "    <tr style=\"text-align: right;\">\n",
              "      <th></th>\n",
              "      <th>ID</th>\n",
              "      <th>Gene</th>\n",
              "      <th>Variation</th>\n",
              "      <th>Class</th>\n",
              "      <th>TEXT</th>\n",
              "    </tr>\n",
              "  </thead>\n",
              "  <tbody>\n",
              "    <tr>\n",
              "      <th>1109</th>\n",
              "      <td>1109</td>\n",
              "      <td>FANCA</td>\n",
              "      <td>S1088F</td>\n",
              "      <td>1</td>\n",
              "      <td>NaN</td>\n",
              "    </tr>\n",
              "    <tr>\n",
              "      <th>1277</th>\n",
              "      <td>1277</td>\n",
              "      <td>ARID5B</td>\n",
              "      <td>Truncating Mutations</td>\n",
              "      <td>1</td>\n",
              "      <td>NaN</td>\n",
              "    </tr>\n",
              "    <tr>\n",
              "      <th>1407</th>\n",
              "      <td>1407</td>\n",
              "      <td>FGFR3</td>\n",
              "      <td>K508M</td>\n",
              "      <td>6</td>\n",
              "      <td>NaN</td>\n",
              "    </tr>\n",
              "    <tr>\n",
              "      <th>1639</th>\n",
              "      <td>1639</td>\n",
              "      <td>FLT1</td>\n",
              "      <td>Amplification</td>\n",
              "      <td>6</td>\n",
              "      <td>NaN</td>\n",
              "    </tr>\n",
              "    <tr>\n",
              "      <th>2755</th>\n",
              "      <td>2755</td>\n",
              "      <td>BRAF</td>\n",
              "      <td>G596C</td>\n",
              "      <td>7</td>\n",
              "      <td>NaN</td>\n",
              "    </tr>\n",
              "  </tbody>\n",
              "</table>\n",
              "</div>\n",
              "    <div class=\"colab-df-buttons\">\n",
              "\n",
              "  <div class=\"colab-df-container\">\n",
              "    <button class=\"colab-df-convert\" onclick=\"convertToInteractive('df-40ab0915-9721-4900-8e9f-d0d2e1bbe0b1')\"\n",
              "            title=\"Convert this dataframe to an interactive table.\"\n",
              "            style=\"display:none;\">\n",
              "\n",
              "  <svg xmlns=\"http://www.w3.org/2000/svg\" height=\"24px\" viewBox=\"0 -960 960 960\">\n",
              "    <path d=\"M120-120v-720h720v720H120Zm60-500h600v-160H180v160Zm220 220h160v-160H400v160Zm0 220h160v-160H400v160ZM180-400h160v-160H180v160Zm440 0h160v-160H620v160ZM180-180h160v-160H180v160Zm440 0h160v-160H620v160Z\"/>\n",
              "  </svg>\n",
              "    </button>\n",
              "\n",
              "  <style>\n",
              "    .colab-df-container {\n",
              "      display:flex;\n",
              "      gap: 12px;\n",
              "    }\n",
              "\n",
              "    .colab-df-convert {\n",
              "      background-color: #E8F0FE;\n",
              "      border: none;\n",
              "      border-radius: 50%;\n",
              "      cursor: pointer;\n",
              "      display: none;\n",
              "      fill: #1967D2;\n",
              "      height: 32px;\n",
              "      padding: 0 0 0 0;\n",
              "      width: 32px;\n",
              "    }\n",
              "\n",
              "    .colab-df-convert:hover {\n",
              "      background-color: #E2EBFA;\n",
              "      box-shadow: 0px 1px 2px rgba(60, 64, 67, 0.3), 0px 1px 3px 1px rgba(60, 64, 67, 0.15);\n",
              "      fill: #174EA6;\n",
              "    }\n",
              "\n",
              "    .colab-df-buttons div {\n",
              "      margin-bottom: 4px;\n",
              "    }\n",
              "\n",
              "    [theme=dark] .colab-df-convert {\n",
              "      background-color: #3B4455;\n",
              "      fill: #D2E3FC;\n",
              "    }\n",
              "\n",
              "    [theme=dark] .colab-df-convert:hover {\n",
              "      background-color: #434B5C;\n",
              "      box-shadow: 0px 1px 3px 1px rgba(0, 0, 0, 0.15);\n",
              "      filter: drop-shadow(0px 1px 2px rgba(0, 0, 0, 0.3));\n",
              "      fill: #FFFFFF;\n",
              "    }\n",
              "  </style>\n",
              "\n",
              "    <script>\n",
              "      const buttonEl =\n",
              "        document.querySelector('#df-40ab0915-9721-4900-8e9f-d0d2e1bbe0b1 button.colab-df-convert');\n",
              "      buttonEl.style.display =\n",
              "        google.colab.kernel.accessAllowed ? 'block' : 'none';\n",
              "\n",
              "      async function convertToInteractive(key) {\n",
              "        const element = document.querySelector('#df-40ab0915-9721-4900-8e9f-d0d2e1bbe0b1');\n",
              "        const dataTable =\n",
              "          await google.colab.kernel.invokeFunction('convertToInteractive',\n",
              "                                                    [key], {});\n",
              "        if (!dataTable) return;\n",
              "\n",
              "        const docLinkHtml = 'Like what you see? Visit the ' +\n",
              "          '<a target=\"_blank\" href=https://colab.research.google.com/notebooks/data_table.ipynb>data table notebook</a>'\n",
              "          + ' to learn more about interactive tables.';\n",
              "        element.innerHTML = '';\n",
              "        dataTable['output_type'] = 'display_data';\n",
              "        await google.colab.output.renderOutput(dataTable, element);\n",
              "        const docLink = document.createElement('div');\n",
              "        docLink.innerHTML = docLinkHtml;\n",
              "        element.appendChild(docLink);\n",
              "      }\n",
              "    </script>\n",
              "  </div>\n",
              "\n",
              "\n",
              "<div id=\"df-84cc8ae2-900b-4725-836d-4048451b6482\">\n",
              "  <button class=\"colab-df-quickchart\" onclick=\"quickchart('df-84cc8ae2-900b-4725-836d-4048451b6482')\"\n",
              "            title=\"Suggest charts\"\n",
              "            style=\"display:none;\">\n",
              "\n",
              "<svg xmlns=\"http://www.w3.org/2000/svg\" height=\"24px\"viewBox=\"0 0 24 24\"\n",
              "     width=\"24px\">\n",
              "    <g>\n",
              "        <path d=\"M19 3H5c-1.1 0-2 .9-2 2v14c0 1.1.9 2 2 2h14c1.1 0 2-.9 2-2V5c0-1.1-.9-2-2-2zM9 17H7v-7h2v7zm4 0h-2V7h2v10zm4 0h-2v-4h2v4z\"/>\n",
              "    </g>\n",
              "</svg>\n",
              "  </button>\n",
              "\n",
              "<style>\n",
              "  .colab-df-quickchart {\n",
              "      --bg-color: #E8F0FE;\n",
              "      --fill-color: #1967D2;\n",
              "      --hover-bg-color: #E2EBFA;\n",
              "      --hover-fill-color: #174EA6;\n",
              "      --disabled-fill-color: #AAA;\n",
              "      --disabled-bg-color: #DDD;\n",
              "  }\n",
              "\n",
              "  [theme=dark] .colab-df-quickchart {\n",
              "      --bg-color: #3B4455;\n",
              "      --fill-color: #D2E3FC;\n",
              "      --hover-bg-color: #434B5C;\n",
              "      --hover-fill-color: #FFFFFF;\n",
              "      --disabled-bg-color: #3B4455;\n",
              "      --disabled-fill-color: #666;\n",
              "  }\n",
              "\n",
              "  .colab-df-quickchart {\n",
              "    background-color: var(--bg-color);\n",
              "    border: none;\n",
              "    border-radius: 50%;\n",
              "    cursor: pointer;\n",
              "    display: none;\n",
              "    fill: var(--fill-color);\n",
              "    height: 32px;\n",
              "    padding: 0;\n",
              "    width: 32px;\n",
              "  }\n",
              "\n",
              "  .colab-df-quickchart:hover {\n",
              "    background-color: var(--hover-bg-color);\n",
              "    box-shadow: 0 1px 2px rgba(60, 64, 67, 0.3), 0 1px 3px 1px rgba(60, 64, 67, 0.15);\n",
              "    fill: var(--button-hover-fill-color);\n",
              "  }\n",
              "\n",
              "  .colab-df-quickchart-complete:disabled,\n",
              "  .colab-df-quickchart-complete:disabled:hover {\n",
              "    background-color: var(--disabled-bg-color);\n",
              "    fill: var(--disabled-fill-color);\n",
              "    box-shadow: none;\n",
              "  }\n",
              "\n",
              "  .colab-df-spinner {\n",
              "    border: 2px solid var(--fill-color);\n",
              "    border-color: transparent;\n",
              "    border-bottom-color: var(--fill-color);\n",
              "    animation:\n",
              "      spin 1s steps(1) infinite;\n",
              "  }\n",
              "\n",
              "  @keyframes spin {\n",
              "    0% {\n",
              "      border-color: transparent;\n",
              "      border-bottom-color: var(--fill-color);\n",
              "      border-left-color: var(--fill-color);\n",
              "    }\n",
              "    20% {\n",
              "      border-color: transparent;\n",
              "      border-left-color: var(--fill-color);\n",
              "      border-top-color: var(--fill-color);\n",
              "    }\n",
              "    30% {\n",
              "      border-color: transparent;\n",
              "      border-left-color: var(--fill-color);\n",
              "      border-top-color: var(--fill-color);\n",
              "      border-right-color: var(--fill-color);\n",
              "    }\n",
              "    40% {\n",
              "      border-color: transparent;\n",
              "      border-right-color: var(--fill-color);\n",
              "      border-top-color: var(--fill-color);\n",
              "    }\n",
              "    60% {\n",
              "      border-color: transparent;\n",
              "      border-right-color: var(--fill-color);\n",
              "    }\n",
              "    80% {\n",
              "      border-color: transparent;\n",
              "      border-right-color: var(--fill-color);\n",
              "      border-bottom-color: var(--fill-color);\n",
              "    }\n",
              "    90% {\n",
              "      border-color: transparent;\n",
              "      border-bottom-color: var(--fill-color);\n",
              "    }\n",
              "  }\n",
              "</style>\n",
              "\n",
              "  <script>\n",
              "    async function quickchart(key) {\n",
              "      const quickchartButtonEl =\n",
              "        document.querySelector('#' + key + ' button');\n",
              "      quickchartButtonEl.disabled = true;  // To prevent multiple clicks.\n",
              "      quickchartButtonEl.classList.add('colab-df-spinner');\n",
              "      try {\n",
              "        const charts = await google.colab.kernel.invokeFunction(\n",
              "            'suggestCharts', [key], {});\n",
              "      } catch (error) {\n",
              "        console.error('Error during call to suggestCharts:', error);\n",
              "      }\n",
              "      quickchartButtonEl.classList.remove('colab-df-spinner');\n",
              "      quickchartButtonEl.classList.add('colab-df-quickchart-complete');\n",
              "    }\n",
              "    (() => {\n",
              "      let quickchartButtonEl =\n",
              "        document.querySelector('#df-84cc8ae2-900b-4725-836d-4048451b6482 button');\n",
              "      quickchartButtonEl.style.display =\n",
              "        google.colab.kernel.accessAllowed ? 'block' : 'none';\n",
              "    })();\n",
              "  </script>\n",
              "</div>\n",
              "\n",
              "    </div>\n",
              "  </div>\n"
            ],
            "application/vnd.google.colaboratory.intrinsic+json": {
              "type": "dataframe",
              "repr_error": "0"
            }
          },
          "metadata": {},
          "execution_count": 12
        }
      ]
    },
    {
      "cell_type": "code",
      "metadata": {
        "id": "co1v4XZ7OQvU"
      },
      "source": [
        "result.loc[result['TEXT'].isnull(),'TEXT'] = result['Gene'] +' '+result['Variation']"
      ],
      "execution_count": 13,
      "outputs": []
    },
    {
      "cell_type": "code",
      "metadata": {
        "id": "TEzTARDBOQvX",
        "colab": {
          "base_uri": "https://localhost:8080/",
          "height": 81
        },
        "outputId": "522e7f92-d33b-4595-ee52-de918504238a"
      },
      "source": [
        "result[result['ID']==1109]"
      ],
      "execution_count": 14,
      "outputs": [
        {
          "output_type": "execute_result",
          "data": {
            "text/plain": [
              "        ID   Gene Variation  Class          TEXT\n",
              "1109  1109  FANCA    S1088F      1  FANCA S1088F"
            ],
            "text/html": [
              "\n",
              "  <div id=\"df-82cd70d1-e608-4733-96e9-a8fb2633300c\" class=\"colab-df-container\">\n",
              "    <div>\n",
              "<style scoped>\n",
              "    .dataframe tbody tr th:only-of-type {\n",
              "        vertical-align: middle;\n",
              "    }\n",
              "\n",
              "    .dataframe tbody tr th {\n",
              "        vertical-align: top;\n",
              "    }\n",
              "\n",
              "    .dataframe thead th {\n",
              "        text-align: right;\n",
              "    }\n",
              "</style>\n",
              "<table border=\"1\" class=\"dataframe\">\n",
              "  <thead>\n",
              "    <tr style=\"text-align: right;\">\n",
              "      <th></th>\n",
              "      <th>ID</th>\n",
              "      <th>Gene</th>\n",
              "      <th>Variation</th>\n",
              "      <th>Class</th>\n",
              "      <th>TEXT</th>\n",
              "    </tr>\n",
              "  </thead>\n",
              "  <tbody>\n",
              "    <tr>\n",
              "      <th>1109</th>\n",
              "      <td>1109</td>\n",
              "      <td>FANCA</td>\n",
              "      <td>S1088F</td>\n",
              "      <td>1</td>\n",
              "      <td>FANCA S1088F</td>\n",
              "    </tr>\n",
              "  </tbody>\n",
              "</table>\n",
              "</div>\n",
              "    <div class=\"colab-df-buttons\">\n",
              "\n",
              "  <div class=\"colab-df-container\">\n",
              "    <button class=\"colab-df-convert\" onclick=\"convertToInteractive('df-82cd70d1-e608-4733-96e9-a8fb2633300c')\"\n",
              "            title=\"Convert this dataframe to an interactive table.\"\n",
              "            style=\"display:none;\">\n",
              "\n",
              "  <svg xmlns=\"http://www.w3.org/2000/svg\" height=\"24px\" viewBox=\"0 -960 960 960\">\n",
              "    <path d=\"M120-120v-720h720v720H120Zm60-500h600v-160H180v160Zm220 220h160v-160H400v160Zm0 220h160v-160H400v160ZM180-400h160v-160H180v160Zm440 0h160v-160H620v160ZM180-180h160v-160H180v160Zm440 0h160v-160H620v160Z\"/>\n",
              "  </svg>\n",
              "    </button>\n",
              "\n",
              "  <style>\n",
              "    .colab-df-container {\n",
              "      display:flex;\n",
              "      gap: 12px;\n",
              "    }\n",
              "\n",
              "    .colab-df-convert {\n",
              "      background-color: #E8F0FE;\n",
              "      border: none;\n",
              "      border-radius: 50%;\n",
              "      cursor: pointer;\n",
              "      display: none;\n",
              "      fill: #1967D2;\n",
              "      height: 32px;\n",
              "      padding: 0 0 0 0;\n",
              "      width: 32px;\n",
              "    }\n",
              "\n",
              "    .colab-df-convert:hover {\n",
              "      background-color: #E2EBFA;\n",
              "      box-shadow: 0px 1px 2px rgba(60, 64, 67, 0.3), 0px 1px 3px 1px rgba(60, 64, 67, 0.15);\n",
              "      fill: #174EA6;\n",
              "    }\n",
              "\n",
              "    .colab-df-buttons div {\n",
              "      margin-bottom: 4px;\n",
              "    }\n",
              "\n",
              "    [theme=dark] .colab-df-convert {\n",
              "      background-color: #3B4455;\n",
              "      fill: #D2E3FC;\n",
              "    }\n",
              "\n",
              "    [theme=dark] .colab-df-convert:hover {\n",
              "      background-color: #434B5C;\n",
              "      box-shadow: 0px 1px 3px 1px rgba(0, 0, 0, 0.15);\n",
              "      filter: drop-shadow(0px 1px 2px rgba(0, 0, 0, 0.3));\n",
              "      fill: #FFFFFF;\n",
              "    }\n",
              "  </style>\n",
              "\n",
              "    <script>\n",
              "      const buttonEl =\n",
              "        document.querySelector('#df-82cd70d1-e608-4733-96e9-a8fb2633300c button.colab-df-convert');\n",
              "      buttonEl.style.display =\n",
              "        google.colab.kernel.accessAllowed ? 'block' : 'none';\n",
              "\n",
              "      async function convertToInteractive(key) {\n",
              "        const element = document.querySelector('#df-82cd70d1-e608-4733-96e9-a8fb2633300c');\n",
              "        const dataTable =\n",
              "          await google.colab.kernel.invokeFunction('convertToInteractive',\n",
              "                                                    [key], {});\n",
              "        if (!dataTable) return;\n",
              "\n",
              "        const docLinkHtml = 'Like what you see? Visit the ' +\n",
              "          '<a target=\"_blank\" href=https://colab.research.google.com/notebooks/data_table.ipynb>data table notebook</a>'\n",
              "          + ' to learn more about interactive tables.';\n",
              "        element.innerHTML = '';\n",
              "        dataTable['output_type'] = 'display_data';\n",
              "        await google.colab.output.renderOutput(dataTable, element);\n",
              "        const docLink = document.createElement('div');\n",
              "        docLink.innerHTML = docLinkHtml;\n",
              "        element.appendChild(docLink);\n",
              "      }\n",
              "    </script>\n",
              "  </div>\n",
              "\n",
              "\n",
              "    </div>\n",
              "  </div>\n"
            ],
            "application/vnd.google.colaboratory.intrinsic+json": {
              "type": "dataframe",
              "summary": "{\n  \"name\": \"result[result['ID']==1109]\",\n  \"rows\": 1,\n  \"fields\": [\n    {\n      \"column\": \"ID\",\n      \"properties\": {\n        \"dtype\": \"number\",\n        \"std\": null,\n        \"min\": 1109,\n        \"max\": 1109,\n        \"num_unique_values\": 1,\n        \"samples\": [\n          1109\n        ],\n        \"semantic_type\": \"\",\n        \"description\": \"\"\n      }\n    },\n    {\n      \"column\": \"Gene\",\n      \"properties\": {\n        \"dtype\": \"string\",\n        \"num_unique_values\": 1,\n        \"samples\": [\n          \"FANCA\"\n        ],\n        \"semantic_type\": \"\",\n        \"description\": \"\"\n      }\n    },\n    {\n      \"column\": \"Variation\",\n      \"properties\": {\n        \"dtype\": \"string\",\n        \"num_unique_values\": 1,\n        \"samples\": [\n          \"S1088F\"\n        ],\n        \"semantic_type\": \"\",\n        \"description\": \"\"\n      }\n    },\n    {\n      \"column\": \"Class\",\n      \"properties\": {\n        \"dtype\": \"number\",\n        \"std\": null,\n        \"min\": 1,\n        \"max\": 1,\n        \"num_unique_values\": 1,\n        \"samples\": [\n          1\n        ],\n        \"semantic_type\": \"\",\n        \"description\": \"\"\n      }\n    },\n    {\n      \"column\": \"TEXT\",\n      \"properties\": {\n        \"dtype\": \"string\",\n        \"num_unique_values\": 1,\n        \"samples\": [\n          \"FANCA S1088F\"\n        ],\n        \"semantic_type\": \"\",\n        \"description\": \"\"\n      }\n    }\n  ]\n}"
            }
          },
          "metadata": {},
          "execution_count": 14
        }
      ]
    },
    {
      "cell_type": "markdown",
      "metadata": {
        "id": "4ha0M1aOOQvg"
      },
      "source": [
        "<h3>Test, Train and Cross Validation Split</h3>"
      ]
    },
    {
      "cell_type": "markdown",
      "metadata": {
        "id": "Mb_GBIh1OQvi"
      },
      "source": [
        "<h4>Splitting data into train, test and cross validation (64:20:16)</h4>"
      ]
    },
    {
      "cell_type": "code",
      "metadata": {
        "id": "ijj-MmMwOQvk"
      },
      "source": [
        "y_true = result['Class'].values\n",
        "result.Gene      = result.Gene.str.replace('\\s+', '_')\n",
        "result.Variation = result.Variation.str.replace('\\s+', '_')\n",
        "\n",
        "# split the data into test and train by maintaining same distribution of output varaible 'y_true' [stratify=y_true]\n",
        "X_train, test_df, y_train, y_test = train_test_split(result, y_true, stratify=y_true, test_size=0.2)\n",
        "# split the train data into train and cross validation by maintaining same distribution of output varaible 'y_train' [stratify=y_train]\n",
        "train_df, cv_df, y_train, y_cv = train_test_split(X_train, y_train, stratify=y_train, test_size=0.2)"
      ],
      "execution_count": 15,
      "outputs": []
    },
    {
      "cell_type": "markdown",
      "metadata": {
        "id": "oWPLX4M9OQvo"
      },
      "source": [
        "<p> We split the data into train, test and cross validation data sets, preserving the ratio of class distribution in the original data set  </p>"
      ]
    },
    {
      "cell_type": "code",
      "metadata": {
        "id": "wbzQMYZWOQvp",
        "colab": {
          "base_uri": "https://localhost:8080/"
        },
        "outputId": "2f83aa29-3c86-4d16-8916-471980793fd7"
      },
      "source": [
        "print('Number of data points in train data:', train_df.shape[0])\n",
        "print('Number of data points in test data:', test_df.shape[0])\n",
        "print('Number of data points in cross validation data:', cv_df.shape[0])"
      ],
      "execution_count": 16,
      "outputs": [
        {
          "output_type": "stream",
          "name": "stdout",
          "text": [
            "Number of data points in train data: 2124\n",
            "Number of data points in test data: 665\n",
            "Number of data points in cross validation data: 532\n"
          ]
        }
      ]
    },
    {
      "cell_type": "markdown",
      "metadata": {
        "id": "NQeo-HuDOQvs"
      },
      "source": [
        "<h4> Distribution of y_i's in Train, Test and Cross Validation datasets</h4>"
      ]
    },
    {
      "cell_type": "code",
      "metadata": {
        "id": "KC3KErJmOQvt",
        "colab": {
          "base_uri": "https://localhost:8080/"
        },
        "outputId": "a5d03bb0-3049-498d-b331-930ea7bc156f"
      },
      "source": [
        "# it returns a dict, keys as class labels and values as the number of data points in that class\n",
        "train_class_distribution = train_df['Class'].value_counts().sort_index()\n",
        "test_class_distribution = test_df['Class'].value_counts().sort_index()\n",
        "cv_class_distribution = cv_df['Class'].value_counts().sort_index()\n",
        "\n",
        "print(\"Distribution of class labels in Train Data:\\n\")\n",
        "sorted_yi = np.argsort(-train_class_distribution.values)\n",
        "for i in sorted_yi:\n",
        "    print('Number of data points in class', i+1, ':',train_class_distribution.values[i], '(', np.round((train_class_distribution.values[i]/train_df.shape[0]*100), 3), '%)')\n",
        "\n",
        "print(\"-\"*8)\n",
        "print(\"Distribution of class labels in Test Data:\\n\")\n",
        "sorted_yi = np.argsort(-test_class_distribution.values)\n",
        "for i in sorted_yi:\n",
        "    print('Number of data points in class', i+1, ':',test_class_distribution.values[i], '(', np.round((test_class_distribution.values[i]/test_df.shape[0]*100), 3), '%)')\n",
        "\n",
        "print(\"-\"*8)\n",
        "print(\"Distribution of class labels in CV Data:\\n\")\n",
        "sorted_yi = np.argsort(-train_class_distribution.values)\n",
        "for i in sorted_yi:\n",
        "    print('Number of data points in class', i+1, ':',cv_class_distribution.values[i], '(', np.round((cv_class_distribution.values[i]/cv_df.shape[0]*100), 3), '%)')\n"
      ],
      "execution_count": 17,
      "outputs": [
        {
          "output_type": "stream",
          "name": "stdout",
          "text": [
            "Distribution of class labels in Train Data:\n",
            "\n",
            "Number of data points in class 7 : 609 ( 28.672 %)\n",
            "Number of data points in class 4 : 439 ( 20.669 %)\n",
            "Number of data points in class 1 : 363 ( 17.09 %)\n",
            "Number of data points in class 2 : 289 ( 13.606 %)\n",
            "Number of data points in class 6 : 176 ( 8.286 %)\n",
            "Number of data points in class 5 : 155 ( 7.298 %)\n",
            "Number of data points in class 3 : 57 ( 2.684 %)\n",
            "Number of data points in class 9 : 24 ( 1.13 %)\n",
            "Number of data points in class 8 : 12 ( 0.565 %)\n",
            "--------\n",
            "Distribution of class labels in Test Data:\n",
            "\n",
            "Number of data points in class 7 : 191 ( 28.722 %)\n",
            "Number of data points in class 4 : 137 ( 20.602 %)\n",
            "Number of data points in class 1 : 114 ( 17.143 %)\n",
            "Number of data points in class 2 : 91 ( 13.684 %)\n",
            "Number of data points in class 6 : 55 ( 8.271 %)\n",
            "Number of data points in class 5 : 48 ( 7.218 %)\n",
            "Number of data points in class 3 : 18 ( 2.707 %)\n",
            "Number of data points in class 9 : 7 ( 1.053 %)\n",
            "Number of data points in class 8 : 4 ( 0.602 %)\n",
            "--------\n",
            "Distribution of class labels in CV Data:\n",
            "\n",
            "Number of data points in class 7 : 153 ( 28.759 %)\n",
            "Number of data points in class 4 : 110 ( 20.677 %)\n",
            "Number of data points in class 1 : 91 ( 17.105 %)\n",
            "Number of data points in class 2 : 72 ( 13.534 %)\n",
            "Number of data points in class 6 : 44 ( 8.271 %)\n",
            "Number of data points in class 5 : 39 ( 7.331 %)\n",
            "Number of data points in class 3 : 14 ( 2.632 %)\n",
            "Number of data points in class 9 : 6 ( 1.128 %)\n",
            "Number of data points in class 8 : 3 ( 0.564 %)\n"
          ]
        }
      ]
    },
    {
      "cell_type": "markdown",
      "metadata": {
        "id": "tIy5AKY7OQv2"
      },
      "source": [
        "<h2>Univariate Analysis</h2>"
      ]
    },
    {
      "cell_type": "code",
      "metadata": {
        "id": "glsAAhozOQv3"
      },
      "source": [
        "# get_gv_fea_dict: Get Gene varaition Feature Dict\n",
        "def get_gv_fea_dict(alpha, feature, df):\n",
        "\n",
        "    value_count = train_df[feature].value_counts()\n",
        "    # gv_dict : Gene Variation Dict, which contains the probability array for each gene/variation\n",
        "    gv_dict = dict()\n",
        "\n",
        "    # denominator will contain the number of time that particular feature occured in whole data\n",
        "    for i, denominator in value_count.items():\n",
        "        # vec will contain (p(yi==1/Gi) probability of gene/variation belongs to perticular class\n",
        "        # vec is 9 diamensional vector\n",
        "        vec = []\n",
        "        for k in range(1,10):\n",
        "            cls_cnt = train_df.loc[(train_df['Class']==k) & (train_df[feature]==i)]\n",
        "\n",
        "            # cls_cnt.shape[0](numerator) will contain the number of time that particular feature occured in whole data\n",
        "            vec.append((cls_cnt.shape[0] + alpha*10)/ (denominator + 90*alpha))\n",
        "\n",
        "        # we are adding the gene/variation to the dict as key and vec as value\n",
        "        gv_dict[i]=vec\n",
        "    return gv_dict\n",
        "\n",
        "# Get Gene variation feature\n",
        "def get_gv_feature(alpha, feature, df):\n",
        "\n",
        "    gv_dict = get_gv_fea_dict(alpha, feature, df)\n",
        "    # value_count is similar in get_gv_fea_dict\n",
        "    value_count = train_df[feature].value_counts()\n",
        "\n",
        "    # gv_fea: Gene_variation feature, it will contain the feature for each feature value in the data\n",
        "    gv_fea = []\n",
        "    # for every feature values in the given data frame we will check if it is there in the train data then we will add the feature to gv_fea\n",
        "    # if not we will add [1/9,1/9,1/9,1/9,1/9,1/9,1/9,1/9,1/9] to gv_fea\n",
        "    for index, row in df.iterrows():\n",
        "        if row[feature] in dict(value_count).keys():\n",
        "            gv_fea.append(gv_dict[row[feature]])\n",
        "        else:\n",
        "            gv_fea.append([1/9,1/9,1/9,1/9,1/9,1/9,1/9,1/9,1/9])\n",
        "    return gv_fea"
      ],
      "execution_count": 18,
      "outputs": []
    },
    {
      "cell_type": "markdown",
      "metadata": {
        "id": "ShBOxDTyOQv5"
      },
      "source": [
        "when we caculate the probability of a feature belongs to any particular class, we apply laplace smoothing\n",
        "<li>(numerator + 10*alpha) / (denominator + 90*alpha) </li>"
      ]
    },
    {
      "cell_type": "markdown",
      "metadata": {
        "id": "Burwv7NcOQv6"
      },
      "source": [
        "<h3>Univariate Analysis on Gene Feature</h3>"
      ]
    },
    {
      "cell_type": "code",
      "metadata": {
        "id": "r4VErpbnOQv8",
        "colab": {
          "base_uri": "https://localhost:8080/"
        },
        "outputId": "bb7994cf-10d4-4f44-8a07-6ac2754f9a1e"
      },
      "source": [
        "unique_genes = train_df['Gene'].value_counts()\n",
        "print('Number of Unique Genes :', unique_genes.shape[0])\n",
        "# the top 10 genes that occured most\n",
        "print(unique_genes.head(10))"
      ],
      "execution_count": 19,
      "outputs": [
        {
          "output_type": "stream",
          "name": "stdout",
          "text": [
            "Number of Unique Genes : 237\n",
            "Gene\n",
            "BRCA1     170\n",
            "TP53      107\n",
            "EGFR       91\n",
            "BRCA2      89\n",
            "PTEN       81\n",
            "KIT        69\n",
            "BRAF       53\n",
            "ALK        49\n",
            "ERBB2      46\n",
            "PIK3CA     36\n",
            "Name: count, dtype: int64\n"
          ]
        }
      ]
    },
    {
      "cell_type": "code",
      "metadata": {
        "scrolled": true,
        "id": "T5cMcwH-OQwD",
        "colab": {
          "base_uri": "https://localhost:8080/"
        },
        "outputId": "94b441cb-8a63-41e3-a9af-9e3c65e1c28b"
      },
      "source": [
        "print(\"There are\", unique_genes.shape[0] ,\"different categories of genes in the train data\")"
      ],
      "execution_count": 20,
      "outputs": [
        {
          "output_type": "stream",
          "name": "stdout",
          "text": [
            "There are 237 different categories of genes in the train data\n"
          ]
        }
      ]
    },
    {
      "cell_type": "markdown",
      "metadata": {
        "id": "KA0msTHPOQwT"
      },
      "source": [
        " For this problem of multi-class classification with categorical features, one-hot encoding is better for Logistic regression while response coding is better for Random Forests. </p>"
      ]
    },
    {
      "cell_type": "code",
      "metadata": {
        "id": "TcsbuDqcOQwU"
      },
      "source": [
        "#response-coding of the Gene feature\n",
        "# alpha is used for laplace smoothing\n",
        "alpha = 1\n",
        "# train gene feature\n",
        "train_gene_feature_responseCoding = np.array(get_gv_feature(alpha, \"Gene\", train_df))\n",
        "# test gene feature\n",
        "test_gene_feature_responseCoding = np.array(get_gv_feature(alpha, \"Gene\", test_df))\n",
        "# cross validation gene feature\n",
        "cv_gene_feature_responseCoding = np.array(get_gv_feature(alpha, \"Gene\", cv_df))"
      ],
      "execution_count": 21,
      "outputs": []
    },
    {
      "cell_type": "code",
      "metadata": {
        "id": "CejFANCDOQwb",
        "colab": {
          "base_uri": "https://localhost:8080/"
        },
        "outputId": "5cc54166-5800-4e25-b753-18604945d25d"
      },
      "source": [
        "print(\"train_gene_feature_responseCoding is converted feature using respone coding method. The shape of gene feature:\", train_gene_feature_responseCoding.shape)"
      ],
      "execution_count": 22,
      "outputs": [
        {
          "output_type": "stream",
          "name": "stdout",
          "text": [
            "train_gene_feature_responseCoding is converted feature using respone coding method. The shape of gene feature: (2124, 9)\n"
          ]
        }
      ]
    },
    {
      "cell_type": "code",
      "metadata": {
        "id": "7TiLWR3LOQwq"
      },
      "source": [
        "# one-hot encoding of Gene feature.\n",
        "gene_vectorizer = CountVectorizer()\n",
        "train_gene_feature_onehotCoding = gene_vectorizer.fit_transform(train_df['Gene'])\n",
        "test_gene_feature_onehotCoding = gene_vectorizer.transform(test_df['Gene'])\n",
        "cv_gene_feature_onehotCoding = gene_vectorizer.transform(cv_df['Gene'])"
      ],
      "execution_count": 23,
      "outputs": []
    },
    {
      "cell_type": "code",
      "metadata": {
        "id": "RnMPvg4OOQw0",
        "colab": {
          "base_uri": "https://localhost:8080/"
        },
        "outputId": "e91fc4e8-e4f9-4601-bc2d-0bc5d1797d51"
      },
      "source": [
        "print(\"train_gene_feature_onehotCoding is converted feature using one-hot encoding method. The shape of gene feature:\", train_gene_feature_onehotCoding.shape)"
      ],
      "execution_count": 24,
      "outputs": [
        {
          "output_type": "stream",
          "name": "stdout",
          "text": [
            "train_gene_feature_onehotCoding is converted feature using one-hot encoding method. The shape of gene feature: (2124, 237)\n"
          ]
        }
      ]
    },
    {
      "cell_type": "markdown",
      "metadata": {
        "id": "GZ8dUhbbOQxN"
      },
      "source": [
        "<h3>Univariate Analysis on Variation Feature</h3>"
      ]
    },
    {
      "cell_type": "code",
      "metadata": {
        "id": "ipBDKwsoOQxP",
        "colab": {
          "base_uri": "https://localhost:8080/"
        },
        "outputId": "e9bd4c23-1bf6-4501-81e8-48fd29b4aa16"
      },
      "source": [
        "unique_variations = train_df['Variation'].value_counts()\n",
        "print('Number of Unique Variations :', unique_variations.shape[0])\n",
        "# the top 10 variations that occured most\n",
        "print(unique_variations.head(10))"
      ],
      "execution_count": 25,
      "outputs": [
        {
          "output_type": "stream",
          "name": "stdout",
          "text": [
            "Number of Unique Variations : 1933\n",
            "Variation\n",
            "Truncating Mutations    53\n",
            "Amplification           48\n",
            "Deletion                47\n",
            "Fusions                 18\n",
            "Overexpression           5\n",
            "T58I                     3\n",
            "G12V                     3\n",
            "Q61K                     2\n",
            "Y42C                     2\n",
            "P34R                     2\n",
            "Name: count, dtype: int64\n"
          ]
        }
      ]
    },
    {
      "cell_type": "code",
      "metadata": {
        "scrolled": true,
        "id": "K9wWS-NYOQxV",
        "colab": {
          "base_uri": "https://localhost:8080/"
        },
        "outputId": "3257eef6-1f52-4f64-da67-1005627d7009"
      },
      "source": [
        "print(\"There are\", unique_variations.shape[0] ,\"different categories of variations in the train data\")"
      ],
      "execution_count": 26,
      "outputs": [
        {
          "output_type": "stream",
          "name": "stdout",
          "text": [
            "There are 1933 different categories of variations in the train data\n"
          ]
        }
      ]
    },
    {
      "cell_type": "markdown",
      "metadata": {
        "id": "e_jKtHYZOQxt"
      },
      "source": [
        "There are two ways we can featurize Variation feature\n",
        "<ol><li>One hot Encoding</li><li>Response coding</li></ol>\n",
        "<p> We will be using both these methods to featurize the Variation Feature </p>"
      ]
    },
    {
      "cell_type": "code",
      "metadata": {
        "id": "3FG82Rp2OQxt"
      },
      "source": [
        "# alpha is used for laplace smoothing\n",
        "alpha = 1\n",
        "# train gene feature\n",
        "train_variation_feature_responseCoding = np.array(get_gv_feature(alpha, \"Variation\", train_df))\n",
        "# test gene feature\n",
        "test_variation_feature_responseCoding = np.array(get_gv_feature(alpha, \"Variation\", test_df))\n",
        "# cross validation gene feature\n",
        "cv_variation_feature_responseCoding = np.array(get_gv_feature(alpha, \"Variation\", cv_df))"
      ],
      "execution_count": 27,
      "outputs": []
    },
    {
      "cell_type": "code",
      "metadata": {
        "id": "FETgZxHEOQxw",
        "colab": {
          "base_uri": "https://localhost:8080/"
        },
        "outputId": "51c9ffcd-e3bd-417e-b32b-82cf23c9796f"
      },
      "source": [
        "print(\"train_variation_feature_responseCoding is a converted feature using the response coding method. The shape of Variation feature:\", train_variation_feature_responseCoding.shape)"
      ],
      "execution_count": 28,
      "outputs": [
        {
          "output_type": "stream",
          "name": "stdout",
          "text": [
            "train_variation_feature_responseCoding is a converted feature using the response coding method. The shape of Variation feature: (2124, 9)\n"
          ]
        }
      ]
    },
    {
      "cell_type": "code",
      "metadata": {
        "id": "ruAYi3HwOQxy"
      },
      "source": [
        "# one-hot encoding of variation feature.\n",
        "variation_vectorizer = CountVectorizer()\n",
        "train_variation_feature_onehotCoding = variation_vectorizer.fit_transform(train_df['Variation'])\n",
        "test_variation_feature_onehotCoding = variation_vectorizer.transform(test_df['Variation'])\n",
        "cv_variation_feature_onehotCoding = variation_vectorizer.transform(cv_df['Variation'])"
      ],
      "execution_count": 29,
      "outputs": []
    },
    {
      "cell_type": "markdown",
      "metadata": {
        "id": "J87b3_pEOQyE"
      },
      "source": [
        "<h3>Univariate Analysis on Text Feature</h3>"
      ]
    },
    {
      "cell_type": "code",
      "metadata": {
        "id": "xV59LrzTOQyF"
      },
      "source": [
        "# cls_text is a data frame\n",
        "# for every row in data frame consider the 'TEXT'\n",
        "# split the words by space\n",
        "# make a dict with those words\n",
        "# increment its count whenever we see that word\n",
        "\n",
        "def extract_dictionary_paddle(cls_text):\n",
        "    dictionary = defaultdict(int)\n",
        "    for index, row in cls_text.iterrows():\n",
        "        for word in row['TEXT'].split():\n",
        "            dictionary[word] +=1\n",
        "    return dictionary"
      ],
      "execution_count": 30,
      "outputs": []
    },
    {
      "cell_type": "code",
      "metadata": {
        "id": "p8Y15a_1OQyH"
      },
      "source": [
        "import math\n",
        "#https://stackoverflow.com/a/1602964\n",
        "def get_text_responsecoding(df):\n",
        "    text_feature_responseCoding = np.zeros((df.shape[0],9))\n",
        "    for i in range(0,9):\n",
        "        row_index = 0\n",
        "        for index, row in df.iterrows():\n",
        "            sum_prob = 0\n",
        "            for word in row['TEXT'].split():\n",
        "                sum_prob += math.log(((dict_list[i].get(word,0)+10 )/(total_dict.get(word,0)+90)))\n",
        "            text_feature_responseCoding[row_index][i] = math.exp(sum_prob/len(row['TEXT'].split()))\n",
        "            row_index += 1\n",
        "    return text_feature_responseCoding"
      ],
      "execution_count": 31,
      "outputs": []
    },
    {
      "cell_type": "code",
      "metadata": {
        "id": "FnAaW3teOQyL",
        "colab": {
          "base_uri": "https://localhost:8080/"
        },
        "outputId": "68ace680-d6b6-426f-80d4-b8fe30635a55"
      },
      "source": [
        "# building a CountVectorizer with all the words that occured minimum 3 times in train data\n",
        "text_vectorizer = CountVectorizer(min_df=3)\n",
        "train_text_feature_onehotCoding = text_vectorizer.fit_transform(train_df['TEXT'])\n",
        "# getting all the feature names (words)\n",
        "train_text_features= text_vectorizer.get_feature_names_out()\n",
        "\n",
        "# train_text_feature_onehotCoding.sum(axis=0).A1 will sum every row and returns (1*number of features) vector\n",
        "train_text_fea_counts = train_text_feature_onehotCoding.sum(axis=0).A1\n",
        "\n",
        "# zip(list(text_features),text_fea_counts) will zip a word with its number of times it occured\n",
        "text_fea_dict = dict(zip(list(train_text_features),train_text_fea_counts))\n",
        "\n",
        "print(\"Total number of unique words in train data :\", len(train_text_features))"
      ],
      "execution_count": 32,
      "outputs": [
        {
          "output_type": "stream",
          "name": "stdout",
          "text": [
            "Total number of unique words in train data : 52479\n"
          ]
        }
      ]
    },
    {
      "cell_type": "code",
      "metadata": {
        "id": "lO_CtltnOQyR"
      },
      "source": [
        "dict_list = []\n",
        "# dict_list =[] contains 9 dictoinaries each corresponds to a class\n",
        "for i in range(1,10):\n",
        "    cls_text = train_df[train_df['Class']==i]\n",
        "    # build a word dict based on the words in that class\n",
        "    dict_list.append(extract_dictionary_paddle(cls_text))\n",
        "    # append it to dict_list\n",
        "\n",
        "total_dict = extract_dictionary_paddle(train_df)\n",
        "\n",
        "confuse_array = []\n",
        "for i in train_text_features:\n",
        "    ratios = []\n",
        "    max_val = -1\n",
        "    for j in range(0,9):\n",
        "        ratios.append((dict_list[j][i]+10 )/(total_dict[i]+90))\n",
        "    confuse_array.append(ratios)\n",
        "confuse_array = np.array(confuse_array)"
      ],
      "execution_count": 33,
      "outputs": []
    },
    {
      "cell_type": "code",
      "metadata": {
        "id": "uaI8RUu0OQyU"
      },
      "source": [
        "#response coding of text features\n",
        "train_text_feature_responseCoding  = get_text_responsecoding(train_df)\n",
        "test_text_feature_responseCoding  = get_text_responsecoding(test_df)\n",
        "cv_text_feature_responseCoding  = get_text_responsecoding(cv_df)"
      ],
      "execution_count": 34,
      "outputs": []
    },
    {
      "cell_type": "code",
      "metadata": {
        "id": "ZYqYSUjoOQyV"
      },
      "source": [
        "# https://stackoverflow.com/a/16202486\n",
        "# we convert each row values such that they sum to 1\n",
        "train_text_feature_responseCoding = (train_text_feature_responseCoding.T/train_text_feature_responseCoding.sum(axis=1)).T\n",
        "test_text_feature_responseCoding = (test_text_feature_responseCoding.T/test_text_feature_responseCoding.sum(axis=1)).T\n",
        "cv_text_feature_responseCoding = (cv_text_feature_responseCoding.T/cv_text_feature_responseCoding.sum(axis=1)).T"
      ],
      "execution_count": 35,
      "outputs": []
    },
    {
      "cell_type": "code",
      "metadata": {
        "id": "3UEk7cxGOQyX"
      },
      "source": [
        "train_text_feature_onehotCoding = normalize(train_text_feature_onehotCoding, axis=0)\n",
        "# we use the same vectorizer that was trained on train data\n",
        "test_text_feature_onehotCoding = text_vectorizer.transform(test_df['TEXT'])\n",
        "test_text_feature_onehotCoding = normalize(test_text_feature_onehotCoding, axis=0)\n",
        "# we use the same vectorizer that was trained on train data\n",
        "cv_text_feature_onehotCoding = text_vectorizer.transform(cv_df['TEXT'])\n",
        "cv_text_feature_onehotCoding = normalize(cv_text_feature_onehotCoding, axis=0)"
      ],
      "execution_count": 36,
      "outputs": []
    },
    {
      "cell_type": "code",
      "metadata": {
        "id": "p_cUhp-ZOQyn"
      },
      "source": [
        "def get_intersec_text(df):\n",
        "    df_text_vec = CountVectorizer(min_df=3)\n",
        "    df_text_fea = df_text_vec.fit_transform(df['TEXT'])\n",
        "    df_text_features = df_text_vec.get_feature_names_out()\n",
        "\n",
        "    df_text_fea_counts = df_text_fea.sum(axis=0).A1\n",
        "    df_text_fea_dict = dict(zip(list(df_text_features),df_text_fea_counts))\n",
        "    len1 = len(set(df_text_features))\n",
        "    len2 = len(set(train_text_features) & set(df_text_features))\n",
        "    return len1,len2"
      ],
      "execution_count": 37,
      "outputs": []
    },
    {
      "cell_type": "code",
      "metadata": {
        "id": "yjNmkGN9OQyo",
        "colab": {
          "base_uri": "https://localhost:8080/"
        },
        "outputId": "cd313fe6-97cf-460d-db17-7304071f314c"
      },
      "source": [
        "len1,len2 = get_intersec_text(test_df)\n",
        "print(np.round((len2/len1)*100, 3), \"% of word of test data appeared in train data\")\n",
        "len1,len2 = get_intersec_text(cv_df)\n",
        "print(np.round((len2/len1)*100, 3), \"% of word of Cross Validation appeared in train data\")"
      ],
      "execution_count": 38,
      "outputs": [
        {
          "output_type": "stream",
          "name": "stdout",
          "text": [
            "96.405 % of word of test data appeared in train data\n",
            "97.802 % of word of Cross Validation appeared in train data\n"
          ]
        }
      ]
    },
    {
      "cell_type": "markdown",
      "metadata": {
        "id": "XXWA-CNqOQys"
      },
      "source": [
        "<h1>Machine Learning Models</h1>"
      ]
    },
    {
      "cell_type": "code",
      "metadata": {
        "id": "EKJzoIyQOQys"
      },
      "source": [
        "def predict_and_plot_confusion_matrix(train_x, train_y, test_x, test_y, clf):\n",
        "    clf.fit(train_x, train_y)\n",
        "    sig_clf = CalibratedClassifierCV(clf, method=\"sigmoid\")\n",
        "    sig_clf.fit(train_x, train_y)\n",
        "    pred_y = sig_clf.predict(test_x)\n",
        "\n",
        "    # Calculate log loss\n",
        "    print(\"Log loss :\", log_loss(test_y, sig_clf.predict_proba(test_x)))\n",
        "    # Calculate number of mis-classified points\n",
        "    misclassified = np.count_nonzero((pred_y - test_y))\n",
        "    print(\"Number of mis-classified points :\", misclassified / test_y.shape[0])\n",
        "\n",
        "    # Generating the confusion matrix\n",
        "    cm = confusion_matrix(test_y, pred_y)\n",
        "\n",
        "    # Plotting the confusion matrix\n",
        "    plt.figure(figsize=(10, 7))\n",
        "    sns.heatmap(cm, annot=True, fmt=\"d\", cmap=\"Blues\")\n",
        "    plt.title('Confusion Matrix')\n",
        "    plt.ylabel('Actual Labels')\n",
        "    plt.xlabel('Predicted Labels')\n",
        "    plt.show()"
      ],
      "execution_count": 39,
      "outputs": []
    },
    {
      "cell_type": "code",
      "metadata": {
        "id": "XmI-EZ-XOQyv"
      },
      "source": [
        "def report_log_loss(train_x, train_y, test_x, test_y,  clf):\n",
        "    clf.fit(train_x, train_y)\n",
        "    sig_clf = CalibratedClassifierCV(clf, method=\"sigmoid\")\n",
        "    sig_clf.fit(train_x, train_y)\n",
        "    sig_clf_probs = sig_clf.predict_proba(test_x)\n",
        "    return log_loss(test_y, sig_clf_probs, eps=1e-15)"
      ],
      "execution_count": 40,
      "outputs": []
    },
    {
      "cell_type": "markdown",
      "metadata": {
        "id": "Gd7PORPUOQyy"
      },
      "source": [
        "<p style=\"font-size:24px;text-align:Center\"> <b>Stacking the three types of features </b><p>"
      ]
    },
    {
      "cell_type": "code",
      "metadata": {
        "id": "W1VYFJb_OQyy"
      },
      "source": [
        "# merging gene, variance and text features\n",
        "# building train, test and cross validation data sets\n",
        "\n",
        "train_gene_var_onehotCoding = hstack((train_gene_feature_onehotCoding,train_variation_feature_onehotCoding))\n",
        "test_gene_var_onehotCoding = hstack((test_gene_feature_onehotCoding,test_variation_feature_onehotCoding))\n",
        "cv_gene_var_onehotCoding = hstack((cv_gene_feature_onehotCoding,cv_variation_feature_onehotCoding))\n",
        "\n",
        "train_x_onehotCoding = hstack((train_gene_var_onehotCoding, train_text_feature_onehotCoding)).tocsr()\n",
        "train_y = np.array(list(train_df['Class']))\n",
        "\n",
        "test_x_onehotCoding = hstack((test_gene_var_onehotCoding, test_text_feature_onehotCoding)).tocsr()\n",
        "test_y = np.array(list(test_df['Class']))\n",
        "\n",
        "cv_x_onehotCoding = hstack((cv_gene_var_onehotCoding, cv_text_feature_onehotCoding)).tocsr()\n",
        "cv_y = np.array(list(cv_df['Class']))"
      ],
      "execution_count": 41,
      "outputs": []
    },
    {
      "cell_type": "code",
      "metadata": {
        "id": "dmSks_ifOQyz",
        "colab": {
          "base_uri": "https://localhost:8080/"
        },
        "outputId": "af586201-ee64-43ef-8c77-a73dcd560d09"
      },
      "source": [
        "print(\"One hot encoding features :\")\n",
        "print(\"(number of data points * number of features) in train data = \", train_x_onehotCoding.shape)\n",
        "print(\"(number of data points * number of features) in test data = \", test_x_onehotCoding.shape)\n",
        "print(\"(number of data points * number of features) in cross validation data =\", cv_x_onehotCoding.shape)"
      ],
      "execution_count": 42,
      "outputs": [
        {
          "output_type": "stream",
          "name": "stdout",
          "text": [
            "One hot encoding features :\n",
            "(number of data points * number of features) in train data =  (2124, 54683)\n",
            "(number of data points * number of features) in test data =  (665, 54683)\n",
            "(number of data points * number of features) in cross validation data = (532, 54683)\n"
          ]
        }
      ]
    },
    {
      "cell_type": "code",
      "metadata": {
        "id": "xR1gJ8GQ4shC"
      },
      "source": [
        "train_gene_var_responseCoding = np.hstack((train_gene_feature_responseCoding,train_variation_feature_responseCoding))\n",
        "test_gene_var_responseCoding = np.hstack((test_gene_feature_responseCoding,test_variation_feature_responseCoding))\n",
        "cv_gene_var_responseCoding = np.hstack((cv_gene_feature_responseCoding,cv_variation_feature_responseCoding))\n",
        "\n",
        "train_x_responseCoding = np.hstack((train_gene_var_responseCoding, train_text_feature_responseCoding))\n",
        "test_x_responseCoding = np.hstack((test_gene_var_responseCoding, test_text_feature_responseCoding))\n",
        "cv_x_responseCoding = np.hstack((cv_gene_var_responseCoding, cv_text_feature_responseCoding))\n"
      ],
      "execution_count": 43,
      "outputs": []
    },
    {
      "cell_type": "code",
      "metadata": {
        "id": "gqhwbE-ZOQy1",
        "colab": {
          "base_uri": "https://localhost:8080/"
        },
        "outputId": "a6ea621f-466d-443d-d125-b0fa00beba43"
      },
      "source": [
        "print(\" Response encoding features :\")\n",
        "print(\"(number of data points * number of features) in train data = \", train_x_responseCoding.shape)\n",
        "print(\"(number of data points * number of features) in test data = \", test_x_responseCoding.shape)\n",
        "print(\"(number of data points * number of features) in cross validation data =\", cv_x_responseCoding.shape)"
      ],
      "execution_count": 44,
      "outputs": [
        {
          "output_type": "stream",
          "name": "stdout",
          "text": [
            " Response encoding features :\n",
            "(number of data points * number of features) in train data =  (2124, 27)\n",
            "(number of data points * number of features) in test data =  (665, 27)\n",
            "(number of data points * number of features) in cross validation data = (532, 27)\n"
          ]
        }
      ]
    },
    {
      "cell_type": "markdown",
      "metadata": {
        "id": "AwsQlJOpOQy5"
      },
      "source": [
        "<h2>Base Line Model</h2>"
      ]
    },
    {
      "cell_type": "markdown",
      "metadata": {
        "id": "bDbxDY8sOQy6"
      },
      "source": [
        "<h3>1. Naive Bayes</h3>"
      ]
    },
    {
      "cell_type": "markdown",
      "metadata": {
        "id": "75gYdztHOQy7"
      },
      "source": [
        "<h4>Hyper parameter tuning</h4>"
      ]
    },
    {
      "cell_type": "code",
      "metadata": {
        "id": "arRoTgx8OQy7",
        "colab": {
          "base_uri": "https://localhost:8080/"
        },
        "outputId": "250a813a-bb15-4f38-e784-555333861faf"
      },
      "source": [
        "alpha = [0.00001, 0.0001, 0.001, 0.1, 1, 10, 100,1000]\n",
        "cv_log_error_array = []\n",
        "for i in alpha:\n",
        "    clf = MultinomialNB(alpha=i)\n",
        "    clf.fit(train_x_onehotCoding, train_y)\n",
        "    sig_clf = CalibratedClassifierCV(clf, method=\"sigmoid\")\n",
        "    sig_clf.fit(train_x_onehotCoding, train_y)\n",
        "    sig_clf_probs = sig_clf.predict_proba(cv_x_onehotCoding)\n",
        "    cv_log_error_array.append(log_loss(cv_y, sig_clf_probs, labels=clf.classes_, eps=1e-15))\n",
        "    # to avoid rounding error while multiplying probabilites we use log-probability estimates\n",
        "    print(\"For alpha =\",i,\" Log Loss :\",log_loss(cv_y, sig_clf_probs))\n",
        "\n",
        "\n",
        "best_alpha = np.argmin(cv_log_error_array)\n",
        "clf = MultinomialNB(alpha=alpha[best_alpha])\n",
        "clf.fit(train_x_onehotCoding, train_y)\n",
        "sig_clf = CalibratedClassifierCV(clf, method=\"sigmoid\")\n",
        "sig_clf.fit(train_x_onehotCoding, train_y)\n",
        "\n",
        "\n",
        "predict_y = sig_clf.predict_proba(train_x_onehotCoding)\n",
        "print('For values of best alpha = ', alpha[best_alpha], \"The train log loss is:\",log_loss(y_train, predict_y, labels=clf.classes_, eps=1e-15))\n",
        "predict_y = sig_clf.predict_proba(cv_x_onehotCoding)\n",
        "print('For values of best alpha = ', alpha[best_alpha], \"The cross validation log loss is:\",log_loss(y_cv, predict_y, labels=clf.classes_, eps=1e-15))\n",
        "predict_y = sig_clf.predict_proba(test_x_onehotCoding)\n",
        "print('For values of best alpha = ', alpha[best_alpha], \"The test log loss is:\",log_loss(y_test, predict_y, labels=clf.classes_, eps=1e-15))\n"
      ],
      "execution_count": 45,
      "outputs": [
        {
          "output_type": "stream",
          "name": "stdout",
          "text": [
            "For alpha = 1e-05  Log Loss : 1.3205142129066472\n",
            "For alpha = 0.0001  Log Loss : 1.314583292270375\n",
            "For alpha = 0.001  Log Loss : 1.2929650027576198\n",
            "For alpha = 0.1  Log Loss : 1.2735825727672223\n",
            "For alpha = 1  Log Loss : 1.2882073484865968\n",
            "For alpha = 10  Log Loss : 1.3996686685516018\n",
            "For alpha = 100  Log Loss : 1.4303729276612114\n",
            "For alpha = 1000  Log Loss : 1.3604448642844678\n",
            "For values of best alpha =  0.1 The train log loss is: 0.8490366090234304\n",
            "For values of best alpha =  0.1 The cross validation log loss is: 1.2735825727672223\n",
            "For values of best alpha =  0.1 The test log loss is: 1.3074554673576197\n"
          ]
        }
      ]
    },
    {
      "cell_type": "markdown",
      "metadata": {
        "id": "Ozp8TwTvOQy_"
      },
      "source": [
        "<h4> Testing the model with best hyper paramters</h4>"
      ]
    },
    {
      "cell_type": "code",
      "metadata": {
        "id": "PBk-DferOQzA",
        "colab": {
          "base_uri": "https://localhost:8080/"
        },
        "outputId": "b30dbfdf-0950-43d1-ecd4-d0850dd7251b"
      },
      "source": [
        "clf = MultinomialNB(alpha=alpha[best_alpha])\n",
        "clf.fit(train_x_onehotCoding, train_y)\n",
        "sig_clf = CalibratedClassifierCV(clf, method=\"sigmoid\")\n",
        "sig_clf.fit(train_x_onehotCoding, train_y)\n",
        "sig_clf_probs = sig_clf.predict_proba(cv_x_onehotCoding)\n",
        "# to avoid rounding error while multiplying probabilites we use log-probability estimates\n",
        "print(\"Log Loss :\",log_loss(cv_y, sig_clf_probs))\n",
        "print(\"Number of missclassified point :\", np.count_nonzero((sig_clf.predict(cv_x_onehotCoding)- cv_y))/cv_y.shape[0])\n",
        "confusion_matrix(cv_y, sig_clf.predict(cv_x_onehotCoding.toarray()))"
      ],
      "execution_count": 46,
      "outputs": [
        {
          "output_type": "stream",
          "name": "stdout",
          "text": [
            "Log Loss : 1.2735825727672223\n",
            "Number of missclassified point : 0.38721804511278196\n"
          ]
        },
        {
          "output_type": "execute_result",
          "data": {
            "text/plain": [
              "array([[ 48,   3,   1,  18,  12,   1,   8,   0,   0],\n",
              "       [  3,  31,   0,   2,   2,   1,  33,   0,   0],\n",
              "       [  0,   0,   3,   3,   0,   1,   7,   0,   0],\n",
              "       [ 26,   6,   1,  66,   8,   1,   2,   0,   0],\n",
              "       [  5,   2,   2,   0,  24,   2,   4,   0,   0],\n",
              "       [  4,   3,   0,   1,   9,  22,   5,   0,   0],\n",
              "       [  3,  15,   4,   0,   3,   1, 127,   0,   0],\n",
              "       [  0,   0,   0,   0,   0,   1,   2,   0,   0],\n",
              "       [  1,   0,   0,   0,   0,   0,   0,   0,   5]])"
            ]
          },
          "metadata": {},
          "execution_count": 46
        }
      ]
    },
    {
      "cell_type": "markdown",
      "metadata": {
        "id": "QU5KUv3HOQzF"
      },
      "source": [
        "<h4>Feature Importance, Correctly classified point</h4>"
      ]
    },
    {
      "cell_type": "code",
      "metadata": {
        "scrolled": false,
        "id": "txRgyoK-OQzF",
        "colab": {
          "base_uri": "https://localhost:8080/"
        },
        "outputId": "1d206202-e38c-4d0e-dcc7-14b22075d285"
      },
      "source": [
        "test_point_index = 1\n",
        "\n",
        "# Predicting class and probabilities\n",
        "predicted_cls = sig_clf.predict(test_x_onehotCoding[test_point_index])\n",
        "predicted_probs = np.round(sig_clf.predict_proba(test_x_onehotCoding[test_point_index]), 4)\n",
        "\n",
        "print(\"Predicted Class :\", predicted_cls[0])\n",
        "print(\"Predicted Class Probabilities:\", predicted_probs)\n",
        "print(\"Actual Class :\", test_y[test_point_index])"
      ],
      "execution_count": 47,
      "outputs": [
        {
          "output_type": "stream",
          "name": "stdout",
          "text": [
            "Predicted Class : 9\n",
            "Predicted Class Probabilities: [[0.1032 0.0779 0.0158 0.1345 0.0796 0.0442 0.1592 0.0059 0.3796]]\n",
            "Actual Class : 4\n"
          ]
        }
      ]
    },
    {
      "cell_type": "markdown",
      "metadata": {
        "id": "7SXavTmSOQzO"
      },
      "source": [
        "<h2>2. K Nearest Neighbour Classification</h2>"
      ]
    },
    {
      "cell_type": "markdown",
      "metadata": {
        "id": "O3hlQ7XlOQzO"
      },
      "source": [
        "<h3> Hyper parameter tuning</h3>"
      ]
    },
    {
      "cell_type": "code",
      "metadata": {
        "scrolled": false,
        "id": "gmlvjjASOQzP",
        "colab": {
          "base_uri": "https://localhost:8080/"
        },
        "outputId": "b72564b4-9c93-458b-9a09-f30ef5bb6b0a"
      },
      "source": [
        "alpha = [5, 11, 15, 21, 31, 41, 51, 99]\n",
        "cv_log_error_array = []\n",
        "for i in alpha:\n",
        "    clf = KNeighborsClassifier(n_neighbors=i)\n",
        "    clf.fit(train_x_responseCoding, train_y)\n",
        "    sig_clf = CalibratedClassifierCV(clf, method=\"sigmoid\")\n",
        "    sig_clf.fit(train_x_responseCoding, train_y)\n",
        "    sig_clf_probs = sig_clf.predict_proba(cv_x_responseCoding)\n",
        "    cv_log_error_array.append(log_loss(cv_y, sig_clf_probs, labels=clf.classes_, eps=1e-15))\n",
        "    # to avoid rounding error while multiplying probabilites we use log-probability estimates\n",
        "    print(\"For alpha =\",i,\"Log Loss :\",log_loss(cv_y, sig_clf_probs))\n",
        "\n",
        "\n",
        "best_alpha = np.argmin(cv_log_error_array)\n",
        "clf = KNeighborsClassifier(n_neighbors=alpha[best_alpha])\n",
        "clf.fit(train_x_responseCoding, train_y)\n",
        "sig_clf = CalibratedClassifierCV(clf, method=\"sigmoid\")\n",
        "sig_clf.fit(train_x_responseCoding, train_y)\n",
        "\n",
        "predict_y = sig_clf.predict_proba(train_x_responseCoding)\n",
        "print('For values of best alpha = ', alpha[best_alpha], \"The train log loss is:\",log_loss(y_train, predict_y, labels=clf.classes_, eps=1e-15))\n",
        "predict_y = sig_clf.predict_proba(cv_x_responseCoding)\n",
        "print('For values of best alpha = ', alpha[best_alpha], \"The cross validation log loss is:\",log_loss(y_cv, predict_y, labels=clf.classes_, eps=1e-15))\n",
        "predict_y = sig_clf.predict_proba(test_x_responseCoding)\n",
        "print('For values of best alpha = ', alpha[best_alpha], \"The test log loss is:\",log_loss(y_test, predict_y, labels=clf.classes_, eps=1e-15))\n"
      ],
      "execution_count": 48,
      "outputs": [
        {
          "output_type": "stream",
          "name": "stdout",
          "text": [
            "For alpha = 5 Log Loss : 1.0870419193886598\n",
            "For alpha = 11 Log Loss : 1.10266678487863\n",
            "For alpha = 15 Log Loss : 1.1037913902716305\n",
            "For alpha = 21 Log Loss : 1.087664273651023\n",
            "For alpha = 31 Log Loss : 1.0829316089248773\n",
            "For alpha = 41 Log Loss : 1.0903140399435263\n",
            "For alpha = 51 Log Loss : 1.1020641453261626\n",
            "For alpha = 99 Log Loss : 1.1013815169459233\n",
            "For values of best alpha =  31 The train log loss is: 0.791499639963108\n",
            "For values of best alpha =  31 The cross validation log loss is: 1.0829316089248773\n",
            "For values of best alpha =  31 The test log loss is: 1.1131946601494647\n"
          ]
        }
      ]
    },
    {
      "cell_type": "markdown",
      "metadata": {
        "id": "1SOHvSM2OQzR"
      },
      "source": [
        "<h3> Testing the model with best hyper paramters</h3>"
      ]
    },
    {
      "cell_type": "code",
      "metadata": {
        "id": "pwzl0uRqOQzS",
        "colab": {
          "base_uri": "https://localhost:8080/",
          "height": 677
        },
        "outputId": "d9f5cba8-e6d1-4adf-ad93-eddd54bf3c80"
      },
      "source": [
        "clf = KNeighborsClassifier(n_neighbors=alpha[best_alpha])\n",
        "predict_and_plot_confusion_matrix(train_x_responseCoding, train_y, cv_x_responseCoding, cv_y, clf)"
      ],
      "execution_count": 49,
      "outputs": [
        {
          "output_type": "stream",
          "name": "stdout",
          "text": [
            "Log loss : 1.0829316089248773\n",
            "Number of mis-classified points : 0.37406015037593987\n"
          ]
        },
        {
          "output_type": "display_data",
          "data": {
            "text/plain": [
              "<Figure size 1000x700 with 2 Axes>"
            ],
            "image/png": "[encoded data removed]"
          },
          "metadata": {}
        }
      ]
    },
    {
      "cell_type": "markdown",
      "metadata": {
        "id": "zgemwmdTOQzV"
      },
      "source": [
        "<h3>Sample Query point</h3>"
      ]
    },
    {
      "cell_type": "code",
      "metadata": {
        "id": "lN5ixZ-iOQzV",
        "colab": {
          "base_uri": "https://localhost:8080/"
        },
        "outputId": "4617825a-7be7-4926-cca5-501ee33ad9f4"
      },
      "source": [
        "clf = KNeighborsClassifier(n_neighbors=alpha[best_alpha])\n",
        "clf.fit(train_x_responseCoding, train_y)\n",
        "sig_clf = CalibratedClassifierCV(clf, method=\"sigmoid\")\n",
        "sig_clf.fit(train_x_responseCoding, train_y)\n",
        "\n",
        "test_point_index = 1\n",
        "predicted_cls = sig_clf.predict(test_x_responseCoding[0].reshape(1,-1))\n",
        "print(\"Predicted Class :\", predicted_cls[0])\n",
        "print(\"Actual Class :\", test_y[test_point_index])\n",
        "neighbors = clf.kneighbors(test_x_responseCoding[test_point_index].reshape(1, -1), alpha[best_alpha])\n",
        "print(\"The \",alpha[best_alpha],\" nearest neighbours of the test points belongs to classes\",train_y[neighbors[1][0]])\n",
        "print(\"Fequency of nearest points :\",Counter(train_y[neighbors[1][0]]))"
      ],
      "execution_count": 50,
      "outputs": [
        {
          "output_type": "stream",
          "name": "stdout",
          "text": [
            "Predicted Class : 7\n",
            "Actual Class : 4\n",
            "The  31  nearest neighbours of the test points belongs to classes [5 9 5 7 4 9 8 9 9 8 9 5 5 9 9 9 9 9 9 4 4 9 9 8 8 4 4 4 9 9 7]\n",
            "Fequency of nearest points : Counter({9: 15, 4: 6, 5: 4, 8: 4, 7: 2})\n"
          ]
        }
      ]
    },
    {
      "cell_type": "markdown",
      "metadata": {
        "id": "hs4v7Fc1OQzj"
      },
      "source": [
        "<h2>3. Logistic Regression</h2>"
      ]
    },
    {
      "cell_type": "markdown",
      "metadata": {
        "id": "Hj1NGUOnOQzj"
      },
      "source": [
        "<h3> With Class balancing</h3>"
      ]
    },
    {
      "cell_type": "markdown",
      "metadata": {
        "id": "_OsvP1C6OQzk"
      },
      "source": [
        "<h4> Hyper paramter tuning</h4>"
      ]
    },
    {
      "cell_type": "code",
      "metadata": {
        "id": "6gknPIAJOQzl",
        "colab": {
          "base_uri": "https://localhost:8080/"
        },
        "outputId": "c6276779-e903-478a-bc89-87a0d556f00e"
      },
      "source": [
        "alpha = [10 ** x for x in range(-6, 3)]\n",
        "cv_log_error_array = []\n",
        "for i in alpha:\n",
        "    clf = SGDClassifier(class_weight='balanced', alpha=i, penalty='l2', loss='log', random_state=42)\n",
        "    clf.fit(train_x_onehotCoding, train_y)\n",
        "    sig_clf = CalibratedClassifierCV(clf, method=\"sigmoid\")\n",
        "    sig_clf.fit(train_x_onehotCoding, train_y)\n",
        "    sig_clf_probs = sig_clf.predict_proba(cv_x_onehotCoding)\n",
        "    cv_log_error_array.append(log_loss(cv_y, sig_clf_probs, labels=clf.classes_, eps=1e-15))\n",
        "    # to avoid rounding error while multiplying probabilites we use log-probability estimates\n",
        "    print(\"For alpha =\",i,\"Log Loss :\",log_loss(cv_y, sig_clf_probs))\n",
        "\n",
        "\n",
        "best_alpha = np.argmin(cv_log_error_array)\n",
        "clf = SGDClassifier(class_weight='balanced', alpha=alpha[best_alpha], penalty='l2', loss='log', random_state=42)\n",
        "clf.fit(train_x_onehotCoding, train_y)\n",
        "sig_clf = CalibratedClassifierCV(clf, method=\"sigmoid\")\n",
        "sig_clf.fit(train_x_onehotCoding, train_y)\n",
        "\n",
        "predict_y = sig_clf.predict_proba(train_x_onehotCoding)\n",
        "print('For values of best alpha = ', alpha[best_alpha], \"The train log loss is:\",log_loss(y_train, predict_y, labels=clf.classes_, eps=1e-15))\n",
        "predict_y = sig_clf.predict_proba(cv_x_onehotCoding)\n",
        "print('For values of best alpha = ', alpha[best_alpha], \"The cross validation log loss is:\",log_loss(y_cv, predict_y, labels=clf.classes_, eps=1e-15))\n",
        "predict_y = sig_clf.predict_proba(test_x_onehotCoding)\n",
        "print('For values of best alpha = ', alpha[best_alpha], \"The test log loss is:\",log_loss(y_test, predict_y, labels=clf.classes_, eps=1e-15))"
      ],
      "execution_count": 51,
      "outputs": [
        {
          "output_type": "stream",
          "name": "stdout",
          "text": [
            "For alpha = 1e-06 Log Loss : 1.3375103824241854\n",
            "For alpha = 1e-05 Log Loss : 1.3109732815879496\n",
            "For alpha = 0.0001 Log Loss : 1.1725842327299931\n",
            "For alpha = 0.001 Log Loss : 1.1567872090250921\n",
            "For alpha = 0.01 Log Loss : 1.2070113491593328\n",
            "For alpha = 0.1 Log Loss : 1.4435319857474327\n",
            "For alpha = 1 Log Loss : 1.665430756973824\n",
            "For alpha = 10 Log Loss : 1.6935298007329307\n",
            "For alpha = 100 Log Loss : 1.6965782618021423\n",
            "For values of best alpha =  0.001 The train log loss is: 0.5077378244221618\n",
            "For values of best alpha =  0.001 The cross validation log loss is: 1.1567872090250921\n",
            "For values of best alpha =  0.001 The test log loss is: 1.0719369501700156\n"
          ]
        }
      ]
    },
    {
      "cell_type": "markdown",
      "metadata": {
        "id": "d6sk6Z7NOQzp"
      },
      "source": [
        "<h4>Testing the model with best hyper paramters</h4>"
      ]
    },
    {
      "cell_type": "code",
      "metadata": {
        "scrolled": false,
        "id": "HEeyfXMIOQzp",
        "colab": {
          "base_uri": "https://localhost:8080/",
          "height": 677
        },
        "outputId": "409fe303-dd45-4de7-9ffd-2dd36e73c8bc"
      },
      "source": [
        "clf = SGDClassifier(class_weight='balanced', alpha=alpha[best_alpha], penalty='l2', loss='log', random_state=42)\n",
        "predict_and_plot_confusion_matrix(train_x_onehotCoding, train_y, cv_x_onehotCoding, cv_y, clf)"
      ],
      "execution_count": 52,
      "outputs": [
        {
          "output_type": "stream",
          "name": "stdout",
          "text": [
            "Log loss : 1.1567872090250921\n",
            "Number of mis-classified points : 0.34210526315789475\n"
          ]
        },
        {
          "output_type": "display_data",
          "data": {
            "text/plain": [
              "<Figure size 1000x700 with 2 Axes>"
            ],
            "image/png": "[encoded data removed]"
          },
          "metadata": {}
        }
      ]
    },
    {
      "cell_type": "markdown",
      "metadata": {
        "id": "6UMOPzp5OQzs"
      },
      "source": [
        "<h5>Sample Query point</h5>"
      ]
    },
    {
      "cell_type": "code",
      "metadata": {
        "scrolled": false,
        "id": "vrELublWOQzs",
        "colab": {
          "base_uri": "https://localhost:8080/"
        },
        "outputId": "b5bf2019-8307-47fe-de5e-a46536711a4a"
      },
      "source": [
        "# from tabulate import tabulate\n",
        "clf = SGDClassifier(class_weight='balanced', alpha=alpha[best_alpha], penalty='l2', loss='log', random_state=42)\n",
        "clf.fit(train_x_onehotCoding,train_y)\n",
        "test_point_index = 1\n",
        "predicted_cls = sig_clf.predict(test_x_onehotCoding[test_point_index])\n",
        "print(\"Predicted Class :\", predicted_cls[0])\n",
        "print(\"Predicted Class Probabilities:\", np.round(sig_clf.predict_proba(test_x_onehotCoding[test_point_index]),4))\n",
        "print(\"Actual Class :\", test_y[test_point_index])"
      ],
      "execution_count": 53,
      "outputs": [
        {
          "output_type": "stream",
          "name": "stdout",
          "text": [
            "Predicted Class : 5\n",
            "Predicted Class Probabilities: [[0.0459 0.0505 0.0112 0.176  0.3586 0.0265 0.159  0.0073 0.165 ]]\n",
            "Actual Class : 4\n"
          ]
        }
      ]
    },
    {
      "cell_type": "markdown",
      "metadata": {
        "id": "MqTEV6i4OQzx"
      },
      "source": [
        "<h3>Without Class balancing</h3>"
      ]
    },
    {
      "cell_type": "markdown",
      "metadata": {
        "id": "evZWkCjYOQzx"
      },
      "source": [
        "<h4>Hyper paramter tuning</h4>"
      ]
    },
    {
      "cell_type": "code",
      "metadata": {
        "id": "sBfRm3hAOQzy",
        "colab": {
          "base_uri": "https://localhost:8080/"
        },
        "outputId": "5a251d76-face-41d2-e348-8600130aec39"
      },
      "source": [
        "alpha = [10 ** x for x in range(-6, 1)]\n",
        "cv_log_error_array = []\n",
        "for i in alpha:\n",
        "    clf = SGDClassifier(alpha=i, penalty='l2', loss='log', random_state=42)\n",
        "    clf.fit(train_x_onehotCoding, train_y)\n",
        "    sig_clf = CalibratedClassifierCV(clf, method=\"sigmoid\")\n",
        "    sig_clf.fit(train_x_onehotCoding, train_y)\n",
        "    sig_clf_probs = sig_clf.predict_proba(cv_x_onehotCoding)\n",
        "    cv_log_error_array.append(log_loss(cv_y, sig_clf_probs, labels=clf.classes_, eps=1e-15))\n",
        "    print(\"For alpha =\",i,\"Log Loss :\",log_loss(cv_y, sig_clf_probs))\n",
        "\n",
        "\n",
        "best_alpha = np.argmin(cv_log_error_array)\n",
        "clf = SGDClassifier(alpha=alpha[best_alpha], penalty='l2', loss='log', random_state=42)\n",
        "clf.fit(train_x_onehotCoding, train_y)\n",
        "sig_clf = CalibratedClassifierCV(clf, method=\"sigmoid\")\n",
        "sig_clf.fit(train_x_onehotCoding, train_y)\n",
        "\n",
        "predict_y = sig_clf.predict_proba(train_x_onehotCoding)\n",
        "print('For values of best alpha = ', alpha[best_alpha], \"The train log loss is:\",log_loss(y_train, predict_y, labels=clf.classes_, eps=1e-15))\n",
        "predict_y = sig_clf.predict_proba(cv_x_onehotCoding)\n",
        "print('For values of best alpha = ', alpha[best_alpha], \"The cross validation log loss is:\",log_loss(y_cv, predict_y, labels=clf.classes_, eps=1e-15))\n",
        "predict_y = sig_clf.predict_proba(test_x_onehotCoding)\n",
        "print('For values of best alpha = ', alpha[best_alpha], \"The test log loss is:\",log_loss(y_test, predict_y, labels=clf.classes_, eps=1e-15))"
      ],
      "execution_count": 54,
      "outputs": [
        {
          "output_type": "stream",
          "name": "stdout",
          "text": [
            "For alpha = 1e-06 Log Loss : 1.3277916141437418\n",
            "For alpha = 1e-05 Log Loss : 1.3120573511174454\n",
            "For alpha = 0.0001 Log Loss : 1.209129362126138\n",
            "For alpha = 0.001 Log Loss : 1.1643415248411595\n",
            "For alpha = 0.01 Log Loss : 1.243815248718833\n",
            "For alpha = 0.1 Log Loss : 1.4009666413774875\n",
            "For alpha = 1 Log Loss : 1.5738620171859734\n",
            "For values of best alpha =  0.001 The train log loss is: 0.5022374811699064\n",
            "For values of best alpha =  0.001 The cross validation log loss is: 1.1643415248411595\n",
            "For values of best alpha =  0.001 The test log loss is: 1.078700881025731\n"
          ]
        }
      ]
    },
    {
      "cell_type": "markdown",
      "metadata": {
        "id": "-1f9PWS5OQzz"
      },
      "source": [
        "<h4>Testing model with best hyper parameters</h4>"
      ]
    },
    {
      "cell_type": "code",
      "metadata": {
        "id": "4orFGr5QOQz0",
        "colab": {
          "base_uri": "https://localhost:8080/",
          "height": 677
        },
        "outputId": "1c771932-bc6f-43ed-e729-a4dda7f319c7"
      },
      "source": [
        "clf = SGDClassifier(alpha=alpha[best_alpha], penalty='l2', loss='log', random_state=42)\n",
        "predict_and_plot_confusion_matrix(train_x_onehotCoding, train_y, cv_x_onehotCoding, cv_y, clf)"
      ],
      "execution_count": 55,
      "outputs": [
        {
          "output_type": "stream",
          "name": "stdout",
          "text": [
            "Log loss : 1.1643415248411595\n",
            "Number of mis-classified points : 0.33646616541353386\n"
          ]
        },
        {
          "output_type": "display_data",
          "data": {
            "text/plain": [
              "<Figure size 1000x700 with 2 Axes>"
            ],
            "image/png": "[encoded data removed]"
          },
          "metadata": {}
        }
      ]
    },
    {
      "cell_type": "markdown",
      "metadata": {
        "id": "CEnJCfulOQz8"
      },
      "source": [
        "<h2>4. Linear Support Vector Machines</h2>"
      ]
    },
    {
      "cell_type": "markdown",
      "metadata": {
        "id": "nQfL7DVoOQz8"
      },
      "source": [
        "<h3> Hyper paramter tuning</h3>"
      ]
    },
    {
      "cell_type": "code",
      "metadata": {
        "id": "eH-oXVB3OQz9",
        "colab": {
          "base_uri": "https://localhost:8080/"
        },
        "outputId": "17e9cce4-fffa-42ec-865a-f2114ba6929c"
      },
      "source": [
        "alpha = [10 ** x for x in range(-5, 3)]\n",
        "cv_log_error_array = []\n",
        "for i in alpha:\n",
        "    clf = SGDClassifier( class_weight='balanced', alpha=i, penalty='l2', loss='hinge', random_state=42)\n",
        "    clf.fit(train_x_onehotCoding, train_y)\n",
        "    sig_clf = CalibratedClassifierCV(clf, method=\"sigmoid\")\n",
        "    sig_clf.fit(train_x_onehotCoding, train_y)\n",
        "    sig_clf_probs = sig_clf.predict_proba(cv_x_onehotCoding)\n",
        "    cv_log_error_array.append(log_loss(cv_y, sig_clf_probs, labels=clf.classes_, eps=1e-15))\n",
        "    print(\"For C =\",i,\"Log Loss :\",log_loss(cv_y, sig_clf_probs))\n",
        "\n",
        "\n",
        "best_alpha = np.argmin(cv_log_error_array)\n",
        "clf = SGDClassifier(class_weight='balanced', alpha=alpha[best_alpha], penalty='l2', loss='hinge', random_state=42)\n",
        "clf.fit(train_x_onehotCoding, train_y)\n",
        "sig_clf = CalibratedClassifierCV(clf, method=\"sigmoid\")\n",
        "sig_clf.fit(train_x_onehotCoding, train_y)\n",
        "\n",
        "predict_y = sig_clf.predict_proba(train_x_onehotCoding)\n",
        "print('For values of best alpha = ', alpha[best_alpha], \"The train log loss is:\",log_loss(y_train, predict_y, labels=clf.classes_, eps=1e-15))\n",
        "predict_y = sig_clf.predict_proba(cv_x_onehotCoding)\n",
        "print('For values of best alpha = ', alpha[best_alpha], \"The cross validation log loss is:\",log_loss(y_cv, predict_y, labels=clf.classes_, eps=1e-15))\n",
        "predict_y = sig_clf.predict_proba(test_x_onehotCoding)\n",
        "print('For values of best alpha = ', alpha[best_alpha], \"The test log loss is:\",log_loss(y_test, predict_y, labels=clf.classes_, eps=1e-15))"
      ],
      "execution_count": 56,
      "outputs": [
        {
          "output_type": "stream",
          "name": "stdout",
          "text": [
            "For C = 1e-05 Log Loss : 1.3122106597105159\n",
            "For C = 0.0001 Log Loss : 1.2663910589302276\n",
            "For C = 0.001 Log Loss : 1.2174889884683013\n",
            "For C = 0.01 Log Loss : 1.2003633752805598\n",
            "For C = 0.1 Log Loss : 1.3709062529079081\n",
            "For C = 1 Log Loss : 1.685212452831912\n",
            "For C = 10 Log Loss : 1.6970672844386736\n",
            "For C = 100 Log Loss : 1.6970672944029543\n",
            "For values of best alpha =  0.01 The train log loss is: 0.7117994709134843\n",
            "For values of best alpha =  0.01 The cross validation log loss is: 1.2003633752805598\n",
            "For values of best alpha =  0.01 The test log loss is: 1.1525616404613495\n"
          ]
        }
      ]
    },
    {
      "cell_type": "markdown",
      "metadata": {
        "id": "xrPFI2mIOQz-"
      },
      "source": [
        "<h3> Testing model with best hyper parameters</h3>"
      ]
    },
    {
      "cell_type": "code",
      "metadata": {
        "id": "aE_tZXkQOQz_",
        "colab": {
          "base_uri": "https://localhost:8080/",
          "height": 677
        },
        "outputId": "bf68a48a-9cc1-47e1-9d3e-6dd2f4a09473"
      },
      "source": [
        "clf = SGDClassifier(alpha=alpha[best_alpha], penalty='l2', loss='hinge', random_state=42,class_weight='balanced')\n",
        "predict_and_plot_confusion_matrix(train_x_onehotCoding, train_y,cv_x_onehotCoding,cv_y, clf)"
      ],
      "execution_count": 57,
      "outputs": [
        {
          "output_type": "stream",
          "name": "stdout",
          "text": [
            "Log loss : 1.2003633752805598\n",
            "Number of mis-classified points : 0.3533834586466165\n"
          ]
        },
        {
          "output_type": "display_data",
          "data": {
            "text/plain": [
              "<Figure size 1000x700 with 2 Axes>"
            ],
            "image/png": "[encoded data removed]"
          },
          "metadata": {}
        }
      ]
    },
    {
      "cell_type": "markdown",
      "metadata": {
        "id": "Qo8UpfnJOQ0G"
      },
      "source": [
        "<h2>5. Random Forest Classifier</h2>"
      ]
    },
    {
      "cell_type": "markdown",
      "metadata": {
        "id": "vQ9sdCvQOQ0H"
      },
      "source": [
        "<h3>Hyper paramter tuning (With One hot Encoding)</h3>"
      ]
    },
    {
      "cell_type": "code",
      "metadata": {
        "id": "LNV3DyqiOQ0H",
        "colab": {
          "base_uri": "https://localhost:8080/"
        },
        "outputId": "91a845b2-5c45-4243-8fe9-e94eceb75667"
      },
      "source": [
        "alpha = [100,200,500,1000]\n",
        "max_depth = [5, 10]\n",
        "cv_log_error_array = []\n",
        "for i in alpha:\n",
        "    for j in max_depth:\n",
        "        print(\"for n_estimators =\", i,\"and max depth = \", j)\n",
        "        clf = RandomForestClassifier(n_estimators=i, criterion='gini', max_depth=j, random_state=42, n_jobs=-1)\n",
        "        clf.fit(train_x_onehotCoding, train_y)\n",
        "        sig_clf = CalibratedClassifierCV(clf, method=\"sigmoid\")\n",
        "        sig_clf.fit(train_x_onehotCoding, train_y)\n",
        "        sig_clf_probs = sig_clf.predict_proba(cv_x_onehotCoding)\n",
        "        cv_log_error_array.append(log_loss(cv_y, sig_clf_probs, labels=clf.classes_, eps=1e-15))\n",
        "        print(\"Log Loss :\",log_loss(cv_y, sig_clf_probs))\n",
        "\n",
        "best_alpha = np.argmin(cv_log_error_array)\n",
        "clf = RandomForestClassifier(n_estimators=alpha[int(best_alpha/2)], criterion='gini', max_depth=max_depth[int(best_alpha%2)], random_state=42, n_jobs=-1)\n",
        "clf.fit(train_x_onehotCoding, train_y)\n",
        "sig_clf = CalibratedClassifierCV(clf, method=\"sigmoid\")\n",
        "sig_clf.fit(train_x_onehotCoding, train_y)\n",
        "\n",
        "predict_y = sig_clf.predict_proba(train_x_onehotCoding)\n",
        "print('For values of best estimator = ', alpha[int(best_alpha/2)], \"The train log loss is:\",log_loss(y_train, predict_y, labels=clf.classes_, eps=1e-15))\n",
        "predict_y = sig_clf.predict_proba(cv_x_onehotCoding)\n",
        "print('For values of best estimator = ', alpha[int(best_alpha/2)], \"The cross validation log loss is:\",log_loss(y_cv, predict_y, labels=clf.classes_, eps=1e-15))\n",
        "predict_y = sig_clf.predict_proba(test_x_onehotCoding)\n",
        "print('For values of best estimator = ', alpha[int(best_alpha/2)], \"The test log loss is:\",log_loss(y_test, predict_y, labels=clf.classes_, eps=1e-15))"
      ],
      "execution_count": 58,
      "outputs": [
        {
          "output_type": "stream",
          "name": "stdout",
          "text": [
            "for n_estimators = 100 and max depth =  5\n",
            "Log Loss : 1.2755979629303116\n",
            "for n_estimators = 100 and max depth =  10\n",
            "Log Loss : 1.212486341211696\n",
            "for n_estimators = 200 and max depth =  5\n",
            "Log Loss : 1.2650411413780658\n",
            "for n_estimators = 200 and max depth =  10\n",
            "Log Loss : 1.1998927824803842\n",
            "for n_estimators = 500 and max depth =  5\n",
            "Log Loss : 1.262322683148924\n",
            "for n_estimators = 500 and max depth =  10\n",
            "Log Loss : 1.1993284211571165\n",
            "for n_estimators = 1000 and max depth =  5\n",
            "Log Loss : 1.2591367385617263\n",
            "for n_estimators = 1000 and max depth =  10\n",
            "Log Loss : 1.198150103135861\n",
            "For values of best estimator =  1000 The train log loss is: 0.6644952527058876\n",
            "For values of best estimator =  1000 The cross validation log loss is: 1.198150103135861\n",
            "For values of best estimator =  1000 The test log loss is: 1.1628487864819297\n"
          ]
        }
      ]
    },
    {
      "cell_type": "markdown",
      "metadata": {
        "id": "EsQtPEFoOQ0K"
      },
      "source": [
        "<h3>Testing model with best hyper parameters (One Hot Encoding)</h3>"
      ]
    },
    {
      "cell_type": "code",
      "metadata": {
        "id": "qubuQ89sOQ0L",
        "colab": {
          "base_uri": "https://localhost:8080/",
          "height": 677
        },
        "outputId": "9b1e1532-016d-4abe-c28f-e9d9e439b377"
      },
      "source": [
        "clf = RandomForestClassifier(n_estimators=alpha[int(best_alpha/2)], criterion='gini', max_depth=max_depth[int(best_alpha%2)], random_state=42, n_jobs=-1)\n",
        "predict_and_plot_confusion_matrix(train_x_onehotCoding, train_y,cv_x_onehotCoding,cv_y, clf)"
      ],
      "execution_count": 59,
      "outputs": [
        {
          "output_type": "stream",
          "name": "stdout",
          "text": [
            "Log loss : 1.198150103135861\n",
            "Number of mis-classified points : 0.39849624060150374\n"
          ]
        },
        {
          "output_type": "display_data",
          "data": {
            "text/plain": [
              "<Figure size 1000x700 with 2 Axes>"
            ],
            "image/png": "[encoded data removed]"
          },
          "metadata": {}
        }
      ]
    },
    {
      "cell_type": "markdown",
      "metadata": {
        "id": "kqP0GqsTOQ0N"
      },
      "source": [
        "<h4>Sample Query point</h4>"
      ]
    },
    {
      "cell_type": "code",
      "metadata": {
        "scrolled": false,
        "id": "pRpvSps1OQ0N",
        "colab": {
          "base_uri": "https://localhost:8080/"
        },
        "outputId": "e30a76f0-e26b-4bb2-9bdd-b85f1c0b296d"
      },
      "source": [
        "clf = RandomForestClassifier(n_estimators=alpha[int(best_alpha/2)], criterion='gini', max_depth=max_depth[int(best_alpha%2)], random_state=42, n_jobs=-1)\n",
        "clf.fit(train_x_onehotCoding, train_y)\n",
        "sig_clf = CalibratedClassifierCV(clf, method=\"sigmoid\")\n",
        "sig_clf.fit(train_x_onehotCoding, train_y)\n",
        "\n",
        "test_point_index = 1\n",
        "predicted_cls = sig_clf.predict(test_x_onehotCoding[test_point_index])\n",
        "print(\"Predicted Class :\", predicted_cls[0])\n",
        "print(\"Predicted Class Probabilities:\", np.round(sig_clf.predict_proba(test_x_onehotCoding[test_point_index]),4))\n",
        "print(\"Actual Class :\", test_y[test_point_index])"
      ],
      "execution_count": 60,
      "outputs": [
        {
          "output_type": "stream",
          "name": "stdout",
          "text": [
            "Predicted Class : 4\n",
            "Predicted Class Probabilities: [[0.2428 0.098  0.0207 0.3369 0.0894 0.0571 0.1171 0.0132 0.0247]]\n",
            "Actual Class : 4\n"
          ]
        }
      ]
    },
    {
      "cell_type": "markdown",
      "metadata": {
        "id": "ZxRbJnYaOQ0U"
      },
      "source": [
        "<h3>Hyper paramter tuning (With Response Coding)</h3>"
      ]
    },
    {
      "cell_type": "code",
      "metadata": {
        "scrolled": false,
        "id": "7QgvuyJYOQ0U",
        "colab": {
          "base_uri": "https://localhost:8080/"
        },
        "outputId": "402d3cd1-f747-4630-a878-54959f27f0f1"
      },
      "source": [
        "alpha = [10,50,100,200,500,1000]\n",
        "max_depth = [2,3,5,10]\n",
        "cv_log_error_array = []\n",
        "for i in alpha:\n",
        "    for j in max_depth:\n",
        "        print(\"for n_estimators =\", i,\"and max depth = \", j)\n",
        "        clf = RandomForestClassifier(n_estimators=i, criterion='gini', max_depth=j, random_state=42, n_jobs=-1)\n",
        "        clf.fit(train_x_responseCoding, train_y)\n",
        "        sig_clf = CalibratedClassifierCV(clf, method=\"sigmoid\")\n",
        "        sig_clf.fit(train_x_responseCoding, train_y)\n",
        "        sig_clf_probs = sig_clf.predict_proba(cv_x_responseCoding)\n",
        "        cv_log_error_array.append(log_loss(cv_y, sig_clf_probs, labels=clf.classes_, eps=1e-15))\n",
        "        print(\"Log Loss :\",log_loss(cv_y, sig_clf_probs))\n",
        "\n",
        "best_alpha = np.argmin(cv_log_error_array)\n",
        "clf = RandomForestClassifier(n_estimators=alpha[int(best_alpha/4)], criterion='gini', max_depth=max_depth[int(best_alpha%4)], random_state=42, n_jobs=-1)\n",
        "clf.fit(train_x_responseCoding, train_y)\n",
        "sig_clf = CalibratedClassifierCV(clf, method=\"sigmoid\")\n",
        "sig_clf.fit(train_x_responseCoding, train_y)\n",
        "\n",
        "predict_y = sig_clf.predict_proba(train_x_responseCoding)\n",
        "print('For values of best alpha = ', alpha[int(best_alpha/4)], \"The train log loss is:\",log_loss(y_train, predict_y, labels=clf.classes_, eps=1e-15))\n",
        "predict_y = sig_clf.predict_proba(cv_x_responseCoding)\n",
        "print('For values of best alpha = ', alpha[int(best_alpha/4)], \"The cross validation log loss is:\",log_loss(y_cv, predict_y, labels=clf.classes_, eps=1e-15))\n",
        "predict_y = sig_clf.predict_proba(test_x_responseCoding)\n",
        "print('For values of best alpha = ', alpha[int(best_alpha/4)], \"The test log loss is:\",log_loss(y_test, predict_y, labels=clf.classes_, eps=1e-15))"
      ],
      "execution_count": 61,
      "outputs": [
        {
          "output_type": "stream",
          "name": "stdout",
          "text": [
            "for n_estimators = 10 and max depth =  2\n",
            "Log Loss : 1.8968203996729054\n",
            "for n_estimators = 10 and max depth =  3\n",
            "Log Loss : 1.6553076856203786\n",
            "for n_estimators = 10 and max depth =  5\n",
            "Log Loss : 1.418567259478348\n",
            "for n_estimators = 10 and max depth =  10\n",
            "Log Loss : 1.6880123935986966\n",
            "for n_estimators = 50 and max depth =  2\n",
            "Log Loss : 1.5518334631246702\n",
            "for n_estimators = 50 and max depth =  3\n",
            "Log Loss : 1.3793099287842314\n",
            "for n_estimators = 50 and max depth =  5\n",
            "Log Loss : 1.2291005928944323\n",
            "for n_estimators = 50 and max depth =  10\n",
            "Log Loss : 1.5803200862307138\n",
            "for n_estimators = 100 and max depth =  2\n",
            "Log Loss : 1.4486988293682277\n",
            "for n_estimators = 100 and max depth =  3\n",
            "Log Loss : 1.3735509247467208\n",
            "for n_estimators = 100 and max depth =  5\n",
            "Log Loss : 1.2609124294534029\n",
            "for n_estimators = 100 and max depth =  10\n",
            "Log Loss : 1.587656349446128\n",
            "for n_estimators = 200 and max depth =  2\n",
            "Log Loss : 1.4606810714854874\n",
            "for n_estimators = 200 and max depth =  3\n",
            "Log Loss : 1.3389075814727\n",
            "for n_estimators = 200 and max depth =  5\n",
            "Log Loss : 1.3063549086734478\n",
            "for n_estimators = 200 and max depth =  10\n",
            "Log Loss : 1.630149012464713\n",
            "for n_estimators = 500 and max depth =  2\n",
            "Log Loss : 1.516681730553398\n",
            "for n_estimators = 500 and max depth =  3\n",
            "Log Loss : 1.4012931876845802\n",
            "for n_estimators = 500 and max depth =  5\n",
            "Log Loss : 1.3601751635416468\n",
            "for n_estimators = 500 and max depth =  10\n",
            "Log Loss : 1.6731456138200778\n",
            "for n_estimators = 1000 and max depth =  2\n",
            "Log Loss : 1.490957526829099\n",
            "for n_estimators = 1000 and max depth =  3\n",
            "Log Loss : 1.39828348886407\n",
            "for n_estimators = 1000 and max depth =  5\n",
            "Log Loss : 1.3315447111667302\n",
            "for n_estimators = 1000 and max depth =  10\n",
            "Log Loss : 1.6459004615469301\n",
            "For values of best alpha =  50 The train log loss is: 0.07417322336666703\n",
            "For values of best alpha =  50 The cross validation log loss is: 1.2291005928944323\n",
            "For values of best alpha =  50 The test log loss is: 1.2556375702568883\n"
          ]
        }
      ]
    },
    {
      "cell_type": "markdown",
      "metadata": {
        "id": "LOLhihFtOQ0d"
      },
      "source": [
        "<h3>Testing model with best hyper parameters (Response Coding)</h3>"
      ]
    },
    {
      "cell_type": "code",
      "metadata": {
        "id": "QHl1Yx72OQ0e",
        "colab": {
          "base_uri": "https://localhost:8080/",
          "height": 677
        },
        "outputId": "4ca39df1-f3b7-4a83-f51f-3b903efd9405"
      },
      "source": [
        "clf = RandomForestClassifier(max_depth=max_depth[int(best_alpha%4)], n_estimators=alpha[int(best_alpha/4)], criterion='gini', max_features='auto',random_state=42)\n",
        "predict_and_plot_confusion_matrix(train_x_responseCoding, train_y,cv_x_responseCoding,cv_y, clf)"
      ],
      "execution_count": 62,
      "outputs": [
        {
          "output_type": "stream",
          "name": "stdout",
          "text": [
            "Log loss : 1.2291005928944323\n",
            "Number of mis-classified points : 0.40225563909774437\n"
          ]
        },
        {
          "output_type": "display_data",
          "data": {
            "text/plain": [
              "<Figure size 1000x700 with 2 Axes>"
            ],
            "image/png": "[encoded data removed]"
          },
          "metadata": {}
        }
      ]
    },
    {
      "cell_type": "markdown",
      "metadata": {
        "id": "cVjD8P3FOQ0v"
      },
      "source": [
        "<h2>6. Stack the models </h2>"
      ]
    },
    {
      "cell_type": "markdown",
      "metadata": {
        "id": "lUGHi9VqOQ0x"
      },
      "source": [
        "<h3>Hyper parameter tuning</h3>"
      ]
    },
    {
      "cell_type": "code",
      "metadata": {
        "id": "11MwEoYjOQ0z",
        "colab": {
          "base_uri": "https://localhost:8080/"
        },
        "outputId": "bd3286f0-cd67-4849-ef0d-c9b005dab590"
      },
      "source": [
        "clf1 = SGDClassifier(alpha=0.001, penalty='l2', loss='log', class_weight='balanced', random_state=0)\n",
        "clf1.fit(train_x_onehotCoding, train_y)\n",
        "sig_clf1 = CalibratedClassifierCV(clf1, method=\"sigmoid\")\n",
        "\n",
        "clf2 = SGDClassifier(alpha=1, penalty='l2', loss='hinge', class_weight='balanced', random_state=0)\n",
        "clf2.fit(train_x_onehotCoding, train_y)\n",
        "sig_clf2 = CalibratedClassifierCV(clf2, method=\"sigmoid\")\n",
        "\n",
        "\n",
        "clf3 = MultinomialNB(alpha=0.001)\n",
        "clf3.fit(train_x_onehotCoding, train_y)\n",
        "sig_clf3 = CalibratedClassifierCV(clf3, method=\"sigmoid\")\n",
        "\n",
        "sig_clf1.fit(train_x_onehotCoding, train_y)\n",
        "print(\"Logistic Regression :  Log Loss: %0.2f\" % (log_loss(cv_y, sig_clf1.predict_proba(cv_x_onehotCoding))))\n",
        "sig_clf2.fit(train_x_onehotCoding, train_y)\n",
        "print(\"Support vector machines : Log Loss: %0.2f\" % (log_loss(cv_y, sig_clf2.predict_proba(cv_x_onehotCoding))))\n",
        "sig_clf3.fit(train_x_onehotCoding, train_y)\n",
        "print(\"Naive Bayes : Log Loss: %0.2f\" % (log_loss(cv_y, sig_clf3.predict_proba(cv_x_onehotCoding))))\n",
        "print(\"-\"*50)\n",
        "alpha = [0.0001,0.001,0.01,0.1,1,10]\n",
        "best_alpha = 999\n",
        "for i in alpha:\n",
        "    lr = LogisticRegression(C=i)\n",
        "    sclf = StackingClassifier(classifiers=[sig_clf1, sig_clf2, sig_clf3], meta_classifier=lr, use_probas=True)\n",
        "    sclf.fit(train_x_onehotCoding, train_y)\n",
        "    print(\"Stacking Classifer : for the value of alpha: %f Log Loss: %0.3f\" % (i, log_loss(cv_y, sclf.predict_proba(cv_x_onehotCoding))))\n",
        "    log_error =log_loss(cv_y, sclf.predict_proba(cv_x_onehotCoding))\n",
        "    if best_alpha > log_error:\n",
        "        best_alpha = log_error"
      ],
      "execution_count": 63,
      "outputs": [
        {
          "output_type": "stream",
          "name": "stdout",
          "text": [
            "Logistic Regression :  Log Loss: 1.15\n",
            "Support vector machines : Log Loss: 1.68\n",
            "Naive Bayes : Log Loss: 1.29\n",
            "--------------------------------------------------\n",
            "Stacking Classifer : for the value of alpha: 0.000100 Log Loss: 1.818\n",
            "Stacking Classifer : for the value of alpha: 0.001000 Log Loss: 1.720\n",
            "Stacking Classifer : for the value of alpha: 0.010000 Log Loss: 1.326\n",
            "Stacking Classifer : for the value of alpha: 0.100000 Log Loss: 1.201\n",
            "Stacking Classifer : for the value of alpha: 1.000000 Log Loss: 1.492\n",
            "Stacking Classifer : for the value of alpha: 10.000000 Log Loss: 1.797\n"
          ]
        }
      ]
    },
    {
      "cell_type": "markdown",
      "metadata": {
        "id": "iPBL4VxyOQ02"
      },
      "source": [
        "<h3>Testing the model with the best hyper parameters</h3>"
      ]
    },
    {
      "cell_type": "code",
      "metadata": {
        "id": "NBSFqbDhOQ03",
        "colab": {
          "base_uri": "https://localhost:8080/",
          "height": 712
        },
        "outputId": "6654acf8-5a15-4a4e-d77a-4b3872b6f3d2"
      },
      "source": [
        "lr = LogisticRegression(C=0.1)\n",
        "sclf = StackingClassifier(classifiers=[sig_clf1, sig_clf2, sig_clf3], meta_classifier=lr, use_probas=True)\n",
        "sclf.fit(train_x_onehotCoding, train_y)\n",
        "\n",
        "log_error = log_loss(train_y, sclf.predict_proba(train_x_onehotCoding))\n",
        "print(\"Log loss (train) on the stacking classifier :\",log_error)\n",
        "\n",
        "log_error = log_loss(cv_y, sclf.predict_proba(cv_x_onehotCoding))\n",
        "print(\"Log loss (CV) on the stacking classifier :\",log_error)\n",
        "\n",
        "log_error = log_loss(test_y, sclf.predict_proba(test_x_onehotCoding))\n",
        "print(\"Log loss (test) on the stacking classifier :\",log_error)\n",
        "\n",
        "print(\"Number of missclassified point :\", np.count_nonzero((sclf.predict(test_x_onehotCoding)- test_y))/test_y.shape[0])\n",
        "cm = confusion_matrix(test_y, sclf.predict(test_x_onehotCoding))\n",
        "plt.figure(figsize=(10, 7))\n",
        "sns.heatmap(cm, annot=True, fmt=\"d\", cmap=\"Blues\")\n",
        "plt.title('Confusion Matrix')\n",
        "plt.ylabel('Actual Labels')\n",
        "plt.xlabel('Predicted Labels')\n",
        "plt.show()"
      ],
      "execution_count": 64,
      "outputs": [
        {
          "output_type": "stream",
          "name": "stdout",
          "text": [
            "Log loss (train) on the stacking classifier : 0.4837425741129591\n",
            "Log loss (CV) on the stacking classifier : 1.2010572681048193\n",
            "Log loss (test) on the stacking classifier : 1.2277881497530723\n",
            "Number of missclassified point : 0.38345864661654133\n"
          ]
        },
        {
          "output_type": "display_data",
          "data": {
            "text/plain": [
              "<Figure size 1000x700 with 2 Axes>"
            ],
            "image/png": "[encoded data removed]"
          },
          "metadata": {}
        }
      ]
    },
    {
      "cell_type": "markdown",
      "metadata": {
        "id": "JWPDZ6BBOQ09"
      },
      "source": [
        "<h3>7. Maximum Voting classifier </h3>"
      ]
    },
    {
      "cell_type": "code",
      "metadata": {
        "id": "6JQHocgrOQ0-",
        "colab": {
          "base_uri": "https://localhost:8080/",
          "height": 712
        },
        "outputId": "16d4d520-2e68-42f3-cc05-cad975671819"
      },
      "source": [
        "#Refer:http://scikit-learn.org/stable/modules/generated/sklearn.ensemble.VotingClassifier.html\n",
        "from sklearn.ensemble import VotingClassifier\n",
        "vclf = VotingClassifier(estimators=[('lr', sig_clf1), ('svc', sig_clf2), ('rf', sig_clf3)], voting='soft')\n",
        "vclf.fit(train_x_onehotCoding, train_y)\n",
        "print(\"Log loss (train) on the VotingClassifier :\", log_loss(train_y, vclf.predict_proba(train_x_onehotCoding)))\n",
        "print(\"Log loss (CV) on the VotingClassifier :\", log_loss(cv_y, vclf.predict_proba(cv_x_onehotCoding)))\n",
        "print(\"Log loss (test) on the VotingClassifier :\", log_loss(test_y, vclf.predict_proba(test_x_onehotCoding)))\n",
        "print(\"Number of missclassified point :\", np.count_nonzero((vclf.predict(test_x_onehotCoding)- test_y))/test_y.shape[0])\n",
        "cm = confusion_matrix(test_y, vclf.predict(test_x_onehotCoding))\n",
        "plt.figure(figsize=(10, 7))\n",
        "sns.heatmap(cm, annot=True, fmt=\"d\", cmap=\"Blues\")\n",
        "plt.title('Confusion Matrix')\n",
        "plt.ylabel('Actual Labels')\n",
        "plt.xlabel('Predicted Labels')\n",
        "plt.show()"
      ],
      "execution_count": 65,
      "outputs": [
        {
          "output_type": "stream",
          "name": "stdout",
          "text": [
            "Log loss (train) on the VotingClassifier : 0.8467213679491344\n",
            "Log loss (CV) on the VotingClassifier : 1.2175223937189474\n",
            "Log loss (test) on the VotingClassifier : 1.2044863025577164\n",
            "Number of missclassified point : 0.3924812030075188\n"
          ]
        },
        {
          "output_type": "display_data",
          "data": {
            "text/plain": [
              "<Figure size 1000x700 with 2 Axes>"
            ],
            "image/png": "[encoded data removed]"
          },
          "metadata": {}
        }
      ]
    },
    {
      "cell_type": "code",
      "source": [
        "from prettytable import PrettyTable\n",
        "x = PrettyTable()\n",
        "x.field_names = [\"S.No.\", \"Count Vectorizer + Model\", \"Best hyp\", \"Train\", \"CV\", \"Test\"]\n",
        "x.add_row([\"1\", \"Naïve Bayes\", \"1\", \"0.90\", \"1.24\", \"1.25\"])\n",
        "x.add_row([\"2\", \"K-Nearest Neighbour\", \"5\", \"0.46\", \"1.04\", \"1.00\"])\n",
        "x.add_row([\"3\", \"LR + Balancing\", \"0.001\", \"0.51\", \"1.05\", \"1.05\"])\n",
        "x.add_row([\"4\", \"Linear SVM + Balancing\", \"0.001\", \"0.53\", \"1.09\", \"1.12\"])\n",
        "x.add_row([\"5\", \"Random Forest Classifier + One Hot Encoding\", \"2000\", \"0.69\", \"1.14\", \"1.10\"])\n",
        "x.add_row([\"6\", \"Random Forest Classifier + Response Encoding\", \"50\", \"0.18\", \"1.32\", \"1.25\"])\n",
        "x.add_row([\"7\", \"Stacking Classifier\", \"NA\", \"0.48\", \"1.12\", \"1.12\"])\n",
        "x.add_row([\"8\", \"Maximum Voting Classifier\", \"NA\", \"0.85\", \"1.17\", \"1.18\"])\n",
        "print(x)"
      ],
      "metadata": {
        "id": "Kr68_uhKYCiZ",
        "colab": {
          "base_uri": "https://localhost:8080/"
        },
        "outputId": "bbb60871-e69c-4648-b86f-52f04d5caeea"
      },
      "execution_count": 66,
      "outputs": [
        {
          "output_type": "stream",
          "name": "stdout",
          "text": [
            "+-------+----------------------------------------------+----------+-------+------+------+\n",
            "| S.No. |           Count Vectorizer + Model           | Best hyp | Train |  CV  | Test |\n",
            "+-------+----------------------------------------------+----------+-------+------+------+\n",
            "|   1   |                 Naïve Bayes                  |    1     |  0.90 | 1.24 | 1.25 |\n",
            "|   2   |             K-Nearest Neighbour              |    5     |  0.46 | 1.04 | 1.00 |\n",
            "|   3   |                LR + Balancing                |  0.001   |  0.51 | 1.05 | 1.05 |\n",
            "|   4   |            Linear SVM + Balancing            |  0.001   |  0.53 | 1.09 | 1.12 |\n",
            "|   5   | Random Forest Classifier + One Hot Encoding  |   2000   |  0.69 | 1.14 | 1.10 |\n",
            "|   6   | Random Forest Classifier + Response Encoding |    50    |  0.18 | 1.32 | 1.25 |\n",
            "|   7   |             Stacking Classifier              |    NA    |  0.48 | 1.12 | 1.12 |\n",
            "|   8   |          Maximum Voting Classifier           |    NA    |  0.85 | 1.17 | 1.18 |\n",
            "+-------+----------------------------------------------+----------+-------+------+------+\n"
          ]
        }
      ]
    },
    {
      "cell_type": "markdown",
      "source": [
        "Key observations:\n",
        "\n",
        "1. **Naïve Bayes**:\n",
        "   - Achieved the lowest log loss on both the training and cross-validation sets.\n",
        "   - Slight increase in log loss on the test set, indicating some generalization loss but still performs reasonably well.\n",
        "\n",
        "2. **K-Nearest Neighbour (KNN)**:\n",
        "   - Demonstrates overfitting as there is a significant increase in log loss from the training to the cross-validation and test sets.\n",
        "   - Performance deteriorates considerably on the test set.\n",
        "\n",
        "3. **Logistic Regression (LR)**:\n",
        "   - LR with and without balancing the classes shows similar performance.\n",
        "   - Log loss is slightly higher compared to Naïve Bayes but still reasonable.\n",
        "\n",
        "4. **Linear SVM**:\n",
        "   - Shows decent performance but slightly worse compared to LR and Naïve Bayes.\n",
        "   - Notable increase in log loss on the test set, indicating some overfitting or generalization issues.\n",
        "\n",
        "5. **Random Forest Classifier**:\n",
        "   - Two variations were tried: with One Hot Encoding and with Response Encoding.\n",
        "   - Both versions show reasonable performance, but Response Encoding seems to perform slightly worse.\n",
        "   - Both versions exhibit some overfitting as there's a noticeable increase in log loss from the training to the test set.\n",
        "\n",
        "6. **Stacking Classifier** and **Maximum Voting Classifier**:\n",
        "   - These ensemble methods show competitive performance.\n",
        "   - Maximum Voting Classifier performs slightly better than Stacking Classifier.\n",
        "\n",
        "**Conclusion**:\n",
        "- Naïve Bayes seems to be the best-performing classifier overall, with the lowest log loss across all sets.\n"
      ],
      "metadata": {
        "id": "TvwK2AJ3tFCn"
      }
    }
  ]
}